{
 "cells": [
  {
   "cell_type": "code",
   "execution_count": 1,
   "id": "f7d044ff-63d9-458f-9133-856b140afd11",
   "metadata": {},
   "outputs": [
    {
     "name": "stderr",
     "output_type": "stream",
     "text": [
      "2025-10-14 11:00:19,569 - INFO - CUDA available: 3085 MB free / 3906 MB total\n",
      "2025-10-14 11:00:19,569 - INFO - ⚠️ Not enough free CUDA memory (3085 MB). Falling back to CPU.\n"
     ]
    },
    {
     "name": "stdout",
     "output_type": "stream",
     "text": [
      "Module seagall.base_dataset has been imported DEVICE --> cpu\n"
     ]
    }
   ],
   "source": [
    "import seagall as sgl\n",
    "import pandas as pd\n",
    "import scanpy as sc\n",
    "import matplotlib.pyplot as plt\n",
    "import distinctipy\n",
    "%matplotlib inline"
   ]
  },
  {
   "cell_type": "code",
   "execution_count": 2,
   "id": "086db18b-10e9-429b-8144-7e00801d91bc",
   "metadata": {},
   "outputs": [
    {
     "data": {
      "text/plain": [
       "View of AnnData object with n_obs × n_vars = 250 × 250\n",
       "    obs: 'CellType'"
      ]
     },
     "execution_count": 2,
     "metadata": {},
     "output_type": "execute_result"
    }
   ],
   "source": [
    "adata=sc.read_h5ad(\"MouseBrain_GEX.h5ad\")[:250, :250]\n",
    "adata"
   ]
  },
  {
   "cell_type": "code",
   "execution_count": null,
   "id": "f2fb6f3f-17f7-40dc-a723-5074a33a2242",
   "metadata": {
    "scrolled": true
   },
   "outputs": [
    {
     "name": "stderr",
     "output_type": "stream",
     "text": [
      "2025-10-14 11:00:27,844 - INFO - Fitting GRAE\n",
      "2025-10-14 11:00:27,845 - INFO - Fitting manifold learning method...\n"
     ]
    },
    {
     "name": "stdout",
     "output_type": "stream",
     "text": [
      "Calculating PHATE...\n",
      "  Running PHATE on 213 observations and 250 variables.\n",
      "  Calculating graph and diffusion operator...\n",
      "    Calculating PCA...\n",
      "    Calculated PCA in 0.23 seconds.\n",
      "    Calculating KNN search...\n",
      "    Calculated KNN search in 0.01 seconds.\n",
      "    Calculating affinities...\n",
      "    Calculated affinities in 0.07 seconds.\n",
      "  Calculated graph and diffusion operator in 0.33 seconds.\n",
      "  Calculating optimal t...\n",
      "    Automatically selected t = 20\n",
      "  Calculated optimal t in 0.02 seconds.\n",
      "  Calculating diffusion potential...\n",
      "  Calculated diffusion potential in 0.03 seconds.\n",
      "  Calculating metric MDS...\n",
      "  Calculated metric MDS in 0.33 seconds.\n",
      "Calculated PHATE in 0.72 seconds.\n"
     ]
    },
    {
     "name": "stderr",
     "output_type": "stream",
     "text": [
      "2025-10-14 11:00:28,577 - INFO - Fitting encoder & decoder...\n",
      "2025-10-14 11:00:28,824 - INFO - Epoch 10...\n",
      "2025-10-14 11:00:29,024 - INFO - Epoch 20...\n",
      "2025-10-14 11:00:29,211 - INFO - Epoch 30...\n",
      "2025-10-14 11:00:29,393 - INFO - Epoch 40...\n",
      "2025-10-14 11:00:29,595 - INFO - Epoch 50...\n",
      "2025-10-14 11:00:29,615 - INFO - Model has been early stopped at epoch 50\n"
     ]
    }
   ],
   "source": [
    "sgl.ee.geometrical_graph(adata, target_label=\"CellType\", path=\"SEAGALL\")"
   ]
  },
  {
   "cell_type": "code",
   "execution_count": null,
   "id": "c9200d74-376f-4c23-bbd7-167e88137c12",
   "metadata": {},
   "outputs": [],
   "source": [
    "adata"
   ]
  },
  {
   "cell_type": "code",
   "execution_count": 5,
   "id": "950733a0-c9c2-48f0-96dc-0f62d2112fc5",
   "metadata": {
    "scrolled": true
   },
   "outputs": [
    {
     "name": "stderr",
     "output_type": "stream",
     "text": [
      "2025-09-11 09:10:22,714 - INFO - Thu Sep 11 09:10:22 2025 Checking for HPO file\n",
      "2025-09-11 09:10:22,716 - INFO - Thu Sep 11 09:10:22 2025 Loading existing HPO results\n",
      "2025-09-11 09:10:22,717 - INFO - Best lr: 0.010376572558743613\n",
      "2025-09-11 09:10:22,718 - INFO - Best weight_decay: 0.001189744697489247\n",
      "2025-09-11 09:10:22,719 - INFO - Best dim_h: 96\n",
      "2025-09-11 09:10:22,719 - INFO - Best heads: 15\n",
      "2025-09-11 09:10:22,720 - INFO - Best dropout: 0.30000000000000004\n",
      "2025-09-11 09:10:22,720 - INFO - Thu Sep 11 09:10:22 2025 Creating dataset\n",
      "2025-09-11 09:10:22,721 - INFO - Creating pyg dataset based on AnnData object with target label 'CellType' and GRAE's graph. Using 100% of the cells\n",
      "2025-09-11 09:10:22,804 - INFO - Thu Sep 11 09:10:22 2025 Training model\n",
      "2025-09-11 09:10:22,872 - INFO - Epoch 001: New best val F1 = 0.0000, model saved.\n",
      "2025-09-11 09:10:22,939 - INFO - Epoch 002: New best val F1 = 0.2875, model saved.\n",
      "2025-09-11 09:10:23,059 - INFO - Epoch 004: New best val F1 = 0.3095, model saved.\n",
      "2025-09-11 09:10:23,299 - INFO - Epoch 008: New best val F1 = 0.3333, model saved.\n",
      "2025-09-11 09:10:24,394 - INFO - Early stopping at epoch 028. Best val F1 = 0.3333\n",
      "2025-09-11 09:10:24,398 - INFO - Thu Sep 11 09:10:24 2025 Predicting and annotating\n",
      "2025-09-11 09:10:24,410 - INFO - Thu Sep 11 09:10:24 2025 Running GNNExplainer\n",
      "2025-09-11 09:10:31,233 - INFO - Thu Sep 11 09:10:31 2025 Pipeline complete\n"
     ]
    }
   ],
   "source": [
    "sgl.ee.explain(adata, target_label=\"CellType\", path=\"SEAGALL\", hypopt=0.25)"
   ]
  },
  {
   "cell_type": "code",
   "execution_count": 6,
   "id": "e1d6dd14-761c-4eae-9062-980f895acec8",
   "metadata": {},
   "outputs": [
    {
     "data": {
      "text/plain": [
       "AnnData object with n_obs × n_vars = 100 × 100\n",
       "    obs: 'CellType', 'target', 'SEAGALL_prediction', 'SEAGALL_set'\n",
       "    var: 'SEAGALL_Importance_for_Deeper_Layer', 'SEAGALL_Importance_for_Ependymal_cells', 'SEAGALL_Importance_for_IPC', 'SEAGALL_Importance_for_RG_Astro_OPC', 'SEAGALL_Importance_for_Subplate', 'SEAGALL_Importance_for_Upper_Layer', 'SEAGALL_Importance_for_V_SVZ'\n",
       "    uns: 'map', 'inv_map'\n",
       "    obsm: 'GRAE_latent_space'\n",
       "    layers: 'SEAGALL_Importance'\n",
       "    obsp: 'GRAE_graph'"
      ]
     },
     "execution_count": 6,
     "metadata": {},
     "output_type": "execute_result"
    }
   ],
   "source": [
    "adata"
   ]
  },
  {
   "cell_type": "code",
   "execution_count": null,
   "id": "51e8607d-e7d7-496f-bc93-caa24fdaa080",
   "metadata": {},
   "outputs": [],
   "source": []
  },
  {
   "cell_type": "code",
   "execution_count": null,
   "id": "a63053d8-764a-4891-962b-d385b10218a2",
   "metadata": {},
   "outputs": [],
   "source": [
    "colors = distinctipy.get_colors(len(set(adata.obs.CellType)))\n",
    "gts = {gt : color for gt, ct in zip(sorted(list(set(adata.obs.CellType))), colors)}\n",
    "for key, value in gts:\n",
    "    plt.scatter(x=range(0, len(adata.var)), y=sorted(adata.var[f\"SEAGALL_Importance_for_{ct}\"])[::-1], c=colors[i])\n",
    "plt.xscale(\"Rank\")\n",
    "plt.yscale(\"Importance\")\n",
    "plt.xscale(\"log\")\n",
    "plt.yscale(\"log\")"
   ]
  },
  {
   "cell_type": "code",
   "execution_count": null,
   "id": "39d7a855-5d55-4047-9819-5081f8ba8670",
   "metadata": {},
   "outputs": [],
   "source": []
  },
  {
   "cell_type": "code",
   "execution_count": null,
   "id": "b1b8d231-f15b-42e8-ac1f-c86261ab84e0",
   "metadata": {},
   "outputs": [],
   "source": []
  },
  {
   "cell_type": "code",
   "execution_count": null,
   "id": "bba0037c-aa2a-4fe0-9ce9-dd0c7af379fe",
   "metadata": {},
   "outputs": [],
   "source": []
  },
  {
   "cell_type": "code",
   "execution_count": null,
   "id": "76d78e89-f587-41ee-9671-9909058965d8",
   "metadata": {},
   "outputs": [],
   "source": []
  },
  {
   "cell_type": "code",
   "execution_count": null,
   "id": "e18c99b3-6557-44f2-8e45-c1a56288ec60",
   "metadata": {},
   "outputs": [],
   "source": []
  },
  {
   "cell_type": "code",
   "execution_count": null,
   "id": "901adb97-7a21-4582-83b2-d0e7adfce9b3",
   "metadata": {},
   "outputs": [],
   "source": []
  },
  {
   "cell_type": "code",
   "execution_count": null,
   "id": "3296e22a-1bf8-4d8b-8985-be930560f93b",
   "metadata": {},
   "outputs": [],
   "source": []
  },
  {
   "cell_type": "code",
   "execution_count": null,
   "id": "6ec55885-5e21-4553-8689-65e9a8a16615",
   "metadata": {},
   "outputs": [],
   "source": []
  },
  {
   "cell_type": "code",
   "execution_count": null,
   "id": "f14fd949-bbbd-4405-93e0-0a08b98b8cd4",
   "metadata": {},
   "outputs": [],
   "source": []
  },
  {
   "cell_type": "code",
   "execution_count": null,
   "id": "4900a62e-5bc6-46db-98ff-545d7223c185",
   "metadata": {},
   "outputs": [],
   "source": []
  },
  {
   "cell_type": "code",
   "execution_count": null,
   "id": "6966b791-efac-4452-b71d-3883fce925ee",
   "metadata": {},
   "outputs": [],
   "source": []
  },
  {
   "cell_type": "code",
   "execution_count": null,
   "id": "595049b4-e9be-461b-b59c-27dc1960a0da",
   "metadata": {},
   "outputs": [],
   "source": []
  },
  {
   "cell_type": "code",
   "execution_count": null,
   "id": "03965d8c-6f8c-4c74-b793-23c32f7dde3b",
   "metadata": {
    "scrolled": true
   },
   "outputs": [],
   "source": [
    "adata=sc.read_h5ad(\"Test_Def.h5ad\")\n",
    "label=\"CellType\"\n",
    "adata"
   ]
  },
  {
   "cell_type": "code",
   "execution_count": null,
   "id": "6144e3b2-32de-4df0-93e6-93eaba00f869",
   "metadata": {},
   "outputs": [],
   "source": [
    "mydata = sgl.mlu.create_pyg_dataset(adata, label)\n",
    "mydata = torch_geometric.transforms.RandomNodeSplit(num_val=0.15, num_test=0.15)(mydata)"
   ]
  },
  {
   "cell_type": "code",
   "execution_count": null,
   "id": "116bded1-432b-4a0b-bbb7-025f2c6893a6",
   "metadata": {},
   "outputs": [],
   "source": [
    "model = sgl.mlu.GAT(n_feats=mydata.num_features, n_classes=mydata.num_classes).to(device)\n",
    "optimizer_model = torch.optim.Adam(model.parameters(), lr=1e-3, weight_decay=1e-3)\n",
    "class_weights = sklearn.utils.class_weight.compute_class_weight(class_weight='balanced',classes=np.unique(mydata.y), y=mydata.y.numpy())\n",
    "criterion = torch.nn.CrossEntropyLoss(weight=torch.tensor(class_weights, dtype=torch.float), reduction=\"mean\")\n",
    "model, history = sgl.mlu.GAT_train_node_classifier(model, mydata, optimizer_model, criterion, \"TEMP.pth\", epochs=30, patience=5)"
   ]
  },
  {
   "cell_type": "code",
   "execution_count": null,
   "id": "97fe956b-a074-4bd3-9eb4-63c33d8b1dc3",
   "metadata": {},
   "outputs": [],
   "source": [
    "adata.uns[\"GAT_history\"]=history"
   ]
  },
  {
   "cell_type": "code",
   "execution_count": null,
   "id": "e04c7baf-d17e-41d8-a8af-b65eae1a2a5d",
   "metadata": {},
   "outputs": [],
   "source": [
    "model.eval()\n",
    "pred = model(mydata.x, mydata.edge_index).argmax(dim=1)\n",
    "\n",
    "adata.obs[\"SEAGALL_set\"] = \"--\"\n",
    "adata.obs[\"SEAGALL_prediction\"] = [adata.uns[\"inv_map\"][str(num)] for num in list(pred.cpu().detach().numpy())]\n",
    "adata.obs.loc[mydata.train_mask.cpu().detach().numpy(),\"SEAGALL_set\"] = \"Train\"\n",
    "adata.obs.loc[mydata.val_mask.cpu().detach().numpy(),\"SEAGALL_set\"] = \"Validation\"\n",
    "adata.obs.loc[mydata.test_mask.cpu().detach().numpy(),\"SEAGALL_set\"] = \"Test\""
   ]
  },
  {
   "cell_type": "code",
   "execution_count": null,
   "id": "81eb2dd5-2db1-4b1c-9759-a89f208d038d",
   "metadata": {},
   "outputs": [],
   "source": [
    "explainer = torch_geometric.explain.Explainer(\n",
    "            model=model,\n",
    "            algorithm=torch_geometric.explain.GNNExplainer(epochs=30),\n",
    "            explanation_type='model',\n",
    "            node_mask_type='attributes',\n",
    "            edge_mask_type='object',\n",
    "            model_config=dict(mode='multiclass_classification', task_level='node', return_type='probs'))"
   ]
  },
  {
   "cell_type": "code",
   "execution_count": null,
   "id": "7b192389-2539-49fc-89ff-c504f408d991",
   "metadata": {},
   "outputs": [],
   "source": [
    "adata.layers[\"Importance\"]=scipy.sparse.csr_matrix(explainer(x=mydata.x, edge_index=mydata.edge_index).node_mask.numpy(), dtype=\"float32\")"
   ]
  },
  {
   "cell_type": "code",
   "execution_count": null,
   "id": "546127b7-8709-4073-aafb-91a26eb7f419",
   "metadata": {
    "scrolled": true
   },
   "outputs": [],
   "source": [
    "for gt in sorted(set(adata.obs[label])):\n",
    "    imps = np.array(adata[adata.obs[label]==gt].layers[\"Importance\"].mean(axis=0)).reshape(adata.shape[1], )\n",
    "    adata.var[f\"Importance_for_{gt}\"] = imps"
   ]
  },
  {
   "cell_type": "code",
   "execution_count": null,
   "id": "dd5502da-da2a-45b7-a7f4-d624d48d6d56",
   "metadata": {},
   "outputs": [],
   "source": [
    "n_feat=50\n",
    "gts = sorted(set(adata.obs[label]))\n",
    "jc = pd.DataFrame(index=gts, columns=gts)\n",
    "for gti in gts:\n",
    "    for gtj in gts[gts.index(gti)+1:]:\n",
    "        fsi = adata[adata.obs[label]==gti].var[f\"Importance_for_{gti}\"].sort_values()[::-1][:int(n_feat)].index\n",
    "        fsj = adata[adata.obs[label]==gtj].var[f\"Importance_for_{gtj}\"].sort_values()[::-1][:int(n_feat)].index\n",
    "        jc.at[gti, gtj] = len(sgl.ut.intersection([fsi, fsj]))/len(sgl.ut.flat_list([fsi, fsj]))"
   ]
  },
  {
   "cell_type": "code",
   "execution_count": null,
   "id": "f1a9a101-49f2-44af-8c10-4fa6f5c4fbdf",
   "metadata": {},
   "outputs": [],
   "source": [
    "adata.uns[f\"SEAGALL_Top_{n_feat}_Specificty\"]=jc.values.astype()"
   ]
  },
  {
   "cell_type": "code",
   "execution_count": null,
   "id": "1ae29c24-1068-473b-89a4-10c25b1d4114",
   "metadata": {},
   "outputs": [],
   "source": [
    "adata"
   ]
  },
  {
   "cell_type": "code",
   "execution_count": null,
   "id": "4b165f01-b3d8-46fb-ba9c-ce3795b73438",
   "metadata": {},
   "outputs": [],
   "source": [
    "adata.write(\"Test_Def_All.h5ad\", compression=\"gzip\")"
   ]
  },
  {
   "cell_type": "code",
   "execution_count": null,
   "id": "05b4989a-26ea-46e5-beba-e5c0945a3ebf",
   "metadata": {},
   "outputs": [],
   "source": []
  },
  {
   "cell_type": "code",
   "execution_count": null,
   "id": "66a49cc1-b3cf-4575-b5cb-802300b86df5",
   "metadata": {},
   "outputs": [],
   "source": [
    "pd.DataFrame.from_dict(adata.uns[\"GAT_history\"]).melt()"
   ]
  }
 ],
 "metadata": {
  "kernelspec": {
   "display_name": "Python 3 (ipykernel)",
   "language": "python",
   "name": "python3"
  },
  "language_info": {
   "codemirror_mode": {
    "name": "ipython",
    "version": 3
   },
   "file_extension": ".py",
   "mimetype": "text/x-python",
   "name": "python",
   "nbconvert_exporter": "python",
   "pygments_lexer": "ipython3",
   "version": "3.10.13"
  }
 },
 "nbformat": 4,
 "nbformat_minor": 5
}
