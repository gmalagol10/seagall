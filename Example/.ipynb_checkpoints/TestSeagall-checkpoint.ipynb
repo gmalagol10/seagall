{
 "cells": [
  {
   "cell_type": "code",
   "execution_count": 1,
   "id": "f7d044ff-63d9-458f-9133-856b140afd11",
   "metadata": {},
   "outputs": [],
   "source": [
    "import seagall as sgl\n",
    "import pandas as pd\n",
    "import scanpy as sc"
   ]
  },
  {
   "cell_type": "code",
   "execution_count": 14,
   "id": "086db18b-10e9-429b-8144-7e00801d91bc",
   "metadata": {},
   "outputs": [
    {
     "data": {
      "text/plain": [
       "AnnData object with n_obs × n_vars = 2488 × 2237\n",
       "    obs: 'CellType'"
      ]
     },
     "execution_count": 14,
     "metadata": {},
     "output_type": "execute_result"
    }
   ],
   "source": [
    "adata=sc.read_h5ad(\"MouseBrain_GEX.h5ad\")\n",
    "adata"
   ]
  },
  {
   "cell_type": "code",
   "execution_count": 15,
   "id": "f2fb6f3f-17f7-40dc-a723-5074a33a2242",
   "metadata": {},
   "outputs": [
    {
     "name": "stdout",
     "output_type": "stream",
     "text": [
      "Fitting GRAE\n",
      "       Fitting GRAE...\n",
      "           Fitting manifold learning embedding...\n",
      "           Fitting encoder & decoder...\n"
     ]
    }
   ],
   "source": [
    "sgl.ee.geometrical_graph(adata, target_label=\"CellType\", path=\"SEAGALL\")"
   ]
  },
  {
   "cell_type": "code",
   "execution_count": 16,
   "id": "c9200d74-376f-4c23-bbd7-167e88137c12",
   "metadata": {},
   "outputs": [
    {
     "data": {
      "text/plain": [
       "AnnData object with n_obs × n_vars = 2488 × 2237\n",
       "    obs: 'CellType', 'target'\n",
       "    uns: 'map', 'inv_map'\n",
       "    obsm: 'GRAE_latent_space'\n",
       "    layers: 'GRAE_decoded_matrix'\n",
       "    obsp: 'GRAE_graph'"
      ]
     },
     "execution_count": 16,
     "metadata": {},
     "output_type": "execute_result"
    }
   ],
   "source": [
    "adata"
   ]
  },
  {
   "cell_type": "code",
   "execution_count": 18,
   "id": "0ba45c97-aedc-4df4-8895-35a17e2dc088",
   "metadata": {},
   "outputs": [],
   "source": [
    "adata.write(\"MouseBrain_GEX_Step1.h5ad\", compression=\"gzip\")"
   ]
  },
  {
   "cell_type": "code",
   "execution_count": 13,
   "id": "bb40a729-c321-41e2-9884-192d5d116864",
   "metadata": {},
   "outputs": [],
   "source": []
  },
  {
   "cell_type": "code",
   "execution_count": 19,
   "id": "d31c2ab9-9ea6-4873-8189-e923665c6324",
   "metadata": {},
   "outputs": [
    {
     "data": {
      "text/plain": [
       "AnnData object with n_obs × n_vars = 2488 × 2237\n",
       "    obs: 'CellType', 'target'\n",
       "    uns: 'inv_map', 'map'\n",
       "    obsm: 'GRAE_latent_space'\n",
       "    layers: 'GRAE_decoded_matrix'\n",
       "    obsp: 'GRAE_graph'"
      ]
     },
     "execution_count": 19,
     "metadata": {},
     "output_type": "execute_result"
    }
   ],
   "source": [
    "adata=sc.read_h5ad(\"MouseBrain_GEX_Step1.h5ad\")\n",
    "adata"
   ]
  },
  {
   "cell_type": "code",
   "execution_count": null,
   "id": "950733a0-c9c2-48f0-96dc-0f62d2112fc5",
   "metadata": {
    "scrolled": true
   },
   "outputs": [
    {
     "name": "stdout",
     "output_type": "stream",
     "text": [
      "Wed, 09 Apr 2025 17:39:52 Looking for HPO file\n",
      "Wed, 09 Apr 2025 17:39:52 No HPO .json found --> Running HPO using 25% of the cells\n",
      "Creating pyg dataset based on AnnData object with target label CellType and GRAE's graph. Using 25% of the cells\n"
     ]
    },
    {
     "name": "stderr",
     "output_type": "stream",
     "text": [
      "[I 2025-04-09 17:39:52,962] A new study created in RDB with name: SEAGALL/SEAGALL_mymodel_CellType_HPO\n"
     ]
    },
    {
     "name": "stdout",
     "output_type": "stream",
     "text": [
      "Epoch 10 | Validation loss 1.750 | Validation F1 0.387\n",
      "Epoch 10 | Validation loss 1.631 | Validation F1 0.360\n",
      "Epoch 10 | Validation loss 5.291 | Validation F1 0.260\n",
      "Epoch 10 | Validation loss 1.432 | Validation F1 0.383\n",
      "Epoch 10 | Validation loss 1.494 | Validation F1 0.317\n",
      "Epoch 20 | Validation loss 1.400 | Validation F1 0.500\n",
      "Epoch 20 | Validation loss 1.545 | Validation F1 0.352\n",
      "Epoch 20 | Validation loss 4.855 | Validation F1 0.272\n",
      "Epoch 20 | Validation loss 1.884 | Validation F1 0.272\n",
      "Epoch 20 | Validation loss 1.758 | Validation F1 0.352\n",
      "Epoch 30 | Validation loss 1.472 | Validation F1 0.500\n",
      "Epoch 30 | Validation loss 1.650 | Validation F1 0.352\n",
      "Epoch 30 | Validation loss 2.057 | Validation F1 0.302\n",
      "Epoch 30 | Validation loss 4.033 | Validation F1 0.272\n",
      "Epoch 30 | Validation loss 1.933 | Validation F1 0.333\n",
      "Epoch 40 | Validation loss 1.462 | Validation F1 0.411\n",
      "Epoch 40 | Validation loss 1.658 | Validation F1 0.352\n",
      "Epoch 40 | Validation loss 2.976 | Validation F1 0.318\n",
      "Epoch 40 | Validation loss 2.058 | Validation F1 0.333\n",
      "Epoch 40 | Validation loss 1.949 | Validation F1 0.333\n",
      "Epoch 50 | Validation loss 1.445 | Validation F1 0.411\n",
      "Epoch 50 | Validation loss 1.635 | Validation F1 0.368\n",
      "Epoch 50 | Validation loss 2.373 | Validation F1 0.411\n",
      "Epoch 50 | Validation loss 2.015 | Validation F1 0.333\n",
      "Epoch 50 | Validation loss 1.928 | Validation F1 0.411\n",
      "Epoch 60 | Validation loss 1.441 | Validation F1 0.411\n",
      "Epoch 60 | Validation loss 1.590 | Validation F1 0.411\n",
      "Epoch 60 | Validation loss 1.963 | Validation F1 0.333\n",
      "Epoch 70 | Validation loss 1.439 | Validation F1 0.411\n",
      "Epoch 60 | Validation loss 2.098 | Validation F1 0.411\n",
      "Epoch 60 | Validation loss 1.897 | Validation F1 0.411\n",
      "Epoch 70 | Validation loss 1.553 | Validation F1 0.411\n",
      "Epoch 70 | Validation loss 1.908 | Validation F1 0.411\n",
      "Epoch 80 | Validation loss 1.460 | Validation F1 0.411\n",
      "Epoch 70 | Validation loss 1.816 | Validation F1 0.411\n",
      "Epoch 70 | Validation loss 1.862 | Validation F1 0.411\n",
      "Epoch 80 | Validation loss 1.525 | Validation F1 0.411\n",
      "Epoch 80 | Validation loss 1.855 | Validation F1 0.411\n",
      "Epoch 90 | Validation loss 1.455 | Validation F1 0.411\n",
      "Epoch 80 | Validation loss 1.706 | Validation F1 0.500\n",
      "Epoch 80 | Validation loss 1.827 | Validation F1 0.411\n",
      "Epoch 90 | Validation loss 1.505 | Validation F1 0.411\n",
      "Epoch 90 | Validation loss 1.808 | Validation F1 0.411\n",
      "Epoch 100 | Validation loss 1.442 | Validation F1 0.411\n"
     ]
    },
    {
     "name": "stderr",
     "output_type": "stream",
     "text": [
      "[I 2025-04-09 17:40:04,329] Trial 2 finished with value: 0.41111111111111115 and parameters: {'lr': 0.0542905284863497, 'weight_decay': 0.09960399453736453, 'dim_h': 64, 'heads': 5, 'dropout': 0.6}. Best is trial 2 with value: 0.41111111111111115.\n"
     ]
    },
    {
     "name": "stdout",
     "output_type": "stream",
     "text": [
      "Epoch 90 | Validation loss 1.659 | Validation F1 0.500\n",
      "Epoch 100 | Validation loss 1.490 | Validation F1 0.411\n"
     ]
    },
    {
     "name": "stderr",
     "output_type": "stream",
     "text": [
      "[I 2025-04-09 17:40:05,113] Trial 4 finished with value: 0.41111111111111115 and parameters: {'lr': 0.0005673725715259621, 'weight_decay': 0.011935447391938456, 'dim_h': 384, 'heads': 3, 'dropout': 0.2}. Best is trial 2 with value: 0.41111111111111115.\n"
     ]
    },
    {
     "name": "stdout",
     "output_type": "stream",
     "text": [
      "Epoch 90 | Validation loss 1.795 | Validation F1 0.411\n",
      "Epoch 100 | Validation loss 1.772 | Validation F1 0.411\n"
     ]
    },
    {
     "name": "stderr",
     "output_type": "stream",
     "text": [
      "[I 2025-04-09 17:40:05,706] Trial 0 finished with value: 0.41111111111111115 and parameters: {'lr': 0.001153635909424752, 'weight_decay': 0.0014861993695046418, 'dim_h': 320, 'heads': 3, 'dropout': 0.1}. Best is trial 0 with value: 0.41111111111111115.\n"
     ]
    },
    {
     "name": "stdout",
     "output_type": "stream",
     "text": [
      "Epoch 100 | Validation loss 1.633 | Validation F1 0.500\n"
     ]
    },
    {
     "name": "stderr",
     "output_type": "stream",
     "text": [
      "[I 2025-04-09 17:40:06,424] Trial 1 finished with value: 0.5 and parameters: {'lr': 0.010376572558743613, 'weight_decay': 0.001189744697489247, 'dim_h': 96, 'heads': 15, 'dropout': 0.30000000000000004}. Best is trial 1 with value: 0.5.\n"
     ]
    },
    {
     "name": "stdout",
     "output_type": "stream",
     "text": [
      "Epoch 10 | Validation loss 2.645 | Validation F1 0.302\n",
      "Epoch 100 | Validation loss 1.766 | Validation F1 0.411Epoch 10 | Validation loss 1.563 | Validation F1 0.383\n",
      "\n"
     ]
    },
    {
     "name": "stderr",
     "output_type": "stream",
     "text": [
      "[I 2025-04-09 17:40:07,078] Trial 3 finished with value: 0.41111111111111115 and parameters: {'lr': 0.0007929538502473341, 'weight_decay': 0.0008248799686638161, 'dim_h': 256, 'heads': 7, 'dropout': 0.2}. Best is trial 1 with value: 0.5.\n"
     ]
    },
    {
     "name": "stdout",
     "output_type": "stream",
     "text": [
      "Epoch 10 | Validation loss 1.885 | Validation F1 0.318\n"
     ]
    },
    {
     "name": "stderr",
     "output_type": "stream",
     "text": [
      "[I 2025-04-09 17:40:07,641] Trial 9 pruned. \n",
      "[I 2025-04-09 17:40:07,857] Trial 8 pruned. \n",
      "[I 2025-04-09 17:40:08,337] Trial 11 pruned. \n"
     ]
    },
    {
     "name": "stdout",
     "output_type": "stream",
     "text": [
      "Epoch 20 | Validation loss 3.275 | Validation F1 0.429\n"
     ]
    },
    {
     "name": "stderr",
     "output_type": "stream",
     "text": [
      "[I 2025-04-09 17:40:08,720] Trial 12 pruned. \n"
     ]
    },
    {
     "name": "stdout",
     "output_type": "stream",
     "text": [
      "Epoch 20 | Validation loss 1.745 | Validation F1 0.302\n"
     ]
    },
    {
     "name": "stderr",
     "output_type": "stream",
     "text": [
      "[I 2025-04-09 17:40:09,250] Trial 13 pruned. \n"
     ]
    },
    {
     "name": "stdout",
     "output_type": "stream",
     "text": [
      "Epoch 20 | Validation loss 2.618 | Validation F1 0.302\n"
     ]
    },
    {
     "name": "stderr",
     "output_type": "stream",
     "text": [
      "[I 2025-04-09 17:40:09,800] Trial 10 pruned. \n"
     ]
    },
    {
     "name": "stdout",
     "output_type": "stream",
     "text": [
      "Epoch 30 | Validation loss 3.288 | Validation F1 0.472\n",
      "Epoch 30 | Validation loss 2.912 | Validation F1 0.302\n",
      "Epoch 30 | Validation loss 2.011 | Validation F1 0.272\n",
      "Epoch 10 | Validation loss 3.614 | Validation F1 0.416\n",
      "Epoch 10 | Validation loss 4.496 | Validation F1 0.416\n",
      "Epoch 40 | Validation loss 2.995 | Validation F1 0.302\n",
      "Epoch 40 | Validation loss 3.120 | Validation F1 0.472\n",
      "Epoch 40 | Validation loss 2.113 | Validation F1 0.272\n",
      "Epoch 20 | Validation loss 3.971 | Validation F1 0.429\n",
      "Epoch 50 | Validation loss 2.959 | Validation F1 0.302\n",
      "Epoch 20 | Validation loss 5.865 | Validation F1 0.346\n",
      "Epoch 50 | Validation loss 2.880 | Validation F1 0.533\n",
      "Epoch 50 | Validation loss 2.105 | Validation F1 0.272\n",
      "Epoch 60 | Validation loss 2.834 | Validation F1 0.302\n",
      "Epoch 30 | Validation loss 3.178 | Validation F1 0.416\n",
      "Epoch 30 | Validation loss 5.829 | Validation F1 0.328\n",
      "Epoch 60 | Validation loss 2.636 | Validation F1 0.533\n",
      "Epoch 60 | Validation loss 2.079 | Validation F1 0.272\n",
      "Epoch 70 | Validation loss 2.673 | Validation F1 0.302\n",
      "Epoch 40 | Validation loss 2.369 | Validation F1 0.485\n",
      "Epoch 70 | Validation loss 2.442 | Validation F1 0.472\n",
      "Epoch 40 | Validation loss 2.577 | Validation F1 0.329\n",
      "Epoch 70 | Validation loss 2.053 | Validation F1 0.333\n",
      "Epoch 80 | Validation loss 2.516 | Validation F1 0.368\n",
      "Epoch 50 | Validation loss 1.936 | Validation F1 0.485\n",
      "Epoch 80 | Validation loss 2.293 | Validation F1 0.472\n",
      "Epoch 90 | Validation loss 2.378 | Validation F1 0.411\n",
      "Epoch 80 | Validation loss 2.024 | Validation F1 0.368\n",
      "Epoch 50 | Validation loss 2.008 | Validation F1 0.329\n",
      "Epoch 60 | Validation loss 1.803 | Validation F1 0.500\n",
      "Epoch 90 | Validation loss 2.180 | Validation F1 0.472\n",
      "Epoch 100 | Validation loss 2.267 | Validation F1 0.411\n"
     ]
    },
    {
     "name": "stderr",
     "output_type": "stream",
     "text": [
      "[I 2025-04-09 17:40:19,038] Trial 7 finished with value: 0.41111111111111115 and parameters: {'lr': 0.0032069152927819205, 'weight_decay': 0.0008249962066159345, 'dim_h': 160, 'heads': 3, 'dropout': 0.1}. Best is trial 1 with value: 0.5.\n"
     ]
    },
    {
     "name": "stdout",
     "output_type": "stream",
     "text": [
      "Epoch 90 | Validation loss 1.996 | Validation F1 0.368\n"
     ]
    },
    {
     "name": "stderr",
     "output_type": "stream",
     "text": [
      "[I 2025-04-09 17:40:19,637] Trial 16 pruned. \n"
     ]
    },
    {
     "name": "stdout",
     "output_type": "stream",
     "text": [
      "Epoch 60 | Validation loss 1.471 | Validation F1 0.487\n",
      "Epoch 100 | Validation loss 2.103 | Validation F1 0.361\n",
      "Epoch 70 | Validation loss 1.685 | Validation F1 0.500\n"
     ]
    },
    {
     "name": "stderr",
     "output_type": "stream",
     "text": [
      "[I 2025-04-09 17:40:20,753] Trial 5 finished with value: 0.3611111111111111 and parameters: {'lr': 0.006432376535076853, 'weight_decay': 0.0001756979769127288, 'dim_h': 448, 'heads': 7, 'dropout': 0.4}. Best is trial 1 with value: 0.5.\n"
     ]
    },
    {
     "name": "stdout",
     "output_type": "stream",
     "text": [
      "Epoch 100 | Validation loss 1.969 | Validation F1 0.368\n",
      "Epoch 10 | Validation loss 2.313 | Validation F1 0.733\n"
     ]
    },
    {
     "name": "stderr",
     "output_type": "stream",
     "text": [
      "[I 2025-04-09 17:40:21,606] Trial 6 finished with value: 0.36818181818181817 and parameters: {'lr': 0.0006083362211045915, 'weight_decay': 0.0006367773374711507, 'dim_h': 224, 'heads': 13, 'dropout': 0.6}. Best is trial 1 with value: 0.5.\n"
     ]
    },
    {
     "name": "stdout",
     "output_type": "stream",
     "text": [
      "Epoch 70 | Validation loss 1.624 | Validation F1 0.400\n",
      "Epoch 80 | Validation loss 1.671 | Validation F1 0.500\n"
     ]
    },
    {
     "name": "stderr",
     "output_type": "stream",
     "text": [
      "[I 2025-04-09 17:40:22,680] Trial 19 pruned. \n"
     ]
    },
    {
     "name": "stdout",
     "output_type": "stream",
     "text": [
      "Epoch 10 | Validation loss 2.592 | Validation F1 0.487\n",
      "Epoch 20 | Validation loss 1.675 | Validation F1 0.682\n",
      "Epoch 80 | Validation loss 1.572 | Validation F1 0.500\n",
      "Epoch 90 | Validation loss 1.639 | Validation F1 0.500\n",
      "Epoch 10 | Validation loss 1.516 | Validation F1 0.290\n",
      "Epoch 20 | Validation loss 1.729 | Validation F1 0.476\n",
      "Epoch 30 | Validation loss 0.927 | Validation F1 0.733\n",
      "Epoch 100 | Validation loss 1.633 | Validation F1 0.500\n"
     ]
    },
    {
     "name": "stderr",
     "output_type": "stream",
     "text": [
      "[I 2025-04-09 17:40:25,711] Trial 15 finished with value: 0.5 and parameters: {'lr': 0.008497225329667606, 'weight_decay': 0.0011831655720914974, 'dim_h': 160, 'heads': 15, 'dropout': 0.30000000000000004}. Best is trial 1 with value: 0.5.\n"
     ]
    },
    {
     "name": "stdout",
     "output_type": "stream",
     "text": [
      "Epoch 90 | Validation loss 1.265 | Validation F1 0.500\n"
     ]
    }
   ],
   "source": [
    "sgl.ee.classify_and_explain(adata[:250, :250], target_label=\"CellType\", path=\"SEAGALL\", hypopt=0.25)"
   ]
  },
  {
   "cell_type": "code",
   "execution_count": null,
   "id": "cb92a339-fbfc-460e-92ce-a055887a7988",
   "metadata": {},
   "outputs": [],
   "source": [
    "adata.write(\"MouseBrain_GEX_Step2.h5ad\", compression=\"gzip\")"
   ]
  },
  {
   "cell_type": "code",
   "execution_count": null,
   "id": "a63053d8-764a-4891-962b-d385b10218a2",
   "metadata": {},
   "outputs": [],
   "source": [
    "for ct in sorted(list(adata.obs.CellType)):\n",
    "    plt.scatter(x=range(0, len(adata.var)), y=sorted(adata.var[f\"SEAGALL_Importance_for_{ct}\"])), c="
   ]
  },
  {
   "cell_type": "code",
   "execution_count": null,
   "id": "39d7a855-5d55-4047-9819-5081f8ba8670",
   "metadata": {},
   "outputs": [],
   "source": [
    "import matplotlib.pyplot as plt\n",
    "%matplotlib inline"
   ]
  },
  {
   "cell_type": "code",
   "execution_count": null,
   "id": "b1b8d231-f15b-42e8-ac1f-c86261ab84e0",
   "metadata": {},
   "outputs": [],
   "source": []
  },
  {
   "cell_type": "code",
   "execution_count": null,
   "id": "bba0037c-aa2a-4fe0-9ce9-dd0c7af379fe",
   "metadata": {},
   "outputs": [],
   "source": []
  },
  {
   "cell_type": "code",
   "execution_count": null,
   "id": "76d78e89-f587-41ee-9671-9909058965d8",
   "metadata": {},
   "outputs": [],
   "source": []
  },
  {
   "cell_type": "code",
   "execution_count": null,
   "id": "e18c99b3-6557-44f2-8e45-c1a56288ec60",
   "metadata": {},
   "outputs": [],
   "source": []
  },
  {
   "cell_type": "code",
   "execution_count": null,
   "id": "901adb97-7a21-4582-83b2-d0e7adfce9b3",
   "metadata": {},
   "outputs": [],
   "source": []
  },
  {
   "cell_type": "code",
   "execution_count": null,
   "id": "3296e22a-1bf8-4d8b-8985-be930560f93b",
   "metadata": {},
   "outputs": [],
   "source": []
  },
  {
   "cell_type": "code",
   "execution_count": null,
   "id": "6ec55885-5e21-4553-8689-65e9a8a16615",
   "metadata": {},
   "outputs": [],
   "source": []
  },
  {
   "cell_type": "code",
   "execution_count": null,
   "id": "f14fd949-bbbd-4405-93e0-0a08b98b8cd4",
   "metadata": {},
   "outputs": [],
   "source": []
  },
  {
   "cell_type": "code",
   "execution_count": null,
   "id": "4900a62e-5bc6-46db-98ff-545d7223c185",
   "metadata": {},
   "outputs": [],
   "source": []
  },
  {
   "cell_type": "code",
   "execution_count": null,
   "id": "6966b791-efac-4452-b71d-3883fce925ee",
   "metadata": {},
   "outputs": [],
   "source": []
  },
  {
   "cell_type": "code",
   "execution_count": null,
   "id": "595049b4-e9be-461b-b59c-27dc1960a0da",
   "metadata": {},
   "outputs": [],
   "source": []
  },
  {
   "cell_type": "code",
   "execution_count": null,
   "id": "03965d8c-6f8c-4c74-b793-23c32f7dde3b",
   "metadata": {
    "scrolled": true
   },
   "outputs": [],
   "source": [
    "adata=sc.read_h5ad(\"Test_Def.h5ad\")\n",
    "label=\"CellType\"\n",
    "adata"
   ]
  },
  {
   "cell_type": "code",
   "execution_count": null,
   "id": "6144e3b2-32de-4df0-93e6-93eaba00f869",
   "metadata": {},
   "outputs": [],
   "source": [
    "mydata = sgl.mlu.create_pyg_dataset(adata, label)\n",
    "mydata = torch_geometric.transforms.RandomNodeSplit(num_val=0.15, num_test=0.15)(mydata)"
   ]
  },
  {
   "cell_type": "code",
   "execution_count": null,
   "id": "116bded1-432b-4a0b-bbb7-025f2c6893a6",
   "metadata": {},
   "outputs": [],
   "source": [
    "model = sgl.mlu.GAT(n_feats=mydata.num_features, n_classes=mydata.num_classes).to(device)\n",
    "optimizer_model = torch.optim.Adam(model.parameters(), lr=1e-3, weight_decay=1e-3)\n",
    "class_weights = sklearn.utils.class_weight.compute_class_weight(class_weight='balanced',classes=np.unique(mydata.y), y=mydata.y.numpy())\n",
    "criterion = torch.nn.CrossEntropyLoss(weight=torch.tensor(class_weights, dtype=torch.float), reduction=\"mean\")\n",
    "model, history = sgl.mlu.GAT_train_node_classifier(model, mydata, optimizer_model, criterion, \"TEMP.pth\", epochs=30, patience=5)"
   ]
  },
  {
   "cell_type": "code",
   "execution_count": null,
   "id": "97fe956b-a074-4bd3-9eb4-63c33d8b1dc3",
   "metadata": {},
   "outputs": [],
   "source": [
    "adata.uns[\"GAT_history\"]=history"
   ]
  },
  {
   "cell_type": "code",
   "execution_count": null,
   "id": "e04c7baf-d17e-41d8-a8af-b65eae1a2a5d",
   "metadata": {},
   "outputs": [],
   "source": [
    "model.eval()\n",
    "pred = model(mydata.x, mydata.edge_index).argmax(dim=1)\n",
    "\n",
    "adata.obs[\"SEAGALL_set\"] = \"--\"\n",
    "adata.obs[\"SEAGALL_prediction\"] = [adata.uns[\"inv_map\"][str(num)] for num in list(pred.cpu().detach().numpy())]\n",
    "adata.obs.loc[mydata.train_mask.cpu().detach().numpy(),\"SEAGALL_set\"] = \"Train\"\n",
    "adata.obs.loc[mydata.val_mask.cpu().detach().numpy(),\"SEAGALL_set\"] = \"Validation\"\n",
    "adata.obs.loc[mydata.test_mask.cpu().detach().numpy(),\"SEAGALL_set\"] = \"Test\""
   ]
  },
  {
   "cell_type": "code",
   "execution_count": null,
   "id": "81eb2dd5-2db1-4b1c-9759-a89f208d038d",
   "metadata": {},
   "outputs": [],
   "source": [
    "explainer = torch_geometric.explain.Explainer(\n",
    "            model=model,\n",
    "            algorithm=torch_geometric.explain.GNNExplainer(epochs=30),\n",
    "            explanation_type='model',\n",
    "            node_mask_type='attributes',\n",
    "            edge_mask_type='object',\n",
    "            model_config=dict(mode='multiclass_classification', task_level='node', return_type='probs'))"
   ]
  },
  {
   "cell_type": "code",
   "execution_count": null,
   "id": "7b192389-2539-49fc-89ff-c504f408d991",
   "metadata": {},
   "outputs": [],
   "source": [
    "adata.layers[\"Importance\"]=scipy.sparse.csr_matrix(explainer(x=mydata.x, edge_index=mydata.edge_index).node_mask.numpy(), dtype=\"float32\")"
   ]
  },
  {
   "cell_type": "code",
   "execution_count": null,
   "id": "546127b7-8709-4073-aafb-91a26eb7f419",
   "metadata": {
    "scrolled": true
   },
   "outputs": [],
   "source": [
    "for gt in sorted(set(adata.obs[label])):\n",
    "    imps = np.array(adata[adata.obs[label]==gt].layers[\"Importance\"].mean(axis=0)).reshape(adata.shape[1], )\n",
    "    adata.var[f\"Importance_for_{gt}\"] = imps"
   ]
  },
  {
   "cell_type": "code",
   "execution_count": null,
   "id": "dd5502da-da2a-45b7-a7f4-d624d48d6d56",
   "metadata": {},
   "outputs": [],
   "source": [
    "n_feat=50\n",
    "gts = sorted(set(adata.obs[label]))\n",
    "jc = pd.DataFrame(index=gts, columns=gts)\n",
    "for gti in gts:\n",
    "    for gtj in gts[gts.index(gti)+1:]:\n",
    "        fsi = adata[adata.obs[label]==gti].var[f\"Importance_for_{gti}\"].sort_values()[::-1][:int(n_feat)].index\n",
    "        fsj = adata[adata.obs[label]==gtj].var[f\"Importance_for_{gtj}\"].sort_values()[::-1][:int(n_feat)].index\n",
    "        jc.at[gti, gtj] = len(sgl.ut.intersection([fsi, fsj]))/len(sgl.ut.flat_list([fsi, fsj]))"
   ]
  },
  {
   "cell_type": "code",
   "execution_count": null,
   "id": "f1a9a101-49f2-44af-8c10-4fa6f5c4fbdf",
   "metadata": {},
   "outputs": [],
   "source": [
    "adata.uns[f\"SEAGALL_Top_{n_feat}_Specificty\"]=jc.values.astype()"
   ]
  },
  {
   "cell_type": "code",
   "execution_count": null,
   "id": "1ae29c24-1068-473b-89a4-10c25b1d4114",
   "metadata": {},
   "outputs": [],
   "source": [
    "adata"
   ]
  },
  {
   "cell_type": "code",
   "execution_count": null,
   "id": "4b165f01-b3d8-46fb-ba9c-ce3795b73438",
   "metadata": {},
   "outputs": [],
   "source": [
    "adata.write(\"Test_Def_All.h5ad\", compression=\"gzip\")"
   ]
  },
  {
   "cell_type": "code",
   "execution_count": null,
   "id": "05b4989a-26ea-46e5-beba-e5c0945a3ebf",
   "metadata": {},
   "outputs": [],
   "source": []
  },
  {
   "cell_type": "code",
   "execution_count": null,
   "id": "66a49cc1-b3cf-4575-b5cb-802300b86df5",
   "metadata": {},
   "outputs": [],
   "source": [
    "pd.DataFrame.from_dict(adata.uns[\"GAT_history\"]).melt()"
   ]
  }
 ],
 "metadata": {
  "kernelspec": {
   "display_name": "Python 3 (ipykernel)",
   "language": "python",
   "name": "python3"
  },
  "language_info": {
   "codemirror_mode": {
    "name": "ipython",
    "version": 3
   },
   "file_extension": ".py",
   "mimetype": "text/x-python",
   "name": "python",
   "nbconvert_exporter": "python",
   "pygments_lexer": "ipython3",
   "version": "3.10.14"
  }
 },
 "nbformat": 4,
 "nbformat_minor": 5
}
