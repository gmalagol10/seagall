{
 "cells": [
  {
   "cell_type": "code",
   "execution_count": null,
   "id": "396b119a",
   "metadata": {},
   "outputs": [],
   "source": [
    "import warnings\n",
    "warnings.filterwarnings(\"ignore\")\n",
    "\n",
    "import numpy as np\n",
    "import pandas as pd\n",
    "import scanpy as sc\n",
    "import episcanpy as epi\n",
    "\n",
    "import os\n",
    "import scipy\n",
    "\n",
    "import Utils as ut"
   ]
  },
  {
   "cell_type": "markdown",
   "id": "fdf609b1-2b3a-400e-93cc-0d66b7f8b0ce",
   "metadata": {},
   "source": [
    "--> First download the data from notebook 0 <---"
   ]
  },
  {
   "cell_type": "markdown",
   "id": "42fdb08c",
   "metadata": {},
   "source": [
    "# HumanBrain"
   ]
  },
  {
   "cell_type": "code",
   "execution_count": null,
   "id": "7ddd397b-2626-478c-a2df-2eeb50bcb9ac",
   "metadata": {
    "scrolled": true
   },
   "outputs": [],
   "source": [
    "adata=sc.read_10x_mtx(\"Datasets/10XhsBrain3kMO/CTA/filtered_feature_bc_matrix\")\n",
    "adata"
   ]
  },
  {
   "cell_type": "code",
   "execution_count": null,
   "id": "b59cb6e2-4cbe-473c-a0f4-1f51b50493c6",
   "metadata": {},
   "outputs": [],
   "source": [
    "adata.write(\"Datasets/10XhsBrain3kMO/CTA/gex.h5ad\", compression=\"gzip\")"
   ]
  },
  {
   "cell_type": "markdown",
   "id": "6bf54bf2-da8f-4e70-b0f6-b47562ae23c0",
   "metadata": {},
   "source": [
    "## Annotation\n",
    "check notebook 10X brain CTA to see the procedure to do the cell type annotation"
   ]
  },
  {
   "cell_type": "code",
   "execution_count": null,
   "id": "fb0b6f61",
   "metadata": {},
   "outputs": [],
   "source": [
    "adata=epi.read_h5ad(\"Datasets/10XhsBrain3kMO/CTA/annotated_gex.h5ad\")\n",
    "adata"
   ]
  },
  {
   "cell_type": "code",
   "execution_count": null,
   "id": "34626034-bdea-43f1-a855-cd5c82172104",
   "metadata": {},
   "outputs": [],
   "source": [
    "set(adata.obs.celltype)"
   ]
  },
  {
   "cell_type": "code",
   "execution_count": null,
   "id": "26a52fda",
   "metadata": {},
   "outputs": [],
   "source": [
    "df=pd.DataFrame(adata.obs[\"celltype\"]).copy()\n",
    "df.rename(columns={\"celltype\" : \"CellType\"}, inplace=True)\n",
    "df[\"CellType\"]=df[\"CellType\"].astype(str)\n",
    "df.replace(\"NA\",np.nan, inplace=True)\n",
    "df.replace(\"neuronal cell - Purkinje cell -FOXP2\",\"Purkinje_neuron_FOXP2\", inplace=True)\n",
    "df.replace(\"neuronal cell - Purkinje cell -ITPR1\",\"Purkinje_neuron_ITPR1\", inplace=True)\n",
    "df.replace(\"Purkinje layer neuron\",\"Purkinje_neuron_layer\", inplace=True)\n",
    "df.replace(\"interneuron - MLI - molecular layer interneurons\",\"Molec_Layer_Interneur\", inplace=True)\n",
    "df.replace(\"astrocyte\",\"Astrocyte\", inplace=True)\n",
    "df.replace(\"astrocyte (progenitor)\",\"Astrocyte_progenitor\", inplace=True)\n",
    "df.replace(\"microglia\",\"Microglia\", inplace=True)\n",
    "df.replace(\"oligodendrocyte\",\"Oligodendrocyte\", inplace=True)\n",
    "df.replace(\"inhibitory neuron\",\"Inhibitory_neuron\", inplace=True)\n",
    "df.replace('inhibitory neuron - MAF+',\"Inhibitory_neuron_MAF\",inplace=True)\n",
    "df.replace(\"inhibitory neuron - PVALB+ SST+\",\"Inhibitory_neuron_PVALB_SST\", inplace=True)\n",
    "set(df.CellType)"
   ]
  },
  {
   "cell_type": "code",
   "execution_count": null,
   "id": "40a8e85e-1c1c-44be-a1cf-0be84635b833",
   "metadata": {},
   "outputs": [],
   "source": [
    "df[\"Raw_celltype\"]=df[\"CellType\"]\n",
    "df[\"Raw_celltype\"].replace(\"Purkinje_neuron_FOXP2\",\"Purkinje_neuron\", inplace=True)\n",
    "df[\"Raw_celltype\"].replace(\"Purkinje_neuron_ITPR1\",\"Purkinje_neuron\", inplace=True)\n",
    "df[\"Raw_celltype\"].replace(\"Purkinje_neuron_layer\",\"Purkinje_neuron\", inplace=True)\n",
    "\n",
    "df[\"Raw_celltype\"].replace(\"Inhibitory_neuron\",\"Inhibitory_neuron\", inplace=True)\n",
    "df[\"Raw_celltype\"].replace(\"Inhibitory_neuron_PVALB_SST\",\"Inhibitory_neuron\", inplace=True)\n",
    "df[\"Raw_celltype\"].replace(\"Inhibitory_neuron_MAF\",\"Inhibitory_neuron\", inplace=True)\n",
    "\n",
    "df[\"Raw_celltype\"].replace(\"Astrocyte_progenitor\",\"Astrocyte\", inplace=True)\n",
    "set(df[\"Raw_celltype\"])"
   ]
  },
  {
   "cell_type": "code",
   "execution_count": null,
   "id": "ad928d92-6e20-41b9-87cb-9bca9353bda5",
   "metadata": {},
   "outputs": [],
   "source": [
    "df.to_csv(\"Datasets/10XhsBrain3kMO/10XhsBrain3kMO_metadata.csv\")"
   ]
  },
  {
   "cell_type": "markdown",
   "id": "6f33168c-b8f3-432e-818b-3fdf5edece21",
   "metadata": {},
   "source": [
    "# PBMC"
   ]
  },
  {
   "cell_type": "code",
   "execution_count": null,
   "id": "1f2d08fc-f63a-4a6d-a504-9ae8a933019a",
   "metadata": {},
   "outputs": [],
   "source": [
    "X=scipy.io.mmread(\"Datasets/10XhsPBMC10kMO/CTA/filtered_feature_bc_matrix/matrix.mtx.gz\")\n",
    "X"
   ]
  },
  {
   "cell_type": "code",
   "execution_count": null,
   "id": "51905500-3157-4c39-aa05-a6fbf3760d40",
   "metadata": {},
   "outputs": [],
   "source": [
    "obs=pd.read_csv(\"Datasets/10XhsPBMC10kMO/CTA/filtered_feature_bc_matrix/barcodes.tsv.gz\", sep=\"\\t\", header=None, index_col=0)\n",
    "print(obs.shape)\n",
    "obs.index.name=\"\"\n",
    "obs[\"barcode\"]=list(obs.index)\n",
    "obs.head()"
   ]
  },
  {
   "cell_type": "code",
   "execution_count": null,
   "id": "e0eb378c-68b4-4aea-8df4-138aa3e3716d",
   "metadata": {},
   "outputs": [],
   "source": [
    "var=pd.read_csv(\"Datasets/10XhsPBMC10kMO/CTA/filtered_feature_bc_matrix/features.tsv.gz\", sep=\"\\t\", header=None, index_col=0)\n",
    "print(var.shape)\n",
    "var.columns=[\"Gene\",\"Experiment\",\"chr\",\"start\",\"stop\"]\n",
    "var.index.name=\"\"\n",
    "var.head()"
   ]
  },
  {
   "cell_type": "code",
   "execution_count": null,
   "id": "203fec80-8080-4b09-bcd9-53b446ab30de",
   "metadata": {},
   "outputs": [],
   "source": [
    "adata=sc.AnnData(X=scipy.sparse.csr_matrix(X.T,  dtype=\"int32\"))\n",
    "adata"
   ]
  },
  {
   "cell_type": "code",
   "execution_count": null,
   "id": "00361c4d-270f-4ce1-abd0-8f3d9ad08158",
   "metadata": {},
   "outputs": [],
   "source": [
    "adata.var.index=np.array(var.index).astype(str)\n",
    "adata.var[\"Experiment\"]=np.array(var.Experiment).astype(str)\n",
    "adata.var[\"chr\"]=np.array(var.chr).astype(str)\n",
    "adata.var[\"start\"]=np.array(var.start).astype(str)\n",
    "adata.var[\"stop\"]=np.array(var.stop).astype(str)\n",
    "adata=adata[:,adata.var[\"Experiment\"]==\"Gene Expression\"].copy()\n",
    "adata.obs.index=np.array(obs.index).astype(str)\n",
    "adata"
   ]
  },
  {
   "cell_type": "code",
   "execution_count": null,
   "id": "be1b7fba-1a18-497d-a9e5-2643bd02e40b",
   "metadata": {},
   "outputs": [],
   "source": [
    "adata.write(\"Datasets/10XhsPBMC10kMO/CTA/10XhsPBMC10kMO_GEX_temp_Raw.h5ad\", compression=\"gzip\")"
   ]
  },
  {
   "cell_type": "markdown",
   "id": "d84e45dc-78c6-4b65-b7c4-b1806995dc2e",
   "metadata": {},
   "source": [
    "## CTA\n",
    "\n",
    "Follow https://muon-tutorials.readthedocs.io/en/latest/single-cell-rna-atac/pbmc10k/1-Gene-Expression-Processing.html"
   ]
  },
  {
   "cell_type": "code",
   "execution_count": null,
   "id": "fcc3f4b3-a412-4446-9741-a200b602aa0a",
   "metadata": {},
   "outputs": [],
   "source": [
    "mr=pd.read_csv(\"Datasets/10XhsPBMC10kMO/CTA/10XhsPBMC10kMO_CTA_MariaR.csv\", index_col=0, usecols=[0,1])\n",
    "mr.index.name=\"\"\n",
    "mr[\"RNA_celltype\"]=[str(ct).replace(\"+\",\"\").replace(\" \",\"_\") for ct in mr[\"RNA_celltype\"]]\n",
    "mr[\"RNA_celltype\"].replace(\"CD14_mono\",\"Mono_CD14\", inplace=True)\n",
    "mr[\"RNA_celltype\"].replace(\"CD16_mono\",\"Mono_CD16\", inplace=True)\n",
    "mr[\"RNA_celltype\"].replace(\"intermediate_mono\",\"Mono_intermediate\", inplace=True)\n",
    "mr[\"RNA_celltype\"].replace(\"CD4_memory_T\",\"T_CD4_memory\", inplace=True)\n",
    "mr[\"RNA_celltype\"].replace(\"CD4_naïve_T\",\"T_CD4_naïve\", inplace=True)\n",
    "mr[\"RNA_celltype\"].replace(\"MAIT\",\"T_MAIT\", inplace=True)\n",
    "mr[\"RNA_celltype\"].replace(\"CD8_naïve_T\",\"T_CD8_naive\", inplace=True)\n",
    "mr[\"RNA_celltype\"].replace(\"CD8_activated_T\",\"T_CD8_activated\", inplace=True)\n",
    "mr[\"RNA_celltype\"].replace(\"memory_B\",\"B_memory\", inplace=True)\n",
    "mr[\"RNA_celltype\"].replace(\"naïve_B\",\"B_naive\", inplace=True)\n",
    "mr[\"RNA_celltype\"].replace(\"mDC\",\"DCm\", inplace=True)\n",
    "mr[\"RNA_celltype\"].replace(\"pDC\",\"DCp\", inplace=True)\n",
    "mr[\"RNA_celltype\"].replace(\"nan\",np.nan, inplace=True)\n",
    "\n",
    "mr[\"Raw_CellType\"]=mr[\"RNA_celltype\"]\n",
    "mr[\"Raw_CellType\"].replace(\"Mono_CD14\",\"Monocytes\", inplace=True)\n",
    "mr[\"Raw_CellType\"].replace(\"Mono_CD16\",\"Monocytes\", inplace=True)\n",
    "mr[\"Raw_CellType\"].replace(\"Mono_intermediate\",\"Monocytes\", inplace=True)\n",
    "\n",
    "mr[\"CellType\"]=mr[\"RNA_celltype\"]\n",
    "mr[\"CellType\"].replace(\"Mono_CD14\",\"Monocytes\", inplace=True)\n",
    "mr[\"CellType\"].replace(\"Mono_CD16\",\"Monocytes_CD16\", inplace=True)\n",
    "mr[\"CellType\"].replace(\"Mono_intermediate\",\"Monocytes\", inplace=True)\n",
    "mr.head()"
   ]
  },
  {
   "cell_type": "code",
   "execution_count": null,
   "id": "a1e25f7c-b926-4b28-afd7-04bc6aac1153",
   "metadata": {},
   "outputs": [],
   "source": [
    "adata=epi.read_h5ad(\"Datasets/10XhsPBMC10kMO/CTA/10XhsPBMC10kMO_GEX_temp_Raw.h5ad\")\n",
    "inter=ut.intersection([adata.obs.index, mr.dropna().index])\n",
    "adata=adata[inter]\n",
    "adata.obs=mr.loc[inter]\n",
    "epi.pp.normalize_total(adata)\n",
    "epi.pp.log1p(adata)"
   ]
  },
  {
   "cell_type": "code",
   "execution_count": null,
   "id": "85fdaaa2-187e-42a1-adaa-001cbb62f7e6",
   "metadata": {},
   "outputs": [],
   "source": [
    "marker_genes = ['IL7R', 'TRAC',\n",
    "                'ITGB1',\n",
    "                'SLC4A10',\n",
    "                'CD8A', 'CD8B', 'CCL5',\n",
    "                'GNLY', 'NKG7',\n",
    "                'CD79A', 'MS4A1', 'IGHM', 'IGHD',\n",
    "                'IL4R', 'TCL1A',\n",
    "                'KLF4', 'LYZ', 'S100A8', 'ITGAM',\n",
    "                'CD14', 'FCGR3A', 'MS4A7',\n",
    "                'CST3', 'CLEC10A', 'IRF8', 'TCF4']"
   ]
  },
  {
   "cell_type": "code",
   "execution_count": null,
   "id": "72eba6a8-7015-4c5a-a40a-764377cb5f8c",
   "metadata": {},
   "outputs": [],
   "source": [
    "sc.pl.dotplot(adata, marker_genes, groupby=\"CellType\")"
   ]
  },
  {
   "cell_type": "code",
   "execution_count": null,
   "id": "cc7bbdbc-7ffc-4f21-aeda-42811347e7e8",
   "metadata": {},
   "outputs": [],
   "source": [
    "sc.pl.dotplot(adata, marker_genes, groupby=\"RNA_celltype\")"
   ]
  },
  {
   "cell_type": "code",
   "execution_count": null,
   "id": "9832c56c-0fc6-4ecb-bc58-798fd17105ea",
   "metadata": {},
   "outputs": [],
   "source": [
    "mr.dropna(how=\"any\").to_csv(\"Datasets/10XhsPBMC10kMO/10XhsPBMC10kMO_metadata.csv\")"
   ]
  },
  {
   "cell_type": "markdown",
   "id": "182fb77d-6713-4a3d-9717-c310c676fa80",
   "metadata": {},
   "source": [
    "# HSPC"
   ]
  },
  {
   "cell_type": "code",
   "execution_count": null,
   "id": "e2aa91d5-a6c9-41f8-89c3-9e5bf9d9ecde",
   "metadata": {},
   "outputs": [],
   "source": [
    "atac=epi.read_h5ad(\"Datasets/HSPC/CTA/3423-MV-2_adata_atac_postpro.h5ad\")\n",
    "atac.obs.head()\n",
    "gex=epi.read_hgex=epi.read_h5ad(\"Datasets/HSPC/CTA/3423-MV-2_adata_postpro.h5ad\")\n",
    "gex.obs.head()\n",
    "df=pd.DataFrame(gex.obs[\"leiden\"])\n",
    "df.rename({\"leiden\" : \"CellType\"}, axis=1, inplace=True)\n",
    "df.head()\n",
    "df[\"CellType\"]=df[\"CellType\"].str.replace(\" \",\"_\")\n",
    "set(df[\"CellType\"])\n",
    "df.to_csv(\"Datasets/HSPC/HSPC_metadata.csv\")"
   ]
  },
  {
   "cell_type": "markdown",
   "id": "78ae394d-76d4-4282-9d15-cec789ac1c28",
   "metadata": {},
   "source": [
    "# MouseBrain"
   ]
  },
  {
   "cell_type": "code",
   "execution_count": null,
   "id": "6831a0ad-0d98-4dbf-ab96-7c4ecabf741f",
   "metadata": {},
   "outputs": [],
   "source": [
    "atac=epi.read_h5ad(\"Datasets/MouseBrain/CTA/adata_atac_postpro.h5ad\")\n",
    "atac.obs.head()"
   ]
  },
  {
   "cell_type": "code",
   "execution_count": null,
   "id": "14e63421-4b61-436a-9887-82bbe035edf8",
   "metadata": {},
   "outputs": [],
   "source": [
    "gex=epi.read_h5ad(\"Datasets/MouseBrain/CTA/adata_postpro.h5ad\")\n",
    "gex.obs.head()"
   ]
  },
  {
   "cell_type": "code",
   "execution_count": null,
   "id": "e5b780f5-3dd2-4c42-b337-c3110d57c3af",
   "metadata": {},
   "outputs": [],
   "source": [
    "df=pd.DataFrame(gex.obs[\"leiden\"])\n",
    "df.rename({\"leiden\" : \"CellType\"}, axis=1, inplace=True)\n",
    "print(set(df[\"CellType\"]))\n",
    "df.head()"
   ]
  },
  {
   "cell_type": "code",
   "execution_count": null,
   "id": "089224f2-a9d9-4f30-ade8-459b0f01716b",
   "metadata": {},
   "outputs": [],
   "source": [
    "df[\"CellType\"]=df[\"CellType\"].str.replace(\" \",\"_\")\n",
    "df[\"CellType\"]=df[\"CellType\"].str.replace(\", \",\"_\")\n",
    "df[\"CellType\"]=df[\"CellType\"].str.replace(\"-\",\"_\")\n",
    "df[\"CellType\"]=df[\"CellType\"].str.replace(\",\",\"_\")\n",
    "df[\"CellType\"]=df[\"CellType\"].str.replace(\"__\",\"_\")\n",
    "set(df[\"CellType\"])"
   ]
  },
  {
   "cell_type": "code",
   "execution_count": null,
   "id": "6ad8fc07-fbcc-4a10-b5f7-11f09609e7d3",
   "metadata": {},
   "outputs": [],
   "source": [
    "df.to_csv(\"Datasets/MouseBrain/MouseBrain_metadata.csv\")"
   ]
  },
  {
   "cell_type": "markdown",
   "id": "79980555-7957-46cc-ac14-22686c26cdf2",
   "metadata": {},
   "source": [
    "# Kidney"
   ]
  },
  {
   "cell_type": "code",
   "execution_count": null,
   "id": "46d9634b-c312-46fe-a042-0f2420e9dffe",
   "metadata": {},
   "outputs": [],
   "source": [
    "cta=pd.read_csv(\"Datasets/Kidney/GSE172008_human_kidney_snATAC.cluster_labels.txt.gz\", sep=\"\\t\")\n",
    "print(cta.shape)\n",
    "cta.head()"
   ]
  },
  {
   "cell_type": "code",
   "execution_count": null,
   "id": "30d40192-2ad7-460d-8e61-d851745b0cd8",
   "metadata": {},
   "outputs": [],
   "source": [
    "cta[\"Sample\"]=[c.split(\"_\")[0] for c in cta[\"#cell_id\"]]\n",
    "cta.rename({\"cluster_name\" : \"CellType\"}, axis=1, inplace=True)\n",
    "print(set(cta[\"Sample\"]))\n",
    "cta=cta[cta[\"Sample\"]==\"HK2431\"]\n",
    "print(cta.shape)\n",
    "cta.head()"
   ]
  },
  {
   "cell_type": "code",
   "execution_count": null,
   "id": "789f9290-02e8-492b-963f-94bb073fc0c5",
   "metadata": {},
   "outputs": [],
   "source": [
    "cta.index=[c.split(\"_\")[1] for c in cta[\"#cell_id\"]]\n",
    "cta.head()"
   ]
  },
  {
   "cell_type": "code",
   "execution_count": null,
   "id": "e6bd9bf1-fe1d-4226-a0b5-49101e326119",
   "metadata": {},
   "outputs": [],
   "source": [
    "cta[[\"#cell_id\",\"CellType\",\"Sample\"]].to_csv(\"Datasets/Kidney/Kidney_metadata.csv\")"
   ]
  },
  {
   "cell_type": "markdown",
   "id": "d4143ee9-ffd3-4ee5-ad78-722f31fcf4cc",
   "metadata": {},
   "source": [
    "# Datasets infos"
   ]
  },
  {
   "cell_type": "code",
   "execution_count": null,
   "id": "39e93107-348a-40b6-bbb5-cd6173059897",
   "metadata": {
    "scrolled": true
   },
   "outputs": [],
   "source": [
    "datasets=[\"10XhsBrain3kMO\", \"10XhsBrain3kMO\",\"GSE117309\", \"10XhsPBMC10kMO\",\"10XhsPBMC10kMO\", \"HSPC\",\"HSPC\",\"MouseBrain\",\"MouseBrain\",\"Kidney\"]\n",
    "featurespaces=[\"Peak\",\"GEX\",\"Window\", \"Peak\", \"GEX\", \"Peak\",\"GEX\",\"Peak\",\"GEX\",\"Peak\"]\n",
    "labels=[\"CellType\",\"CellType\",\"BCsubtype\",\"CellType\",\"CellType\",\"CellType\",\"CellType\",\"CellType\",\"CellType\",\"CellType\"]\n",
    "ds_infos=pd.DataFrame(data=[datasets, featurespaces, labels]).T\n",
    "ds_infos.columns=[\"DSs\",\"FsSs\",\"LBs\"]\n",
    "ds_infos[\"Names\"]=[\"Human brain\",\"Human brain\",\"Breast cancer\",\"PBMC\",\"PBMC\", \"HSPC\",\"HSPC\", \"Mouse brain\",\"Mouse brain\",\"Kidney\"]\n",
    "ds_infos.to_csv(\"Tables/Datasets_infos.tsv\", sep=\"\\t\")\n",
    "ds_infos"
   ]
  },
  {
   "cell_type": "code",
   "execution_count": null,
   "id": "cf0d4ae2-03a1-4a34-a8ad-3979b778912a",
   "metadata": {
    "scrolled": true
   },
   "outputs": [],
   "source": [
    "ds_infos=pd.read_csv(\"Tables/Datasets_infos.tsv\", sep=\"\\t\", index_col=0)"
   ]
  },
  {
   "cell_type": "code",
   "execution_count": null,
   "id": "b095b176-397d-459b-a52c-c4516d617434",
   "metadata": {},
   "outputs": [],
   "source": [
    "diz={}\n",
    "for ds, nm, lb in zip(ds_infos[\"DSs\"], ds_infos[\"Names\"], ds_infos[\"LBs\"]):\n",
    "    d=pd.read_csv(f\"Datasets/{ds}/{ds}_metadata.csv\", index_col=0)\n",
    "    diz[nm]=len(set(d[lb]))"
   ]
  },
  {
   "cell_type": "code",
   "execution_count": null,
   "id": "0714b6aa-9ab1-44ab-ac57-474a39aa5d6a",
   "metadata": {
    "scrolled": true
   },
   "outputs": [],
   "source": [
    "ds_infos=pd.read_csv(\"Tables/Datasets_infos.tsv\", sep=\"\\t\", index_col=0)\n",
    "df=pd.DataFrame(columns=[\"Dataset\",\"Feature space\",\"Number of features\", \"Number of cells\"])\n",
    "for ds, nm, lb, fs in zip(ds_infos[\"DSs\"], ds_infos[\"Names\"], ds_infos[\"LBs\"], ds_infos[\"FsSs\"]):\n",
    "    adata=sc.read_h5ad(f\"Datasets/{ds}/FeatureSpaces/{fs}/CM/{ds}_{fs}_Def.h5ad\")\n",
    "    if fs != \"GEX\":\n",
    "        fs=f\"{fs}s\"\n",
    "    d=pd.DataFrame(data=[nm, fs, adata.shape[1], adata.shape[0]], index=df.columns)\n",
    "    df=pd.concat([df, d.T])\n",
    "df"
   ]
  },
  {
   "cell_type": "code",
   "execution_count": null,
   "id": "e120f61b-694e-4a61-bca3-824ad01a9e02",
   "metadata": {},
   "outputs": [],
   "source": [
    "df.to_csv(\"Tables/DatasetsDimensions.tsv\", index=None, sep=\"\\t\")"
   ]
  },
  {
   "cell_type": "code",
   "execution_count": null,
   "id": "929dba39-5296-4b3f-92f8-d0c545640c62",
   "metadata": {},
   "outputs": [],
   "source": [
    "diz={}\n",
    "for ds, nm, lb in zip(ds_infos[\"DSs\"], ds_infos[\"Names\"], ds_infos[\"LBs\"]):\n",
    "    d=pd.read_csv(f\"Datasets/{ds}/{ds}_metadata.csv\", index_col=0)\n",
    "    diz[nm]=list(set(d[lb].dropna()))"
   ]
  },
  {
   "cell_type": "code",
   "execution_count": null,
   "id": "802842d4-5a71-479f-88e9-b8df6f67f53a",
   "metadata": {},
   "outputs": [],
   "source": [
    "cts=pd.DataFrame.from_dict(diz, orient=\"index\").T.to_csv(\"Tables/DatasetsCellType.tsv\", sep=\"\\t\")"
   ]
  },
  {
   "cell_type": "code",
   "execution_count": null,
   "id": "7dddbc5d-cec6-48a5-b0ba-1e88fb73e7f7",
   "metadata": {},
   "outputs": [],
   "source": []
  }
 ],
 "metadata": {
  "kernelspec": {
   "display_name": "Python 3 (ipykernel)",
   "language": "python",
   "name": "python3"
  },
  "language_info": {
   "codemirror_mode": {
    "name": "ipython",
    "version": 3
   },
   "file_extension": ".py",
   "mimetype": "text/x-python",
   "name": "python",
   "nbconvert_exporter": "python",
   "pygments_lexer": "ipython3",
   "version": "3.10.14"
  },
  "toc": {
   "base_numbering": 1,
   "nav_menu": {},
   "number_sections": true,
   "sideBar": true,
   "skip_h1_title": false,
   "title_cell": "Table of Contents",
   "title_sidebar": "Contents",
   "toc_cell": false,
   "toc_position": {
    "height": "calc(100% - 180px)",
    "left": "10px",
    "top": "150px",
    "width": "384px"
   },
   "toc_section_display": true,
   "toc_window_display": true
  }
 },
 "nbformat": 4,
 "nbformat_minor": 5
}
