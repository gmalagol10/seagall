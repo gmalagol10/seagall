{
 "cells": [
  {
   "cell_type": "code",
   "execution_count": null,
   "id": "396b119a",
   "metadata": {
    "scrolled": true
   },
   "outputs": [],
   "source": [
    "import os"
   ]
  },
  {
   "cell_type": "markdown",
   "id": "1f9c08a4-a541-497b-82d7-c77496a70a82",
   "metadata": {},
   "source": [
    "Replace the folders path with the appropriate ones of your machine"
   ]
  },
  {
   "cell_type": "markdown",
   "id": "57fb2b37-38f0-4178-8ad2-d6bea3882d46",
   "metadata": {},
   "source": [
    "# Human brain\n",
    "\n",
    "Data from https://www.10xgenomics.com/datasets/frozen-human-healthy-brain-tissue-3-k-1-standard-2-0-0\n",
    "\n",
    "Metadata see Notebook cell type annotation"
   ]
  },
  {
   "cell_type": "markdown",
   "id": "3c90fbc2-7c62-4380-8c7f-67e595bc827f",
   "metadata": {},
   "source": [
    "## CellRanger"
   ]
  },
  {
   "cell_type": "code",
   "execution_count": null,
   "id": "ec85fd1d-7180-4586-9e3a-8fd8809c9210",
   "metadata": {},
   "outputs": [],
   "source": [
    "os.system(\"sbatch -J CRABrain --mem=128G --nodes=1 --exclusive --output=/store24/project24/ladcol_012/GNN/Datasets/10XhsBrain3kMO/Out/10XhsBrain3kMO_0_CellRangerArcT2T.out \\\n",
    "            0_CellRangerArc.sh human_brain_3k \\\n",
    "            /store24/project24/ladcol_012/AnnotRef/hs/T2T/References/T2T_CRArc \\\n",
    "            /store24/project24/ladcol_012/GNN/Datasets/10XhsBrain3kMO/Fastq/human_brain_3k/gex \\\n",
    "            /store24/project24/ladcol_012/GNN/Datasets/10XhsBrain3kMO/Fastq/human_brain_3k/atac \\\n",
    "            128 64 \\\n",
    "            /store24/project24/ladcol_012/GNN/Datasets/10XhsBrain3kMO/\")"
   ]
  },
  {
   "cell_type": "code",
   "execution_count": null,
   "id": "506354fc-4e15-4c73-a2ef-36c851bdc013",
   "metadata": {},
   "outputs": [],
   "source": [
    "os.system(\"sbatch -J PCBrain -p slim18 --mem=128G --nodes=1 \\\n",
    "--output=Datasets/10XhsBrain3kMO/Out/10XhsBrain3kMO_1_PeakCalling.out \\\n",
    "1_PeakCalling.sh Datasets/10XhsBrain3kMO/FragFile/atac_fragments.tsv.gz 10XhsBrain3kMO \\\n",
    "Datasets/10XhsBrain3kMO/FragFile/10XhsBrain3kMO_PeakCalling 3088269832\")"
   ]
  },
  {
   "cell_type": "code",
   "execution_count": null,
   "id": "34413071-77b1-4ec8-b1d8-cc6ee91bafba",
   "metadata": {},
   "outputs": [],
   "source": []
  },
  {
   "cell_type": "markdown",
   "id": "d52d2571-5509-4f21-93db-89fd94f6dde4",
   "metadata": {},
   "source": [
    "# PBMC\n",
    "\n",
    "Data from https://www.10xgenomics.com/datasets/pbmc-from-a-healthy-donor-no-cell-sorting-10-k-1-standard-2-0-0\n",
    "\n",
    "Metadata see Notebook cell type annotation"
   ]
  },
  {
   "cell_type": "markdown",
   "id": "b33cc603-b617-45d9-8d6c-122cf50ce8a9",
   "metadata": {},
   "source": [
    "## CellRanger"
   ]
  },
  {
   "cell_type": "code",
   "execution_count": null,
   "id": "403c0c46-ff9a-495f-9243-3cd1e7d2beba",
   "metadata": {},
   "outputs": [],
   "source": [
    "os.system(\"sbatch -J CRAPBMC --mem=128G --nodes=1 --exclusive --output=/store24/project24/ladcol_012/GNN/Datasets/10XhsPBMC10kMO/Out/10XhsPBMC10kMO_0_CellRangerArcT2T.out \\\n",
    "            0_CellRangerArc.sh pbmc_unsorted_10k \\\n",
    "            /store24/project24/ladcol_012/AnnotRef/hs/T2T/References/T2T_CRArc \\\n",
    "            /store24/project24/ladcol_012/GNN/Datasets/10XhsPBMC10kMO/Fastq/pbmc_unsorted_10k/gex \\\n",
    "            /store24/project24/ladcol_012/GNN/Datasets/10XhsPBMC10kMO/Fastq/pbmc_unsorted_10k/atac/ \\\n",
    "            128 64 \\\n",
    "            /store24/project24/ladcol_012/GNN/Datasets/10XhsPBMC10kMO/\")"
   ]
  },
  {
   "cell_type": "code",
   "execution_count": null,
   "id": "d656dc20-5bf7-4dd7-95b5-ffca4622c2f3",
   "metadata": {},
   "outputs": [],
   "source": [
    "os.system(\"sbatch -J PCPBMC -p slim18 --mem=128G --nodes=1 \\\n",
    "--output=Datasets/10XhsPBMC10kMO/Out/10XhsPBMC10kMO_1_PeakCalling.out \\\n",
    "1_PeakCalling.sh Datasets/10XhsPBMC10kMO/FragFile/atac_fragments.tsv.gz 10XhsPBMC10kMO \\\n",
    "Datasets/10XhsPBMC10kMO/FragFile/10XhsPBMC10kMO_PeakCalling 3088269832\")"
   ]
  },
  {
   "cell_type": "code",
   "execution_count": null,
   "id": "b329602d-c69e-4fd7-8b67-149b906d7d2f",
   "metadata": {},
   "outputs": [],
   "source": []
  },
  {
   "cell_type": "markdown",
   "id": "770edbe2-b762-4322-b314-3b48ca3fab3a",
   "metadata": {},
   "source": [
    "# HSPC\n",
    "\n",
    "Data and metadata from https://www.nature.com/articles/s41587-022-01476-y 0th day"
   ]
  },
  {
   "cell_type": "markdown",
   "id": "766be674-709f-4504-92a8-02750987512a",
   "metadata": {},
   "source": [
    "## PC"
   ]
  },
  {
   "cell_type": "code",
   "execution_count": null,
   "id": "fcdad485-55a8-4dfa-9361-c4ba643c4eff",
   "metadata": {},
   "outputs": [],
   "source": [
    "os.system(f\"mkdir -p Datasets/HSPC/Out\")"
   ]
  },
  {
   "cell_type": "code",
   "execution_count": null,
   "id": "ad7b503d-4b4e-4ff5-a7bf-9e6edc7630c8",
   "metadata": {},
   "outputs": [],
   "source": [
    "os.system(\"sbatch -J PCMB -p slim18 --mem=128G --nodes=1 \\\n",
    "--output=Datasets/HSPC/Out/HSPC_1_PeakCalling.out \\\n",
    "1_PeakCalling.sh Datasets/HSPC/FragFile/GSM6403411_3423-MV-2_atac_fragments.tsv.gz HSPC \\\n",
    "Datasets/HSPC/FragFile/HSPC_PeakCalling 3088269832\")"
   ]
  },
  {
   "cell_type": "markdown",
   "id": "e60298f2-9cf6-45a2-853e-86b64cd7f2b3",
   "metadata": {},
   "source": [
    "# Mouse brain\n",
    "\n",
    "Data from \n",
    "https://www.10xgenomics.com/datasets/fresh-embryonic-e-18-mouse-brain-5-k-1-standard-1-0-0\n",
    "\n",
    "Metadata from https://www.nature.com/articles/s41587-022-01476-y"
   ]
  },
  {
   "cell_type": "markdown",
   "id": "840bbb02-8d79-4fb9-a64d-219c8b1b2c63",
   "metadata": {},
   "source": [
    "## PC"
   ]
  },
  {
   "cell_type": "code",
   "execution_count": null,
   "id": "1beb8619-7bc4-4908-9399-a944527285c5",
   "metadata": {},
   "outputs": [],
   "source": [
    "os.system(f\"mkdir -p Datasets/MouseBrain/Out\")"
   ]
  },
  {
   "cell_type": "code",
   "execution_count": null,
   "id": "0aff49b4-48ed-48dc-8157-373c846b5cbb",
   "metadata": {},
   "outputs": [],
   "source": [
    "os.system(\"sbatch -J PCMB -p slim18 --mem=128G --nodes=1 \\\n",
    "--output=Datasets/MouseBrain/Out/MouseBrain_1_PeakCalling.out \\\n",
    "1_PeakCalling.sh Datasets/MouseBrain/FragFile/e18_mouse_brain_fresh_5k_atac_fragments.tsv.gz MouseBrain \\\n",
    "Datasets/MouseBrain/FragFile/MouseBrain_PeakCalling 2723414844\")"
   ]
  },
  {
   "cell_type": "markdown",
   "id": "11cd608b-c9e1-4567-93ea-f01084156f74",
   "metadata": {},
   "source": [
    "# Kidney\n",
    "\n",
    "Data and metadata from https://www.ncbi.nlm.nih.gov/geo/query/acc.cgi?acc=GSE172008 (rep_1)"
   ]
  },
  {
   "cell_type": "code",
   "execution_count": null,
   "id": "a209e9fb-2918-4e9e-9201-101df254f769",
   "metadata": {},
   "outputs": [],
   "source": [
    "os.system(\"sbatch -J CRKid --time 0 --mem=230G --nodes=1 \\\n",
    "--output=Datasets/Kidney/Out/92437_0_CellRangerATAC_T2T.out \\\n",
    "0_CellRangerATAC.sh 92437 /store24/project24/ladcol_012/AnnotRef/hs/T2T/References/T2T_CRArc \\\n",
    "/store24/project24/ladcol_012/GNN/Datasets/Kidney/Fastq/92437 230 64\")"
   ]
  },
  {
   "cell_type": "markdown",
   "id": "ea4709a0-fdbc-4199-9b5b-4c9c9af94e03",
   "metadata": {},
   "source": [
    "## PC"
   ]
  },
  {
   "cell_type": "code",
   "execution_count": null,
   "id": "f6f10250-f70f-474c-8588-1966abc29757",
   "metadata": {},
   "outputs": [],
   "source": [
    "os.system(\"sbatch -J PCKidney -p slim18 --mem=128G --nodes=1 \\\n",
    "--output=Datasets/Kidney/Out/92437_1_PeakCalling.out \\\n",
    "1_PeakCalling.sh Datasets/Kidney/FragFile/fragments.tsv.gz 92437 \\\n",
    "Datasets/Kidney/FragFile/92437_PeakCalling 3088269832\")"
   ]
  },
  {
   "cell_type": "code",
   "execution_count": null,
   "id": "2ce0a68e-0dcd-4896-98e1-48c397471aa9",
   "metadata": {},
   "outputs": [],
   "source": []
  }
 ],
 "metadata": {
  "kernelspec": {
   "display_name": "Python 3 (ipykernel)",
   "language": "python",
   "name": "python3"
  },
  "language_info": {
   "codemirror_mode": {
    "name": "ipython",
    "version": 3
   },
   "file_extension": ".py",
   "mimetype": "text/x-python",
   "name": "python",
   "nbconvert_exporter": "python",
   "pygments_lexer": "ipython3",
   "version": "3.10.14"
  },
  "toc": {
   "base_numbering": 1,
   "nav_menu": {},
   "number_sections": true,
   "sideBar": true,
   "skip_h1_title": false,
   "title_cell": "Table of Contents",
   "title_sidebar": "Contents",
   "toc_cell": false,
   "toc_position": {
    "height": "calc(100% - 180px)",
    "left": "10px",
    "top": "150px",
    "width": "384px"
   },
   "toc_section_display": true,
   "toc_window_display": true
  }
 },
 "nbformat": 4,
 "nbformat_minor": 5
}
