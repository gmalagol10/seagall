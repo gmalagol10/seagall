{
 "cells": [
  {
   "cell_type": "code",
   "execution_count": null,
   "id": "3cbda905",
   "metadata": {
    "scrolled": true
   },
   "outputs": [],
   "source": [
    "import pandas as pd\n",
    "import scanpy as sc\n",
    "\n",
    "import os\n",
    "import scipy\n",
    "import glob\n",
    "\n",
    "from pathlib import Path\n",
    "import Utils as ut\n",
    "import ML_utils as mlu"
   ]
  },
  {
   "cell_type": "markdown",
   "id": "13c35ff8-801b-4d88-9d9d-7583669bcacf",
   "metadata": {},
   "source": [
    "Replace the folders path with the appropriate ones of your machine"
   ]
  },
  {
   "cell_type": "markdown",
   "id": "29548f95-e6da-4e19-a2a4-6f28ba4003d1",
   "metadata": {},
   "source": [
    "# Human brain"
   ]
  },
  {
   "cell_type": "markdown",
   "id": "ef95dedc-c1c9-4edd-9cb9-aa63193c4c1a",
   "metadata": {},
   "source": [
    "## ATAC"
   ]
  },
  {
   "cell_type": "code",
   "execution_count": null,
   "id": "fcd3f620-94ca-472c-806c-ede89edc638d",
   "metadata": {},
   "outputs": [],
   "source": [
    "path=\"Datasets/10XhsBrain3kMO/FeatureSpaces/Peak/10XhsBrain3kMO_Peak\"\n",
    "gtf_file=\"../AnnotRef/hs/T2T/GCF_009914755.1_T2T-CHM13v2.0_genomic.gtf.gz\"\n",
    "frag_file=\"Datasets/10XhsBrain3kMO/FragFile/atac_fragments.tsv.gz\"\n",
    "featurespace=\"Peak\"\n",
    "feature_file=\"Datasets/10XhsBrain3kMO/FragFile/10XhsBrain3kMO_PeakCalling/10XhsBrain3kMO_peaks.narrowPeak\"\n",
    "metadata=\"Datasets/10XhsBrain3kMO/10XhsBrain3kMO_metadata.csv\"\n",
    "source=\"BestRefSeq\"\n",
    "rep=\"GRAE\"\n",
    "target_label=\"CellType\""
   ]
  },
  {
   "cell_type": "code",
   "execution_count": null,
   "id": "e28be71f-00eb-4227-99a7-5674b33e63b5",
   "metadata": {},
   "outputs": [],
   "source": [
    "os.system(f\"mkdir -p 10XhsBrain3kMO/Out\")\n",
    "os.system(f\"sbatch 2_Run_CountMatrix.sh {path} {gtf_file} {frag_file} {featurespace} {feature_file} {metadata} {source} {rep} {target_label}\")"
   ]
  },
  {
   "cell_type": "markdown",
   "id": "517d4029-1c1b-43c7-9330-88968d587285",
   "metadata": {},
   "source": [
    "## GEX"
   ]
  },
  {
   "cell_type": "code",
   "execution_count": null,
   "id": "5b673984-a9c7-4275-a9fb-0d95372b2bf9",
   "metadata": {},
   "outputs": [],
   "source": [
    "adata=sc.read_10x_mtx(\"Datasets/10XhsBrain3kMO/CTA/filtered_feature_bc_matrix\")\n",
    "adata.X=scipy.sparse.csr_matrix(adata.X,  dtype=\"int32\")\n",
    "adata"
   ]
  },
  {
   "cell_type": "code",
   "execution_count": null,
   "id": "0dd23598-553c-4beb-9afa-3f39382f69c2",
   "metadata": {},
   "outputs": [],
   "source": [
    "df=pd.read_csv(\"Datasets/10XhsBrain3kMO/10XhsBrain3kMO_metadata.csv\", index_col=0)\n",
    "inter=ut.intersection([df.index, adata.obs.index])\n",
    "adata=adata[inter]\n",
    "df=df.loc[inter]\n",
    "adata.obs=df.loc[inter]\n",
    "adata"
   ]
  },
  {
   "cell_type": "code",
   "execution_count": null,
   "id": "ee057680-72e6-4d35-a2cd-168b35cf62bc",
   "metadata": {},
   "outputs": [],
   "source": [
    "Path(\"Datasets/10XhsBrain3kMO/FeatureSpaces/GEX/CM\").mkdir(parents=True, exist_ok=True)\n",
    "adata.write(\"Datasets/10XhsBrain3kMO/FeatureSpaces/GEX/CM/10XhsBrain3kMO_GEX_Raw.h5ad\", compression=\"gzip\")"
   ]
  },
  {
   "cell_type": "code",
   "execution_count": null,
   "id": "a42ec8b3-890a-4731-8f0a-54b59defd0f2",
   "metadata": {},
   "outputs": [],
   "source": [
    "path=\"Datasets/10XhsBrain3kMO/FeatureSpaces/GEX/10XhsBrain3kMO_GEX\"\n",
    "gtf_file=None\n",
    "frag_file=None\n",
    "featurespace=\"GEX\"\n",
    "feature_file=None\n",
    "metadata=None\n",
    "source=None\n",
    "rep=\"GRAE\"\n",
    "target_label=\"CellType\"\n",
    "\n",
    "os.system(f\"sbatch 2_Run_CountMatrix.sh {path} {gtf_file} {frag_file} {featurespace} {feature_file} {metadata} {source} {rep} {target_label}\")"
   ]
  },
  {
   "cell_type": "markdown",
   "id": "ad85e9a7",
   "metadata": {},
   "source": [
    "# PBMC"
   ]
  },
  {
   "cell_type": "markdown",
   "id": "7285b673-9066-4103-9c9a-819ba18890c2",
   "metadata": {},
   "source": [
    "## ATAC"
   ]
  },
  {
   "cell_type": "code",
   "execution_count": null,
   "id": "d66abf62-7829-4c85-99c8-d77632adc136",
   "metadata": {},
   "outputs": [],
   "source": [
    "path=\"Datasets/10XhsPBMC10kMO/FeatureSpaces/Peak/10XhsPBMC10kMO_Peak\"\n",
    "gtf_file=\"../AnnotRef/hs/T2T/GCF_009914755.1_T2T-CHM13v2.0_genomic.gtf.gz\"\n",
    "frag_file=\"Datasets/10XhsPBMC10kMO/FragFile/atac_fragments.tsv.gz\"\n",
    "featurespace=\"Peak\"\n",
    "feature_file=\"Datasets/10XhsPBMC10kMO/FragFile/10XhsPBMC10kMO_PeakCalling/10XhsPBMC10kMO_peaks.narrowPeak\"\n",
    "metadata=\"Datasets/10XhsPBMC10kMO/10XhsPBMC10kMO_metadata.csv\"\n",
    "source=\"BestRefSeq\"\n",
    "rep=\"GRAE\"\n",
    "target_label=\"CellType\""
   ]
  },
  {
   "cell_type": "code",
   "execution_count": null,
   "id": "4a7fd747-f875-404c-b643-f1c18b8b807f",
   "metadata": {},
   "outputs": [],
   "source": [
    "os.system(f\"mkdir -p 10XhsPBMC10kMO/Out\")\n",
    "os.system(f\"sbatch 2_Run_CountMatrix.sh {path} {gtf_file} {frag_file} {featurespace} {feature_file} {metadata} {source} {rep} {target_label}\")"
   ]
  },
  {
   "cell_type": "markdown",
   "id": "c427f4f8-fd1b-41a5-a3eb-58bac57a793d",
   "metadata": {},
   "source": [
    "## GEX"
   ]
  },
  {
   "cell_type": "code",
   "execution_count": null,
   "id": "3a88660a-e6d9-410c-808c-88720c7252c8",
   "metadata": {},
   "outputs": [],
   "source": [
    "adata=sc.read_10x_mtx(\"Datasets/10XhsPBMC10kMO/CTA/filtered_feature_bc_matrix\")\n",
    "adata.X=scipy.sparse.csr_matrix(adata.X,  dtype=\"int32\")\n",
    "adata"
   ]
  },
  {
   "cell_type": "code",
   "execution_count": null,
   "id": "a6e948b1-4789-4237-b6cb-5e6902783c62",
   "metadata": {},
   "outputs": [],
   "source": [
    "df=pd.read_csv(\"Datasets/10XhsPBMC10kMO/10XhsPBMC10kMO_metadata.csv\", index_col=0)\n",
    "inter=ut.intersection([df.index, adata.obs.index])\n",
    "adata=adata[inter]\n",
    "df=df.loc[inter]\n",
    "adata.obs=df.loc[inter]\n",
    "adata"
   ]
  },
  {
   "cell_type": "code",
   "execution_count": null,
   "id": "f37b42f4-bad9-4e66-8e1d-7931b5e68de7",
   "metadata": {},
   "outputs": [],
   "source": [
    "Path(\"Datasets/10XhsPBMC10kMO/FeatureSpaces/GEX/CM\").mkdir(parents=True, exist_ok=True)\n",
    "adata.write(\"Datasets/10XhsPBMC10kMO/FeatureSpaces/GEX/CM/10XhsPBMC10kMO_GEX_Raw.h5ad\", compression=\"gzip\")"
   ]
  },
  {
   "cell_type": "code",
   "execution_count": null,
   "id": "7b7158f3-1028-45a8-8c70-017f464f91cd",
   "metadata": {},
   "outputs": [],
   "source": [
    "path=\"Datasets/10XhsPBMC10kMO/FeatureSpaces/GEX/10XhsPBMC10kMO_GEX\"\n",
    "gtf_file=None\n",
    "frag_file=None\n",
    "featurespace=\"GEX\"\n",
    "feature_file=None\n",
    "metadata=None\n",
    "source=None\n",
    "rep=\"GRAE\"\n",
    "target_label=\"CellType\"\n",
    "\n",
    "os.system(f\"sbatch 2_Run_CountMatrix.sh {path} {gtf_file} {frag_file} {featurespace} {feature_file} {metadata} {source} {rep} {target_label}\")"
   ]
  },
  {
   "cell_type": "markdown",
   "id": "8f8b714a",
   "metadata": {},
   "source": [
    "# Breast cancer"
   ]
  },
  {
   "cell_type": "code",
   "execution_count": null,
   "id": "301aacf0",
   "metadata": {},
   "outputs": [],
   "source": [
    "df=pd.read_csv(\"Datasets/GSE117309/CTA/GSE117309_RAW/GSM3290889_CountTable_HBCx-95_scChIP_H3K27me3_hg38.txt.gz\", sep=\"\\t\", index_col=0)"
   ]
  },
  {
   "cell_type": "code",
   "execution_count": null,
   "id": "32d8303f",
   "metadata": {
    "scrolled": true
   },
   "outputs": [],
   "source": [
    "adata=sc.AnnData(X=scipy.sparse.csr_matrix(df.T.values, dtype=\"float32\"), obs=pd.DataFrame(index=df.columns), var=pd.DataFrame(index=df.index))\n",
    "adata.obs[\"BCsubtype\"]=\"HBCx95\"\n",
    "adata.obs.index=[ind+\"HBCx95\" for ind in adata.obs.index]\n",
    "adata.var[\"feature\"]=adata.var.index\n",
    "adata.obs=adata.obs.astype(str)\n",
    "os.system(\"mkdir -p Datasets/GSE117309/FeatureSpaces\")\n",
    "adata.write(filename=\"Datasets/GSE117309/FeatureSpaces/HBCx95.h5ad\", compression=\"gzip\")"
   ]
  },
  {
   "cell_type": "code",
   "execution_count": null,
   "id": "3dfa4f4c",
   "metadata": {},
   "outputs": [],
   "source": [
    "df=pd.read_csv(\"Datasets/GSE117309/CTA/GSE117309_RAW/GSM3290890_CountTable_HBCx-95-CapaR_scChIP_H3K27me3_hg38.txt.gz\", sep=\"\\t\", index_col=0)"
   ]
  },
  {
   "cell_type": "code",
   "execution_count": null,
   "id": "db9b808d",
   "metadata": {
    "scrolled": true
   },
   "outputs": [],
   "source": [
    "adata=sc.AnnData(X=scipy.sparse.csr_matrix(df.T.values, dtype=\"float32\"), obs=pd.DataFrame(index=df.columns), var=pd.DataFrame(index=df.index))\n",
    "adata.obs[\"BCsubtype\"]=\"HBCx95_CapaR\"\n",
    "adata.obs.index=[ind+\"HBCx95_CapaR\" for ind in adata.obs.index]\n",
    "adata.var[\"feature\"]=adata.var.index\n",
    "adata.obs=adata.obs.astype(str)\n",
    "adata.write(filename=\"Datasets/GSE117309/FeatureSpaces/HBCx95_CapaR.h5ad\", compression=\"gzip\")"
   ]
  },
  {
   "cell_type": "code",
   "execution_count": null,
   "id": "de501563",
   "metadata": {},
   "outputs": [],
   "source": [
    "df=pd.read_csv(\"Datasets/GSE117309/CTA/GSE117309_RAW/GSM3290891_CountTable_HBCx-22_scChIP_H3K27me3_hg38.txt.gz\", sep=\"\\t\", index_col=0)"
   ]
  },
  {
   "cell_type": "code",
   "execution_count": null,
   "id": "593e2bff",
   "metadata": {
    "scrolled": true
   },
   "outputs": [],
   "source": [
    "adata=sc.AnnData(X=scipy.sparse.csr_matrix(df.T.values, dtype=\"float32\"), obs=pd.DataFrame(index=df.columns), var=pd.DataFrame(index=df.index))\n",
    "adata.obs[\"BCsubtype\"]=\"HBCx22\"\n",
    "adata.obs.index=[ind+\"HBCx22\" for ind in adata.obs.index]\n",
    "adata.var[\"feature\"]=adata.var.index\n",
    "adata.obs=adata.obs.astype(str)\n",
    "adata.write(filename=\"Datasets/GSE117309/FeatureSpaces/HBCx22.h5ad\", compression=\"gzip\")"
   ]
  },
  {
   "cell_type": "code",
   "execution_count": null,
   "id": "c1eea877",
   "metadata": {
    "scrolled": true
   },
   "outputs": [],
   "source": [
    "df=pd.read_csv(\"Datasets/GSE117309/CTA/GSE117309_RAW/GSM3290892_CountTable_HBCx-22-TamR_scChIP_H3K27me3_hg38.txt.gz\", sep=\"\\t\", index_col=0)"
   ]
  },
  {
   "cell_type": "code",
   "execution_count": null,
   "id": "ccf682c2",
   "metadata": {},
   "outputs": [],
   "source": [
    "adata=sc.AnnData(X=scipy.sparse.csr_matrix(df.T.values, dtype=\"float32\"), obs=pd.DataFrame(index=df.columns), var=pd.DataFrame(index=df.index))\n",
    "adata.obs[\"BCsubtype\"]=\"HBCx22_TamR\"\n",
    "adata.obs.index=[ind+\"HBCx22_TamR\" for ind in adata.obs.index]\n",
    "adata.var[\"feature\"]=adata.var.index\n",
    "adata.obs=adata.obs.astype(str)\n",
    "adata.write(filename=\"Datasets/GSE117309/FeatureSpaces/HBCx22_TamR.h5ad\", compression=\"gzip\")"
   ]
  },
  {
   "cell_type": "code",
   "execution_count": null,
   "id": "1c705448",
   "metadata": {},
   "outputs": [],
   "source": [
    "files=sorted(glob.glob(\"Datasets/GSE117309/FeatureSpaces/*.h5ad\"))\n",
    "files"
   ]
  },
  {
   "cell_type": "code",
   "execution_count": null,
   "id": "12fbe4c5",
   "metadata": {},
   "outputs": [],
   "source": [
    "adatas=[sc.read_h5ad(file) for file in files]\n",
    "adata=sc.concat(adatas)\n",
    "adata"
   ]
  },
  {
   "cell_type": "code",
   "execution_count": null,
   "id": "732610f2",
   "metadata": {},
   "outputs": [],
   "source": [
    "adata.var[\"chr\"]=[ind.split(\"_\")[0] for ind in adata.var.index]\n",
    "adata.var[\"start\"]=[ind.split(\"_\")[1] for ind in adata.var.index]\n",
    "adata.var[\"stop\"]=[ind.split(\"_\")[2] for ind in adata.var.index]"
   ]
  },
  {
   "cell_type": "code",
   "execution_count": null,
   "id": "c43d236f",
   "metadata": {},
   "outputs": [],
   "source": [
    "adata=adata[:,adata.var[adata.var['chr'].str.match('chr')].index]\n",
    "adata=adata[:,adata.var[~adata.var['chr'].str.match('chrM')].index]\n",
    "adata=adata[:,adata.var[~adata.var.start.str.startswith(('K',\"G\",\"J\"))].index]\n",
    "adata"
   ]
  },
  {
   "cell_type": "code",
   "execution_count": null,
   "id": "85ce5adb",
   "metadata": {},
   "outputs": [],
   "source": [
    "Path(\"Datasets/GSE117309/FeatureSpaces/Window/CM\").mkdir(parents=True, exist_ok=True)\n",
    "adata.write(\"Datasets/GSE117309/FeatureSpaces/Window/CM/GSE117309_Window_Raw.h5ad\", compression=\"gzip\")"
   ]
  },
  {
   "cell_type": "code",
   "execution_count": null,
   "id": "a85cc427-bdc0-4415-b0e9-e7eaff8d5c1f",
   "metadata": {},
   "outputs": [],
   "source": [
    "path=\"Datasets/GSE117309/FeatureSpaces/Window/GSE117309_Window\"\n",
    "gtf_file=None\n",
    "frag_file=None\n",
    "featurespace=\"Window\"\n",
    "feature_file=None\n",
    "metadata=None\n",
    "source=None\n",
    "rep=\"GRAE\"\n",
    "target_label=\"BCsubtype\"\n",
    "\n",
    "os.system(f\"sbatch 2_Run_CountMatrix.sh {path} {gtf_file} {frag_file} {featurespace} {feature_file} {metadata} {source} {rep} {target_label}\")"
   ]
  },
  {
   "cell_type": "markdown",
   "id": "d87a5da1-543d-48b1-b936-4957e02b3378",
   "metadata": {},
   "source": [
    "# HSPC"
   ]
  },
  {
   "cell_type": "markdown",
   "id": "23f6b8ef-b883-4a00-9e79-e0e275af4aff",
   "metadata": {},
   "source": [
    "## ATAC"
   ]
  },
  {
   "cell_type": "code",
   "execution_count": null,
   "id": "48cd126f-c451-47e0-b0b5-d2ac9c6ea829",
   "metadata": {
    "scrolled": true
   },
   "outputs": [],
   "source": [
    "path=\"Datasets/HSPC/FeatureSpaces/Peak/HSPC_Peak\"\n",
    "gtf_file=\"../AnnotRef/hs/hg38/gencode.v44.annotation.gtf.gz\"\n",
    "frag_file=\"Datasets/HSPC/FragFile/GSM6403411_3423-MV-2_atac_fragments.tsv.gz\"\n",
    "featurespace=\"Peak\"\n",
    "feature_file=\"Datasets/HSPC/FragFile/HSPC_PeakCalling/HSPC_peaks.narrowPeak\"\n",
    "metadata=\"Datasets/HSPC/HSPC_metadata.csv\"\n",
    "source=\"HAVANA\"\n",
    "rep=\"GRAE\"\n",
    "target_label=\"CellType\""
   ]
  },
  {
   "cell_type": "code",
   "execution_count": null,
   "id": "835a4d88-9a75-4688-956b-40a9e2912b24",
   "metadata": {},
   "outputs": [],
   "source": [
    "os.system(f\"mkdir -p HSPC/Out\")\n",
    "os.system(f\"sbatch 2_Run_CountMatrix.sh {path} {gtf_file} {frag_file} {featurespace} {feature_file} {metadata} {source} {rep} {target_label}\")"
   ]
  },
  {
   "cell_type": "markdown",
   "id": "0bd09e8f-856b-40f2-b1ce-a709128546ed",
   "metadata": {},
   "source": [
    "## GEX"
   ]
  },
  {
   "cell_type": "code",
   "execution_count": null,
   "id": "9f87fa08-3a90-4d80-b67d-65ee1ff3d3a8",
   "metadata": {},
   "outputs": [],
   "source": [
    "adata=sc.read_mtx(\"Datasets/HSPC/CTA/GSE209878_3423-MV-2_matrix.mtx.gz\")\n",
    "adata=adata.T\n",
    "adata"
   ]
  },
  {
   "cell_type": "code",
   "execution_count": null,
   "id": "b436120a-6020-48ae-aae9-ace91dd78efc",
   "metadata": {},
   "outputs": [],
   "source": [
    "barcodes=pd.read_csv(\"Datasets/HSPC/CTA/GSE209878_3423-MV-2_barcodes.tsv.gz\", sep=\"\\t\", index_col=0, header=None)\n",
    "features=pd.read_csv(\"Datasets/HSPC/CTA/GSE209878_3423-MV-2_features.tsv.gz\", sep=\"\\t\", index_col=0, header=None)\n",
    "features.head()"
   ]
  },
  {
   "cell_type": "code",
   "execution_count": null,
   "id": "2c9985cf-93f1-4cb1-ace4-e9589a0cb85e",
   "metadata": {},
   "outputs": [],
   "source": [
    "adata.var.index=features.index\n",
    "adata.obs.index=barcodes.index"
   ]
  },
  {
   "cell_type": "code",
   "execution_count": null,
   "id": "83e83f44-9d06-41fc-aecc-1ab5f2956930",
   "metadata": {},
   "outputs": [],
   "source": [
    "adata=adata[:, adata.var.index.str.startswith(\"ENS\")]\n",
    "adata"
   ]
  },
  {
   "cell_type": "code",
   "execution_count": null,
   "id": "f7f17919-1b08-42d0-9b17-6b6bb936cf33",
   "metadata": {},
   "outputs": [],
   "source": [
    "adata.var.index=list(features[1])"
   ]
  },
  {
   "cell_type": "code",
   "execution_count": null,
   "id": "0b350d4b-f87f-4c8e-b87a-62779a724d8d",
   "metadata": {},
   "outputs": [],
   "source": [
    "cta=pd.read_csv(\"Datasets/HSPC/HSPC_metadata.csv\", index_col=0)\n",
    "cta=cta.loc[ut.intersection([cta.index, adata.obs.index])]\n",
    "cta.head()"
   ]
  },
  {
   "cell_type": "code",
   "execution_count": null,
   "id": "d0fbaa12-a778-4a7a-823f-2b4f55e2a08d",
   "metadata": {},
   "outputs": [],
   "source": [
    "adata=adata[cta.index]\n",
    "adata"
   ]
  },
  {
   "cell_type": "code",
   "execution_count": null,
   "id": "ba1b1673-e8dd-4db1-a9f6-4ed78b2b9160",
   "metadata": {},
   "outputs": [],
   "source": [
    "adata.obs[\"CellType\"]=cta[\"CellType\"]"
   ]
  },
  {
   "cell_type": "code",
   "execution_count": null,
   "id": "4f6e4794-2794-4ffe-bd2e-ecd04b968fa8",
   "metadata": {},
   "outputs": [],
   "source": [
    "adata.var.index.name=\"index_var\"\n",
    "adata.obs.index.name=\"index_obs\"\n",
    "adata.var[\"gene\"]=features.loc[features.index.str.startswith(\"ENS\")][1]"
   ]
  },
  {
   "cell_type": "code",
   "execution_count": null,
   "id": "4d94c682-8737-4c28-a918-292bf49525a7",
   "metadata": {},
   "outputs": [],
   "source": [
    "Path(\"Datasets/HSPC/FeatureSpaces/GEX/CM/\").mkdir(parents=True, exist_ok=True)\n",
    "adata.write(\"Datasets/HSPC/FeatureSpaces/GEX/CM/HSPC_GEX_Raw.h5ad\", compression=\"gzip\")"
   ]
  },
  {
   "cell_type": "code",
   "execution_count": null,
   "id": "5af7b438-ac31-4ddd-aa6a-7c9b5b27f318",
   "metadata": {},
   "outputs": [],
   "source": [
    "path=\"Datasets/HSPC/FeatureSpaces/GEX/HSPC_GEX\"\n",
    "gtf_file=None\n",
    "frag_file=None\n",
    "featurespace=\"GEX\"\n",
    "feature_file=None\n",
    "metadata=None\n",
    "source=None\n",
    "rep=\"GRAE\"\n",
    "target_label=\"CellType\"\n",
    "\n",
    "os.system(f\"sbatch 2_Run_CountMatrix.sh {path} {gtf_file} {frag_file} {featurespace} {feature_file} {metadata} {source} {rep} {target_label}\")"
   ]
  },
  {
   "cell_type": "code",
   "execution_count": null,
   "id": "35f84d09-c5ad-4bca-8137-01544e0ad12a",
   "metadata": {},
   "outputs": [],
   "source": []
  },
  {
   "cell_type": "markdown",
   "id": "b692cf8f-c538-4ebc-b61b-d8e85c9472b5",
   "metadata": {},
   "source": [
    "# Mouse brain"
   ]
  },
  {
   "cell_type": "markdown",
   "id": "afb98084-34ac-4b07-80b9-13d2cc06db1e",
   "metadata": {},
   "source": [
    "## ATAC"
   ]
  },
  {
   "cell_type": "code",
   "execution_count": null,
   "id": "f313944b-c672-4942-a256-fdf1f2e45ebe",
   "metadata": {},
   "outputs": [],
   "source": [
    "path=\"Datasets/MouseBrain/FeatureSpaces/Peak/MouseBrain_Peak\"\n",
    "gtf_file=\"../AnnotRef/mm/References/refdata-cellranger-arc-mm10-2020-A-2.0.0/genes/genes.gtf.gz\"\n",
    "frag_file=\"Datasets/MouseBrain/FragFile/e18_mouse_brain_fresh_5k_atac_fragments.tsv.gz\"\n",
    "featurespace=\"Peak\"\n",
    "feature_file=\"Datasets/MouseBrain/FragFile/MouseBrain_PeakCalling/MouseBrain_peaks.narrowPeak\"\n",
    "metadata=\"Datasets/MouseBrain/MouseBrain_metadata.csv\"\n",
    "source=\"HAVANA\"\n",
    "rep=\"GRAE\"\n",
    "target_label=\"CellType\""
   ]
  },
  {
   "cell_type": "code",
   "execution_count": null,
   "id": "ec0d301d-1f58-4dca-a301-f18025d6ab12",
   "metadata": {},
   "outputs": [],
   "source": [
    "os.system(f\"mkdir -p MouseBrain/Out\")\n",
    "os.system(f\"sbatch 2_Run_CountMatrix.sh {path} {gtf_file} {frag_file} {featurespace} {feature_file} {metadata} {source} {rep} {target_label}\")"
   ]
  },
  {
   "cell_type": "markdown",
   "id": "bf90ec31-e450-45e3-ab31-557a2b411435",
   "metadata": {},
   "source": [
    "## GEX"
   ]
  },
  {
   "cell_type": "code",
   "execution_count": null,
   "id": "924c4d19-8089-491f-8748-d8734f2d377b",
   "metadata": {},
   "outputs": [],
   "source": [
    "adata=sc.read_10x_h5(\"Datasets/MouseBrain/CTA/e18_mouse_brain_fresh_5k_filtered_feature_bc_matrix.h5\")\n",
    "adata.X=scipy.sparse.csr_matrix(adata.X,  dtype=\"int32\")\n",
    "adata"
   ]
  },
  {
   "cell_type": "code",
   "execution_count": null,
   "id": "6ed69a29-0f47-4a59-b442-3a0fbad60ddb",
   "metadata": {},
   "outputs": [],
   "source": [
    "df=pd.read_csv(\"Datasets/MouseBrain/MouseBrain_metadata.csv\", index_col=0)\n",
    "inter=ut.intersection([df.index, adata.obs.index])\n",
    "adata=adata[inter]\n",
    "df=df.loc[inter]\n",
    "adata.obs=df.loc[inter]\n",
    "adata"
   ]
  },
  {
   "cell_type": "code",
   "execution_count": null,
   "id": "60df4af6-83d6-41db-b697-4933f0a6b607",
   "metadata": {},
   "outputs": [],
   "source": [
    "Path(\"Datasets/MouseBrain/FeatureSpaces/GEX/CM\").mkdir(parents=True, exist_ok=True)\n",
    "adata.write(\"Datasets/MouseBrain/FeatureSpaces/GEX/CM/MouseBrain_GEX_Raw.h5ad\", compression=\"gzip\")"
   ]
  },
  {
   "cell_type": "code",
   "execution_count": null,
   "id": "24fee9ae-452c-4e99-8cc1-007ac3525d3f",
   "metadata": {},
   "outputs": [],
   "source": [
    "path=\"Datasets/MouseBrain/FeatureSpaces/GEX/MouseBrain_GEX\"\n",
    "gtf_file=None\n",
    "frag_file=None\n",
    "featurespace=\"GEX\"\n",
    "feature_file=None\n",
    "metadata=None\n",
    "source=None\n",
    "rep=\"GRAE\"\n",
    "target_label=\"CellType\"\n",
    "\n",
    "os.system(f\"sbatch 2_Run_CountMatrix.sh {path} {gtf_file} {frag_file} {featurespace} {feature_file} {metadata} {source} {rep} {target_label}\")"
   ]
  },
  {
   "cell_type": "code",
   "execution_count": null,
   "id": "d95015fe-db19-4dbf-9fd0-2123bfc67e4a",
   "metadata": {},
   "outputs": [],
   "source": []
  },
  {
   "cell_type": "markdown",
   "id": "ad1e7e2a-9588-4119-8608-0e8e4ce7bc31",
   "metadata": {},
   "source": [
    "# Kidney"
   ]
  },
  {
   "cell_type": "code",
   "execution_count": null,
   "id": "3b5e6205-6060-4018-bf88-1eda0a7cb05c",
   "metadata": {},
   "outputs": [],
   "source": [
    "path=\"Datasets/Kidney/FeatureSpaces/Peak/Kidney_Peak\"\n",
    "gtf_file=\"../AnnotRef/hs/T2T/GCF_009914755.1_T2T-CHM13v2.0_genomic.gtf.gz\"\n",
    "frag_file=\"Datasets/Kidney/FragFile/fragments.tsv.gz\"\n",
    "featurespace=\"Peak\"\n",
    "feature_file=\"Datasets/Kidney/FragFile/92437_PeakCalling/92437_peaks.narrowPeak\"\n",
    "metadata=\"Datasets/Kidney/Kidney_metadata.csv\"\n",
    "source=\"BestRefSeq\"\n",
    "rep=\"GRAE\"\n",
    "target_label=\"CellType\""
   ]
  },
  {
   "cell_type": "code",
   "execution_count": null,
   "id": "33c65c85-7802-43e9-bf44-654019406463",
   "metadata": {},
   "outputs": [],
   "source": [
    "os.system(f\"mkdir -p Kidney/Out\")\n",
    "os.system(f\"sbatch 2_Run_CountMatrix.sh {path} {gtf_file} {frag_file} {featurespace} {feature_file} {metadata} {source} {rep} {target_label}\")"
   ]
  },
  {
   "cell_type": "code",
   "execution_count": null,
   "id": "38c7a2a5-4041-44bc-8952-72cd55a41e0e",
   "metadata": {},
   "outputs": [],
   "source": []
  },
  {
   "cell_type": "markdown",
   "id": "af166d3e-65e1-4221-828d-fb8d5837a68f",
   "metadata": {},
   "source": [
    "# AE"
   ]
  },
  {
   "cell_type": "code",
   "execution_count": null,
   "id": "5993e113-a7bb-40ea-8506-6a3ca630bb1e",
   "metadata": {
    "scrolled": true
   },
   "outputs": [],
   "source": [
    "ds_infos=pd.read_csv(\"Tables/Datasets_infos.tsv\", sep=\"\\t\", index_col=0)\n",
    "ds_infos=ds_infos\n",
    "ds_infos"
   ]
  },
  {
   "cell_type": "code",
   "execution_count": null,
   "id": "6355cc3a-19dc-4bd9-a9c4-1764dc365b30",
   "metadata": {
    "scrolled": true
   },
   "outputs": [],
   "source": [
    "rep=\"AE\"\n",
    "for ds, fs, lb in zip(ds_infos[\"DSs\"], ds_infos[\"FsSs\"], ds_infos[\"LBs\"]):\n",
    "    print(ds, fs, lb)\n",
    "    path=f\"Datasets/{ds}/FeatureSpaces/{fs}/{ds}_{fs}\"\n",
    "    folder=\"/\".join(path.split(\"/\")[:-1])\n",
    "    name=path.split(\"/\")[-1]\n",
    "    object_name=f\"{folder}/CM/{name}\"\n",
    "    model_name=f\"{object_name}_{rep}_DR\"\n",
    "    adata=sc.read_h5ad(f\"Datasets/{ds}/FeatureSpaces/{fs}/CM/{ds}_{fs}_Def.h5ad\")\n",
    "    y = adata.obs[\"target\"].astype(int).to_numpy()\n",
    "\n",
    "    model=AE(epochs=300, patience=20, n_components=int(adata.shape[1]**(1/3)))\n",
    "    temp=grae.data.base_dataset.BaseDataset(adata.X.toarray(), y, \"none\", 0.85, 42, y)\n",
    "\n",
    "    model.fit(temp)\n",
    "\n",
    "    ad_ret=sc.AnnData(scipy.sparse.csr_matrix(model.transform(temp), dtype=\"float32\"))\n",
    "    sc.pp.neighbors(ad_ret, use_rep=\"X\", method=\"umap\")\n",
    "\n",
    "    adata.obsp[f\"{rep}_kNN\"], adata.obsm[f\"X_{rep}\"] = scipy.sparse.csr_matrix(ad_ret.obsp[\"connectivities\"], dtype=\"float32\"), scipy.sparse.csr_matrix(ad_ret.X, dtype=\"float32\")\n",
    "    adata.write(f\"Datasets/{ds}/FeatureSpaces/{fs}/CM/{ds}_{fs}_Def.h5ad\", compression=\"gzip\")"
   ]
  },
  {
   "cell_type": "code",
   "execution_count": null,
   "id": "e9972b50-7b4d-4ad8-b530-99f629ce5781",
   "metadata": {},
   "outputs": [],
   "source": [
    "from grae.models import GRAE\n",
    "import grae\n",
    "rep=\"GRAE\"\n",
    "for ds, fs, lb in zip(ds_infos[\"DSs\"], ds_infos[\"FsSs\"], ds_infos[\"LBs\"]):\n",
    "    print(ds, fs, lb)\n",
    "    path=f\"Datasets/{ds}/FeatureSpaces/{fs}/{ds}_{fs}\"\n",
    "    folder=\"/\".join(path.split(\"/\")[:-1])\n",
    "    name=path.split(\"/\")[-1]\n",
    "    object_name=f\"{folder}/CM/{name}\"\n",
    "    model_name=f\"{object_name}_{rep}_DR2D\"\n",
    "    adata=sc.read_h5ad(f\"Datasets/{ds}/FeatureSpaces/{fs}/CM/{ds}_{fs}_Def.h5ad\")\n",
    "    y = adata.obs[\"target\"].astype(int).to_numpy()\n",
    "\n",
    "    model=GRAE(epochs=300, patience=20, n_components=2)\n",
    "    temp=grae.data.base_dataset.BaseDataset(adata.X.toarray(), y, \"none\", 0.85, 42, y)\n",
    "\n",
    "    model.fit(temp)\n",
    "    model.save(f\"{model_name}.pth\")\n",
    "    \n",
    "    ad_ret=sc.AnnData(model.transform(temp))\n",
    "    sc.pp.neighbors(ad_ret, use_rep=\"X\", method=\"umap\")\n",
    "\n",
    "    adata.obsp[f\"GRAE_kNN2D\"], adata.obsm[f\"X_GRAE_2D\"] = scipy.sparse.csr_matrix(ad_ret.obsp[\"connectivities\"], dtype=\"float32\"), ad_ret.X\n",
    "    adata.write(f\"Datasets/{ds}/FeatureSpaces/{fs}/CM/{ds}_{fs}_Def.h5ad\", compression=\"gzip\")"
   ]
  },
  {
   "cell_type": "code",
   "execution_count": null,
   "id": "6ef83465-ebae-4b0a-a41c-2458f96ba9e3",
   "metadata": {},
   "outputs": [],
   "source": []
  },
  {
   "cell_type": "code",
   "execution_count": null,
   "id": "78c47b65-ef3a-4171-8222-34ceaab233a4",
   "metadata": {},
   "outputs": [],
   "source": []
  },
  {
   "cell_type": "code",
   "execution_count": null,
   "id": "8aa9d5ba-c642-4082-9a65-7e84f01c7e26",
   "metadata": {},
   "outputs": [],
   "source": []
  },
  {
   "cell_type": "code",
   "execution_count": null,
   "id": "8eff3791-918d-485c-b842-07b44a777e57",
   "metadata": {},
   "outputs": [],
   "source": []
  },
  {
   "cell_type": "code",
   "execution_count": null,
   "id": "dd0df7d4-cd44-483f-ae3c-28203e27c808",
   "metadata": {},
   "outputs": [],
   "source": []
  }
 ],
 "metadata": {
  "kernelspec": {
   "display_name": "Python 3 (ipykernel)",
   "language": "python",
   "name": "python3"
  },
  "language_info": {
   "codemirror_mode": {
    "name": "ipython",
    "version": 3
   },
   "file_extension": ".py",
   "mimetype": "text/x-python",
   "name": "python",
   "nbconvert_exporter": "python",
   "pygments_lexer": "ipython3",
   "version": "3.10.14"
  },
  "toc": {
   "base_numbering": 1,
   "nav_menu": {},
   "number_sections": true,
   "sideBar": true,
   "skip_h1_title": false,
   "title_cell": "Table of Contents",
   "title_sidebar": "Contents",
   "toc_cell": false,
   "toc_position": {
    "height": "calc(100% - 180px)",
    "left": "10px",
    "top": "150px",
    "width": "247.969px"
   },
   "toc_section_display": true,
   "toc_window_display": true
  },
  "varInspector": {
   "cols": {
    "lenName": 16,
    "lenType": 16,
    "lenVar": 40
   },
   "kernels_config": {
    "python": {
     "delete_cmd_postfix": "",
     "delete_cmd_prefix": "del ",
     "library": "var_list.py",
     "varRefreshCmd": "print(var_dic_list())"
    },
    "r": {
     "delete_cmd_postfix": ") ",
     "delete_cmd_prefix": "rm(",
     "library": "var_list.r",
     "varRefreshCmd": "cat(var_dic_list()) "
    }
   },
   "types_to_exclude": [
    "module",
    "function",
    "builtin_function_or_method",
    "instance",
    "_Feature"
   ],
   "window_display": false
  }
 },
 "nbformat": 4,
 "nbformat_minor": 5
}
