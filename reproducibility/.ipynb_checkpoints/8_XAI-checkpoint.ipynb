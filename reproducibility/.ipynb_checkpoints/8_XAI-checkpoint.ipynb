{
 "cells": [
  {
   "cell_type": "code",
   "execution_count": null,
   "id": "efd423f7-2d07-4d2e-8fe7-e4d4699e93f3",
   "metadata": {},
   "outputs": [],
   "source": [
    "import os"
   ]
  },
  {
   "cell_type": "markdown",
   "id": "8e3a0fef-44b4-4cfb-9bd0-8c22d69012cf",
   "metadata": {},
   "source": [
    "Replace the folders path with the appropriate ones of your machine"
   ]
  },
  {
   "cell_type": "markdown",
   "id": "8589ca08",
   "metadata": {},
   "source": [
    "# Human brain"
   ]
  },
  {
   "cell_type": "code",
   "execution_count": null,
   "id": "e3246e1a",
   "metadata": {},
   "outputs": [],
   "source": [
    "dataset=\"10XhsBrain3kMO\"\n",
    "label=\"CellType\""
   ]
  },
  {
   "cell_type": "code",
   "execution_count": null,
   "id": "7b10579e",
   "metadata": {
    "scrolled": true
   },
   "outputs": [],
   "source": [
    "for fs in [\"Peak\",\"GEX\"]:\n",
    "    for graph in [\"GRAE_kNN\",\"AE_kNN\"]:\n",
    "        path=f\"Datasets/{dataset}/FeatureSpaces/{fs}/XAI\"\n",
    "        name=f\"{dataset}_{fs}_{graph}_{label}\"\n",
    "        matrix=f\"Datasets/{dataset}/FeatureSpaces/{fs}/CM/{dataset}_{fs}_Def.h5ad\"\n",
    "        os.system(f\"sbatch 3_Run_XAI.sh {path} {name} {matrix} {label} {graph} True\")"
   ]
  },
  {
   "cell_type": "markdown",
   "id": "0768f328",
   "metadata": {},
   "source": [
    "# PBMC"
   ]
  },
  {
   "cell_type": "code",
   "execution_count": null,
   "id": "04349ff0",
   "metadata": {},
   "outputs": [],
   "source": [
    "dataset=\"10XhsPBMC10kMO\"\n",
    "label=\"CellType\""
   ]
  },
  {
   "cell_type": "code",
   "execution_count": null,
   "id": "c7ee2c7e",
   "metadata": {
    "scrolled": true
   },
   "outputs": [],
   "source": [
    "for fs in [\"Peak\",\"GEX\"]:\n",
    "    for graph in [\"GRAE_kNN\",\"AE_kNN\"]:\n",
    "        path=f\"Datasets/{dataset}/FeatureSpaces/{fs}/XAI\"\n",
    "        name=f\"{dataset}_{fs}_{graph}_{label}\"\n",
    "        matrix=f\"Datasets/{dataset}/FeatureSpaces/{fs}/CM/{dataset}_{fs}_Def.h5ad\"\n",
    "        os.system(f\"sbatch 3_Run_XAI.sh {path} {name} {matrix} {label} {graph} True\")"
   ]
  },
  {
   "cell_type": "code",
   "execution_count": null,
   "id": "211c80db-4c77-4556-95c4-d14d3f166ace",
   "metadata": {},
   "outputs": [],
   "source": []
  },
  {
   "cell_type": "markdown",
   "id": "927dea33",
   "metadata": {},
   "source": [
    "# Breast cancer"
   ]
  },
  {
   "cell_type": "code",
   "execution_count": null,
   "id": "cda37a71-3e7e-4375-a65f-801c6ee70d99",
   "metadata": {},
   "outputs": [],
   "source": [
    "dataset=\"GSE117309\"\n",
    "label=\"BCsubtype\"\n",
    "fs=\"Window\"\n",
    "path=f\"Datasets/{dataset}/FeatureSpaces/{fs}/XAI\"\n",
    "name=f\"{dataset}_{fs}_{graph}_{label}\"\n",
    "matrix=f\"Datasets/{dataset}/FeatureSpaces/{fs}/CM/{dataset}_{fs}_Def.h5ad\""
   ]
  },
  {
   "cell_type": "code",
   "execution_count": null,
   "id": "e2f10185",
   "metadata": {},
   "outputs": [],
   "source": [
    "for graph in [\"GRAE_kNN\",\"AE_kNN\"]:\n",
    "    os.system(f\"sbatch 3_Run_XAI.sh {path} {name} {matrix} {label} {graph} True\")"
   ]
  },
  {
   "cell_type": "markdown",
   "id": "9f240138-91f5-4649-ab71-f2ca86c576bb",
   "metadata": {},
   "source": [
    "# HSPC"
   ]
  },
  {
   "cell_type": "code",
   "execution_count": null,
   "id": "64be6717-33ec-4d9a-b82f-0397386f5db7",
   "metadata": {},
   "outputs": [],
   "source": [
    "dataset=\"HSPC\"\n",
    "label=\"CellType\""
   ]
  },
  {
   "cell_type": "code",
   "execution_count": null,
   "id": "e54f19ef-bfbb-4b83-9d19-0ba6fc4da661",
   "metadata": {},
   "outputs": [],
   "source": [
    "for fs in [\"Peak\",\"GEX\"]:\n",
    "    for graph in [\"GRAE_kNN\",\"AE_kNN\"]:\n",
    "        path=f\"Datasets/{dataset}/FeatureSpaces/{fs}/XAI\"\n",
    "        name=f\"{dataset}_{fs}_{graph}_{label}\"\n",
    "        matrix=f\"Datasets/{dataset}/FeatureSpaces/{fs}/CM/{dataset}_{fs}_Def.h5ad\"\n",
    "        os.system(f\"sbatch 3_Run_XAI.sh {path} {name} {matrix} {label} {graph} True\")"
   ]
  },
  {
   "cell_type": "markdown",
   "id": "df3d58e5-48cc-42c4-80bc-b7f19cd152c1",
   "metadata": {},
   "source": [
    "# Mouse brain"
   ]
  },
  {
   "cell_type": "code",
   "execution_count": null,
   "id": "8981f59f-254a-4dfe-a285-f490ce784a6e",
   "metadata": {},
   "outputs": [],
   "source": [
    "dataset=\"MouseBrain\"\n",
    "label=\"CellType\""
   ]
  },
  {
   "cell_type": "code",
   "execution_count": null,
   "id": "fd9bd9a9-21b8-4182-9295-56a4e786c236",
   "metadata": {},
   "outputs": [],
   "source": [
    "for fs in [\"Peak\",\"GEX\"]:\n",
    "    for graph in [\"GRAE_kNN\",\"AE_kNN\"]:\n",
    "        path=f\"Datasets/{dataset}/FeatureSpaces/{fs}/XAI\"\n",
    "        name=f\"{dataset}_{fs}_{graph}_{label}\"\n",
    "        matrix=f\"Datasets/{dataset}/FeatureSpaces/{fs}/CM/{dataset}_{fs}_Def.h5ad\"\n",
    "        os.system(f\"sbatch 3_Run_XAI.sh {path} {name} {matrix} {label} {graph} True\")"
   ]
  },
  {
   "cell_type": "markdown",
   "id": "7566a75d-277a-40a5-b11c-325181107e7f",
   "metadata": {},
   "source": [
    "# Kidney"
   ]
  },
  {
   "cell_type": "code",
   "execution_count": null,
   "id": "12173868-5435-451e-b38e-24c2f9e7c8e6",
   "metadata": {},
   "outputs": [],
   "source": [
    "dataset=\"Kidney\"\n",
    "label=\"CellType\"\n",
    "fs=\"Peak\"\n",
    "path=f\"Datasets/{dataset}/FeatureSpaces/{fs}/XAI\"\n",
    "name=f\"{dataset}_{fs}_{graph}_{label}\"\n",
    "matrix=f\"Datasets/{dataset}/FeatureSpaces/{fs}/CM/{dataset}_{fs}_Def.h5ad\""
   ]
  },
  {
   "cell_type": "code",
   "execution_count": null,
   "id": "e3ed7a66-f906-4189-b80f-b46ab7d99848",
   "metadata": {},
   "outputs": [],
   "source": [
    "for graph in [\"GRAE_kNN\",\"AE_kNN\"]:\n",
    "    os.system(f\"sbatch 3_Run_XAI.sh {path} {name} {matrix} {label} {graph} True\")"
   ]
  },
  {
   "cell_type": "markdown",
   "id": "efc124c9-58e9-45fa-b5b6-5019ebdfdf2e",
   "metadata": {},
   "source": [
    "# Motif"
   ]
  },
  {
   "cell_type": "code",
   "execution_count": null,
   "id": "23d79bb7-0c03-4d8c-9c14-1994034afd38",
   "metadata": {},
   "outputs": [],
   "source": [
    "os.system(f\"sbatch Run_Exp.sh HOMER\")"
   ]
  },
  {
   "cell_type": "markdown",
   "id": "e6502109-13dd-4bd6-bd24-37625213dffb",
   "metadata": {},
   "source": [
    "# Threshold"
   ]
  },
  {
   "cell_type": "code",
   "execution_count": null,
   "id": "e08636ef-5117-420b-9b95-9eb60dc75299",
   "metadata": {},
   "outputs": [],
   "source": [
    "ds_infos=pd.read_csv(\"Tables/Datasets_infos.tsv\", sep=\"\\t\", index_col=0)\n",
    "ds_infos"
   ]
  },
  {
   "cell_type": "code",
   "execution_count": null,
   "id": "96029a6e-2b4b-4545-a004-f7d9dd7cccdc",
   "metadata": {},
   "outputs": [],
   "source": [
    "dataset=\"HSPC\"\n",
    "fs=\"Peak\"\n",
    "graph=\"GRAE_kNN\"\n",
    "label=\"CellType\"\n",
    "job=\"Hs\"\n",
    "path=f\"Datasets/{dataset}/FeatureSpaces/{fs}/XAI\"\n",
    "name=f\"{dataset}_{fs}_{graph}_{label}\"\n",
    "matrix=f\"Datasets/{dataset}/FeatureSpaces/{fs}/CM/{dataset}_{fs}_Def.h5ad\"\n",
    "os.system(f\"sbatch Run_Exp.sh XAI_Runs {path} {name} {matrix} {label} {graph}\")"
   ]
  },
  {
   "cell_type": "code",
   "execution_count": null,
   "id": "b0c717e7-c101-4486-aa8c-626f7bd13a34",
   "metadata": {},
   "outputs": [],
   "source": []
  },
  {
   "cell_type": "code",
   "execution_count": null,
   "id": "8279975c-96f4-45e0-84df-9641b3ad642a",
   "metadata": {
    "scrolled": true
   },
   "outputs": [],
   "source": [
    "jobs=[\"Br\",\"Br\",\"Bc\",\"Pb\",\"Pb\",\"Hs\",\"Hs\",\"Mb\",\"Ki\"]\n",
    "for dataset, fs, label, job in zip(ds_infos[\"DSs\"], ds_infos[\"FsSs\"], ds_infos[\"LBs\"], jobs):\n",
    "    path=f\"Datasets/{dataset}/FeatureSpaces/{fs}/XAI\"\n",
    "    name=f\"{dataset}_{fs}_{graph}_{label}\"\n",
    "    matrix=f\"Datasets/{dataset}/FeatureSpaces/{fs}/CM/{dataset}_{fs}_Def.h5ad\"\n",
    "    os.system(f\"sbatch Run_Exp.sh XAI_Runs {path} {name} {matrix} {label} {graph}\")"
   ]
  }
 ],
 "metadata": {
  "kernelspec": {
   "display_name": "Python 3 (ipykernel)",
   "language": "python",
   "name": "python3"
  },
  "language_info": {
   "codemirror_mode": {
    "name": "ipython",
    "version": 3
   },
   "file_extension": ".py",
   "mimetype": "text/x-python",
   "name": "python",
   "nbconvert_exporter": "python",
   "pygments_lexer": "ipython3",
   "version": "3.10.14"
  },
  "toc": {
   "base_numbering": 1,
   "nav_menu": {},
   "number_sections": true,
   "sideBar": true,
   "skip_h1_title": false,
   "title_cell": "Table of Contents",
   "title_sidebar": "Contents",
   "toc_cell": false,
   "toc_position": {
    "height": "calc(100% - 180px)",
    "left": "10px",
    "top": "150px",
    "width": "357.578px"
   },
   "toc_section_display": true,
   "toc_window_display": true
  },
  "varInspector": {
   "cols": {
    "lenName": 16,
    "lenType": 16,
    "lenVar": 40
   },
   "kernels_config": {
    "python": {
     "delete_cmd_postfix": "",
     "delete_cmd_prefix": "del ",
     "library": "var_list.py",
     "varRefreshCmd": "print(var_dic_list())"
    },
    "r": {
     "delete_cmd_postfix": ") ",
     "delete_cmd_prefix": "rm(",
     "library": "var_list.r",
     "varRefreshCmd": "cat(var_dic_list()) "
    }
   },
   "types_to_exclude": [
    "module",
    "function",
    "builtin_function_or_method",
    "instance",
    "_Feature"
   ],
   "window_display": false
  }
 },
 "nbformat": 4,
 "nbformat_minor": 5
}
