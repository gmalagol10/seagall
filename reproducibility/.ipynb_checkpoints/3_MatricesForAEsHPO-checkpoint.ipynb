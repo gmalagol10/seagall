{
 "cells": [
  {
   "cell_type": "code",
   "execution_count": null,
   "id": "d1fd4e11",
   "metadata": {},
   "outputs": [],
   "source": [
    "import pandas as pd\n",
    "import scanpy as sc\n",
    "import episcanpy as epi\n",
    "\n",
    "import os\n",
    "\n",
    "import Utils as ut"
   ]
  },
  {
   "cell_type": "markdown",
   "id": "f5458f89-44a7-4657-ba8b-e009df548263",
   "metadata": {},
   "source": [
    "# Preprocessing for AE's benchmarking and HPO"
   ]
  },
  {
   "cell_type": "markdown",
   "id": "32396649-374b-40bf-9e14-1603c0c7212a",
   "metadata": {},
   "source": [
    "## Human brain"
   ]
  },
  {
   "cell_type": "code",
   "execution_count": null,
   "id": "cf6669d1-0976-4b50-ae83-c9423ce41fb1",
   "metadata": {
    "scrolled": true
   },
   "outputs": [],
   "source": [
    "atac=epi.read_h5ad(\"Datasets/10XhsBrain3kMO/FeatureSpaces/Peak/CM/10XhsBrain3kMO_Peak_Raw.h5ad\")\n",
    "atac"
   ]
  },
  {
   "cell_type": "code",
   "execution_count": null,
   "id": "c949ad9a-c423-450a-8e77-b9711c197ad4",
   "metadata": {},
   "outputs": [],
   "source": [
    "atac=ut.qc_filtering(atac, omic=\"ATAC\")"
   ]
  },
  {
   "cell_type": "code",
   "execution_count": null,
   "id": "fec75770-a175-4bdd-b56b-bb6231f32b56",
   "metadata": {},
   "outputs": [],
   "source": [
    "gex=sc.read_10x_mtx(\"Datasets/10XhsBrain3kMO/CTA/filtered_feature_bc_matrix\")\n",
    "gex"
   ]
  },
  {
   "cell_type": "code",
   "execution_count": null,
   "id": "b4397b58-4b06-45bb-bd50-2b43e31356b5",
   "metadata": {},
   "outputs": [],
   "source": [
    "metadata=pd.read_csv(\"Datasets/10XhsBrain3kMO/10XhsBrain3kMO_metadata.csv\", index_col=0)\n",
    "gex=gex[metadata.index]\n",
    "gex.obs = metadata.loc[gex.obs.index]"
   ]
  },
  {
   "cell_type": "code",
   "execution_count": null,
   "id": "a1dd80b7-cfed-4bbe-9ada-8a245df2394f",
   "metadata": {},
   "outputs": [],
   "source": [
    "gex=ut.qc_filtering(gex, omic=\"GEX\")"
   ]
  },
  {
   "cell_type": "code",
   "execution_count": null,
   "id": "28d24274-6c01-4da4-ac33-d190657d7cfa",
   "metadata": {},
   "outputs": [],
   "source": [
    "label=\"CellType\"\n",
    "atac = atac[atac.obs[label].astype(str)!=\"nan\"]\n",
    "atac = atac[atac.obs.groupby(label).filter(lambda x : len(x)>50)[label].index,:]\n",
    "gex = gex[gex.obs[label].astype(str)!=\"nan\"]\n",
    "gex = gex[gex.obs.groupby(label).filter(lambda x : len(x)>50)[label].index,:]\n",
    "inter=ut.intersection([atac.obs.index, gex.obs.index])\n",
    "gex=gex[inter]\n",
    "atac=atac[inter]\n",
    "\n",
    "mymap = dict([(y,str(x)) for x,y in enumerate(sorted(set(atac.obs[label])))])\n",
    "inv_map = {v: k for k, v in mymap.items()}\n",
    "atac.uns[\"map\"]=mymap\n",
    "atac.uns[\"inv_map\"]=inv_map\n",
    "atac.obs[\"target\"]=[mymap[x] for x in atac.obs[label]]\n",
    "\n",
    "mymap = dict([(y,str(x)) for x,y in enumerate(sorted(set(gex.obs[label])))])\n",
    "inv_map = {v: k for k, v in mymap.items()}\n",
    "gex.uns[\"map\"]=mymap\n",
    "gex.uns[\"inv_map\"]=inv_map\n",
    "gex.obs[\"target\"]=[mymap[x] for x in gex.obs[label]]"
   ]
  },
  {
   "cell_type": "code",
   "execution_count": null,
   "id": "28691199-698b-48ed-a3e4-572c36f2d1a9",
   "metadata": {},
   "outputs": [],
   "source": []
  },
  {
   "cell_type": "code",
   "execution_count": null,
   "id": "d01e17a9-d8fb-49be-b96e-b910bfb84f3e",
   "metadata": {},
   "outputs": [],
   "source": [
    "os.system(f\"mkdir -p Datasets/10XhsBrain3kMO/GEX/CM\")\n",
    "gex.write(\"Datasets/10XhsBrain3kMO/FeatureSpaces/GEX/CM/10XhsBrain3kMO_GEX_QC.h5ad\", compression=\"gzip\")\n",
    "atac.write(\"Datasets/10XhsBrain3kMO/FeatureSpaces/Peak/CM/10XhsBrain3kMO_Peak_QC.h5ad\", compression=\"gzip\")"
   ]
  },
  {
   "cell_type": "markdown",
   "id": "6d0bf143-53ed-4612-aba3-e8649ccdd8be",
   "metadata": {},
   "source": [
    "## PBMC"
   ]
  },
  {
   "cell_type": "code",
   "execution_count": null,
   "id": "48b65f13-5cbc-43ea-bb18-bd6d09e4e031",
   "metadata": {},
   "outputs": [],
   "source": [
    "atac=epi.read_h5ad(\"Datasets/10XhsPBMC10kMO/FeatureSpaces/Peak/CM/10XhsPBMC10kMO_Peak_Raw.h5ad\")\n",
    "atac"
   ]
  },
  {
   "cell_type": "code",
   "execution_count": null,
   "id": "c09c1090-9b7a-4a39-a28c-0905d25fde1b",
   "metadata": {},
   "outputs": [],
   "source": [
    "atac=ut.qc_filtering(atac, omic=\"ATAC\")"
   ]
  },
  {
   "cell_type": "code",
   "execution_count": null,
   "id": "735047f7-2917-4eac-a757-075ee06f3cc7",
   "metadata": {},
   "outputs": [],
   "source": [
    "gex=sc.read_10x_mtx(\"Datasets/10XhsPBMC10kMO/CTA/filtered_feature_bc_matrix\")\n",
    "gex"
   ]
  },
  {
   "cell_type": "code",
   "execution_count": null,
   "id": "4114695a-8bbe-4bb6-9850-68fe0e90af1e",
   "metadata": {},
   "outputs": [],
   "source": [
    "metadata=pd.read_csv(\"Datasets/10XhsPBMC10kMO/10XhsPBMC10kMO_metadata.csv\", index_col=0)\n",
    "gex=gex[metadata.index]\n",
    "gex.obs = metadata.loc[gex.obs.index]"
   ]
  },
  {
   "cell_type": "code",
   "execution_count": null,
   "id": "0749ff3b-878a-4332-a192-843037cd189e",
   "metadata": {},
   "outputs": [],
   "source": [
    "gex=ut.qc_filtering(gex, omic=\"GEX\")"
   ]
  },
  {
   "cell_type": "code",
   "execution_count": null,
   "id": "6dec274b-7b51-4dee-a6db-1ef725afddac",
   "metadata": {},
   "outputs": [],
   "source": [
    "label=\"CellType\"\n",
    "atac = atac[atac.obs[label].astype(str)!=\"nan\"]\n",
    "atac = atac[atac.obs.groupby(label).filter(lambda x : len(x)>50)[label].index,:]\n",
    "gex = gex[gex.obs[label].astype(str)!=\"nan\"]\n",
    "gex = gex[gex.obs.groupby(label).filter(lambda x : len(x)>50)[label].index,:]\n",
    "inter=ut.intersection([atac.obs.index, gex.obs.index])\n",
    "gex=gex[inter]\n",
    "atac=atac[inter]\n",
    "\n",
    "mymap = dict([(y,str(x)) for x,y in enumerate(sorted(set(atac.obs[label])))])\n",
    "inv_map = {v: k for k, v in mymap.items()}\n",
    "atac.uns[\"map\"]=mymap\n",
    "atac.uns[\"inv_map\"]=inv_map\n",
    "atac.obs[\"target\"]=[mymap[x] for x in atac.obs[label]]\n",
    " \n",
    "mymap = dict([(y,str(x)) for x,y in enumerate(sorted(set(gex.obs[label])))])\n",
    "inv_map = {v: k for k, v in mymap.items()}\n",
    "gex.uns[\"map\"]=mymap\n",
    "gex.uns[\"inv_map\"]=inv_map\n",
    "gex.obs[\"target\"]=[mymap[x] for x in gex.obs[label]]"
   ]
  },
  {
   "cell_type": "code",
   "execution_count": null,
   "id": "77414ed3-fdeb-4b2c-a7f5-26c7208d7d62",
   "metadata": {},
   "outputs": [],
   "source": [
    "os.system(f\"mkdir -p 10XhsPBMC10kMO/GEX/CM\")\n",
    "gex.write(\"Datasets/10XhsPBMC10kMO/FeatureSpaces/GEX/CM/10XhsPBMC10kMO_GEX_QC.h5ad\", compression=\"gzip\")\n",
    "atac.write(\"Datasets/10XhsPBMC10kMO/FeatureSpaces/Peak/CM/10XhsPBMC10kMO_Peak_QC.h5ad\", compression=\"gzip\")"
   ]
  },
  {
   "cell_type": "code",
   "execution_count": null,
   "id": "00a8058a-a9cf-4cb3-91f0-a62f5fe7ac6c",
   "metadata": {},
   "outputs": [],
   "source": [
    "atac"
   ]
  },
  {
   "cell_type": "code",
   "execution_count": null,
   "id": "4bd411f4-c205-4f18-8bce-e1520f668450",
   "metadata": {},
   "outputs": [],
   "source": [
    "gex"
   ]
  },
  {
   "cell_type": "markdown",
   "id": "6a39c79a-d27a-4552-a65a-6bddbf7ab457",
   "metadata": {},
   "source": [
    "## Mouse brain"
   ]
  },
  {
   "cell_type": "code",
   "execution_count": null,
   "id": "3f10dda9-7964-4f45-a510-0269c9bd7bfa",
   "metadata": {},
   "outputs": [],
   "source": [
    "atac=epi.read_h5ad(\"Datasets/MouseBrain/FeatureSpaces/Peak/CM/MouseBrain_Peak_Raw.h5ad\")\n",
    "atac"
   ]
  },
  {
   "cell_type": "code",
   "execution_count": null,
   "id": "f0318a9e-7776-4e6b-bf62-47c588079562",
   "metadata": {},
   "outputs": [],
   "source": [
    "atac=ut.qc_filtering(atac, omic=\"ATAC\")"
   ]
  },
  {
   "cell_type": "code",
   "execution_count": null,
   "id": "e6666621-3fca-4b81-a26e-c0f4fe271c0a",
   "metadata": {},
   "outputs": [],
   "source": [
    "label=\"CellType\"\n",
    "atac = atac[atac.obs[label].astype(str)!=\"nan\"]\n",
    "atac = atac[atac.obs.groupby(label).filter(lambda x : len(x)>50)[label].index,:]\n",
    "mymap = dict([(y,str(x)) for x,y in enumerate(sorted(set(atac.obs[label])))])\n",
    "inv_map = {v: k for k, v in mymap.items()}\n",
    "atac.uns[\"map\"]=mymap\n",
    "atac.uns[\"inv_map\"]=inv_map\n",
    "atac.obs[\"target\"]=[mymap[x] for x in atac.obs[label]]"
   ]
  },
  {
   "cell_type": "code",
   "execution_count": null,
   "id": "7c699190-24b6-42bf-bcb0-a11cf52bb8e9",
   "metadata": {},
   "outputs": [],
   "source": [
    "atac.write(\"Datasets/MouseBrain/FeatureSpaces/Peak/CM/MouseBrain_Peak_QC.h5ad\", compression=\"gzip\")"
   ]
  },
  {
   "cell_type": "code",
   "execution_count": null,
   "id": "b5bda40f-2b40-46ff-a6c8-fcbdd55ef73d",
   "metadata": {},
   "outputs": [],
   "source": [
    "atac"
   ]
  },
  {
   "cell_type": "code",
   "execution_count": null,
   "id": "f0866a59-b4ed-4337-a896-7618e4e2314b",
   "metadata": {},
   "outputs": [],
   "source": []
  },
  {
   "cell_type": "markdown",
   "id": "847d5028-e148-4e46-b8bf-9e9989092368",
   "metadata": {},
   "source": [
    "## Kidney"
   ]
  },
  {
   "cell_type": "code",
   "execution_count": null,
   "id": "3d1e037f-8a95-48fa-812c-f316f52cdd55",
   "metadata": {},
   "outputs": [],
   "source": [
    "atac=epi.read_h5ad(\"Datasets/Kidney/FeatureSpaces/Peak/CM/Kidney_Peak_Raw.h5ad\")\n",
    "atac"
   ]
  },
  {
   "cell_type": "code",
   "execution_count": null,
   "id": "226010af-6357-455e-af80-325baaa55e47",
   "metadata": {},
   "outputs": [],
   "source": [
    "atac=ut.qc_filtering(atac, omic=\"ATAC\")"
   ]
  },
  {
   "cell_type": "code",
   "execution_count": null,
   "id": "70fad075-f179-4a19-9e60-63c86bbe59d6",
   "metadata": {},
   "outputs": [],
   "source": [
    "label=\"CellType\"\n",
    "atac = atac[atac.obs[label].astype(str)!=\"nan\"]\n",
    "atac = atac[atac.obs.groupby(label).filter(lambda x : len(x)>50)[label].index,:]\n",
    "mymap = dict([(y,str(x)) for x,y in enumerate(sorted(set(atac.obs[label])))])\n",
    "inv_map = {v: k for k, v in mymap.items()}\n",
    "atac.uns[\"map\"]=mymap\n",
    "atac.uns[\"inv_map\"]=inv_map\n",
    "atac.obs[\"target\"]=[mymap[x] for x in atac.obs[label]]"
   ]
  },
  {
   "cell_type": "code",
   "execution_count": null,
   "id": "5fb09469-e6c3-40ff-b375-d087b18d066b",
   "metadata": {},
   "outputs": [],
   "source": [
    "atac.write(\"Datasets/Kidney/FeatureSpaces/Peak/CM/Kidney_Peak_QC.h5ad\", compression=\"gzip\")"
   ]
  },
  {
   "cell_type": "code",
   "execution_count": null,
   "id": "8b1aee67-8315-475f-9944-38b240332a14",
   "metadata": {},
   "outputs": [],
   "source": [
    "atac"
   ]
  },
  {
   "cell_type": "markdown",
   "id": "4586c45d-037d-4e51-baa8-9181eda1c53d",
   "metadata": {},
   "source": [
    "# Breat cancer"
   ]
  },
  {
   "cell_type": "code",
   "execution_count": null,
   "id": "eebc0ed9-2a6c-441b-9500-24633f318081",
   "metadata": {},
   "outputs": [],
   "source": [
    "chip=sc.read_h5ad(\"Datasets/GSE117309/FeatureSpaces/Window/CM/GSE117309_Window_Raw.h5ad\")\n",
    "chip"
   ]
  },
  {
   "cell_type": "code",
   "execution_count": null,
   "id": "c9f0e86b-cfd7-405d-8a63-acb30233514d",
   "metadata": {},
   "outputs": [],
   "source": [
    "chip=ut.qc_filtering(chip, omic=\"ATAC\")"
   ]
  },
  {
   "cell_type": "code",
   "execution_count": null,
   "id": "1ac270b5-bd4a-4052-8424-8deee45b33b0",
   "metadata": {},
   "outputs": [],
   "source": [
    "chip.obs[\"CellType\"]=chip.obs.BCsubtype\n",
    "label=\"CellType\"\n",
    "chip = chip[chip.obs[label].astype(str)!=\"nan\"]\n",
    "chip = chip[chip.obs.groupby(label).filter(lambda x : len(x)>50)[label].index,:]\n",
    "mymap = dict([(y,str(x)) for x,y in enumerate(sorted(set(chip.obs[label])))])\n",
    "inv_map = {v: k for k, v in mymap.items()}\n",
    "chip.uns[\"map\"]=mymap\n",
    "chip.uns[\"inv_map\"]=inv_map\n",
    "chip.obs[\"target\"]=[mymap[x] for x in chip.obs[label]]"
   ]
  },
  {
   "cell_type": "code",
   "execution_count": null,
   "id": "0fe23f66-881f-4489-8262-f14b15320cad",
   "metadata": {},
   "outputs": [],
   "source": [
    "chip.write(\"Datasets/GSE117309/FeatureSpaces/Window/CM/GSE117309_Window_QC.h5ad\", compression=\"gzip\")"
   ]
  },
  {
   "cell_type": "code",
   "execution_count": null,
   "id": "596ff952-3e50-47fc-aee5-bc0ed77cbfbc",
   "metadata": {},
   "outputs": [],
   "source": [
    "chip"
   ]
  },
  {
   "cell_type": "code",
   "execution_count": null,
   "id": "9f9e0b66-7a47-4057-a049-cd1bba695dad",
   "metadata": {},
   "outputs": [],
   "source": []
  }
 ],
 "metadata": {
  "kernelspec": {
   "display_name": "Python 3 (ipykernel)",
   "language": "python",
   "name": "python3"
  },
  "language_info": {
   "codemirror_mode": {
    "name": "ipython",
    "version": 3
   },
   "file_extension": ".py",
   "mimetype": "text/x-python",
   "name": "python",
   "nbconvert_exporter": "python",
   "pygments_lexer": "ipython3",
   "version": "3.10.14"
  },
  "toc": {
   "base_numbering": 1,
   "nav_menu": {},
   "number_sections": true,
   "sideBar": true,
   "skip_h1_title": false,
   "title_cell": "Table of Contents",
   "title_sidebar": "Contents",
   "toc_cell": false,
   "toc_position": {
    "height": "calc(100% - 180px)",
    "left": "10px",
    "top": "150px",
    "width": "444.391px"
   },
   "toc_section_display": true,
   "toc_window_display": true
  },
  "varInspector": {
   "cols": {
    "lenName": 16,
    "lenType": 16,
    "lenVar": 40
   },
   "kernels_config": {
    "python": {
     "delete_cmd_postfix": "",
     "delete_cmd_prefix": "del ",
     "library": "var_list.py",
     "varRefreshCmd": "print(var_dic_list())"
    },
    "r": {
     "delete_cmd_postfix": ") ",
     "delete_cmd_prefix": "rm(",
     "library": "var_list.r",
     "varRefreshCmd": "cat(var_dic_list()) "
    }
   },
   "types_to_exclude": [
    "module",
    "function",
    "builtin_function_or_method",
    "instance",
    "_Feature"
   ],
   "window_display": false
  }
 },
 "nbformat": 4,
 "nbformat_minor": 5
}
