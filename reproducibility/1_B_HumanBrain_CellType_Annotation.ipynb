{
 "cells": [
  {
   "cell_type": "code",
   "execution_count": null,
   "id": "916c0eca-06c3-4e83-b421-c4b2c0f5180c",
   "metadata": {},
   "outputs": [],
   "source": [
    "import numpy as np\n",
    "import pandas as pd\n",
    "import scanpy as sc\n",
    "#import episcanpy as epi\n",
    "import anndata as ad\n",
    "import matplotlib.pyplot as plt\n",
    "import seaborn as sns\n",
    "\n",
    "import episcanpy as epi\n",
    "\n",
    "\n",
    "import time\n",
    "import pickle\n",
    "import os\n",
    "import scipy\n",
    "import glob\n",
    "\n",
    "from pathlib import Path\n",
    "\n",
    "#plt.style.use('seaborn')\n",
    "plt.rcParams[\"figure.figsize\"]=(6, 5)\n",
    "plt.rcParams[\"figure.dpi\"]=600\n",
    "\n",
    "# settings for the plots\n",
    "sc.set_figure_params(scanpy=True, dpi=80, dpi_save=250,\n",
    "                     frameon=True, vector_friendly=True,\n",
    "                     color_map=\"YlGnBu\", format='pdf', transparent=False,\n",
    "                     ipython_format='png2x')"
   ]
  },
  {
   "cell_type": "code",
   "execution_count": null,
   "id": "e9a825fc-be70-428b-aa7f-cedb4b37a8e1",
   "metadata": {},
   "outputs": [],
   "source": [
    "adata = ad.read('gex.h5ad')\n",
    "adata"
   ]
  },
  {
   "cell_type": "raw",
   "id": "563d1e24-9378-4d14-8693-279e7516e0df",
   "metadata": {},
   "source": [
    "sc.external.pp.scrublet(adata)"
   ]
  },
  {
   "cell_type": "code",
   "execution_count": null,
   "id": "7099f517-fbd1-4219-933b-5d4446e0368b",
   "metadata": {},
   "outputs": [],
   "source": [
    "adata"
   ]
  },
  {
   "cell_type": "code",
   "execution_count": null,
   "id": "2df619cd-a71f-4589-bd52-b783282beeab",
   "metadata": {},
   "outputs": [],
   "source": [
    "sc.pp.filter_cells(adata, min_genes=200)\n",
    "sc.pp.filter_genes(adata, min_cells=3)"
   ]
  },
  {
   "cell_type": "code",
   "execution_count": null,
   "id": "0e44c94c-f963-49ce-9ca4-d2bf53abdeda",
   "metadata": {},
   "outputs": [],
   "source": [
    "adata.var['mt'] = adata.var_names.str.startswith('MT-')  # annotate the group of mitochondrial genes as 'mt'\n",
    "sc.pp.calculate_qc_metrics(adata, qc_vars=['mt'], percent_top=None, log1p=False, inplace=True)\n"
   ]
  },
  {
   "cell_type": "code",
   "execution_count": null,
   "id": "dd49b030-7fb6-41dd-b810-5ff399d068a6",
   "metadata": {},
   "outputs": [],
   "source": [
    "adata"
   ]
  },
  {
   "cell_type": "code",
   "execution_count": null,
   "id": "32b527f2-629f-441d-8f42-baf2bee4340d",
   "metadata": {},
   "outputs": [],
   "source": [
    "sc.pl.violin(adata, ['n_genes_by_counts', 'total_counts', 'pct_counts_mt'],\n",
    "             jitter=0.4, multi_panel=True)\n"
   ]
  },
  {
   "cell_type": "code",
   "execution_count": null,
   "id": "a922c0b5-a675-4f83-a91f-a12a6dc0aa56",
   "metadata": {},
   "outputs": [],
   "source": [
    "adata"
   ]
  },
  {
   "cell_type": "code",
   "execution_count": null,
   "id": "fe12b9d6-9aa1-46ba-a5fc-cf2bdb032a35",
   "metadata": {},
   "outputs": [],
   "source": [
    "sc.pl.scatter(adata, x='total_counts', y='pct_counts_mt')\n",
    "sc.pl.scatter(adata, x='total_counts', y='n_genes_by_counts')"
   ]
  },
  {
   "cell_type": "code",
   "execution_count": null,
   "id": "43132e69-08b1-498f-b01b-7965b74122e7",
   "metadata": {},
   "outputs": [],
   "source": [
    "sc.pp.normalize_total(adata, target_sum=1e4)\n",
    "\n"
   ]
  },
  {
   "cell_type": "code",
   "execution_count": null,
   "id": "cee389ac-70c4-4c2b-a14c-f630efb6aaaa",
   "metadata": {},
   "outputs": [],
   "source": [
    "\n",
    "\n",
    "sc.pp.log1p(adata)\n",
    "\n"
   ]
  },
  {
   "cell_type": "code",
   "execution_count": null,
   "id": "45fa1e39-46c3-4c38-9441-cd2030dd0890",
   "metadata": {},
   "outputs": [],
   "source": [
    "sc.pp.pca(adata)\n",
    "sc.pp.neighbors(adata)\n",
    "sc.tl.umap(adata)"
   ]
  },
  {
   "cell_type": "code",
   "execution_count": null,
   "id": "df8ec57d-5b56-4904-af8a-66aedc4f1564",
   "metadata": {},
   "outputs": [],
   "source": [
    "sc.tl.leiden(adata)"
   ]
  },
  {
   "cell_type": "code",
   "execution_count": null,
   "id": "f74c8911-1c83-49b0-8250-91a05916bc70",
   "metadata": {},
   "outputs": [],
   "source": [
    "sc.pl.umap(adata, color='leiden')"
   ]
  },
  {
   "cell_type": "code",
   "execution_count": null,
   "id": "d9b2e1d2-96e0-4d61-8538-340d5af70be9",
   "metadata": {},
   "outputs": [],
   "source": [
    "adata"
   ]
  },
  {
   "cell_type": "code",
   "execution_count": null,
   "id": "16dba3b6-2c21-43d2-b89e-105bd14d3d9b",
   "metadata": {},
   "outputs": [],
   "source": [
    "adata.obs['predicted_doublet'] = [str(x) for x in adata.obs['predicted_doublet']]"
   ]
  },
  {
   "cell_type": "code",
   "execution_count": null,
   "id": "0e2d7d7b-9cc4-4b7f-99bf-7f427db1cfde",
   "metadata": {},
   "outputs": [],
   "source": [
    "sc.pl.umap(adata, color=['doublet_score', 'predicted_doublet'])"
   ]
  },
  {
   "cell_type": "code",
   "execution_count": null,
   "id": "f506f09f-d692-4da3-8da9-84480b0ba7a5",
   "metadata": {},
   "outputs": [],
   "source": [
    "adata.write(\"processed_data_for_annotation.h5ad\")"
   ]
  },
  {
   "cell_type": "code",
   "execution_count": null,
   "id": "063502a3-1db2-4c69-88ba-3e0948e19e7f",
   "metadata": {},
   "outputs": [],
   "source": [
    "adata= ad.read(\"processed_data_for_annotation.h5ad\")\n",
    "adata"
   ]
  },
  {
   "cell_type": "code",
   "execution_count": null,
   "id": "61114a7b-11b2-4ec8-b4f5-c22ca22da7d9",
   "metadata": {},
   "outputs": [],
   "source": [
    "#oligodendroctye_genes = [\"OLIG1\", \"OLIG2\", \"PDGFRA\"]\n",
    "#sc.pl.umap(adata, color=oligodendroctye_genes+['leiden'])"
   ]
  },
  {
   "cell_type": "code",
   "execution_count": null,
   "id": "e6531153-d5ae-4bea-8f76-72326cfffaf3",
   "metadata": {},
   "outputs": [],
   "source": [
    "astro_genes = [\"GFAP\", \"AQP4\"]\n",
    "sc.pl.umap(adata, color=astro_genes+['leiden'])"
   ]
  },
  {
   "cell_type": "code",
   "execution_count": null,
   "id": "5b5bf0a3-db77-48d0-ae0d-bad68cee46a0",
   "metadata": {},
   "outputs": [],
   "source": [
    "microglia_genes = [\"CD68\", \"CX3CR1\", 'CD14', 'CD80', 'SALL1', 'OLFML3']\n",
    "sc.pl.umap(adata, color=microglia_genes+['leiden'])"
   ]
  },
  {
   "cell_type": "code",
   "execution_count": null,
   "id": "d251e09b-40ab-4bf9-833f-f4b55586b86e",
   "metadata": {},
   "outputs": [],
   "source": [
    "neuronal_genes = [\"SATB2\", ]\n",
    "sc.pl.umap(adata, color=neuronal_genes+['leiden'])"
   ]
  },
  {
   "cell_type": "code",
   "execution_count": null,
   "id": "52e5485c-158a-4181-b8ac-77240cc74936",
   "metadata": {},
   "outputs": [],
   "source": [
    "other_genes=[\"WNT2B\", \"RSPO1\", \"RSPO3\", \"SLFN13\", \"CALCB\", #\"DYTN\",\"ATOH1\", \"IL22\",\n",
    "               \"IGF1\", \"NRK\", \"CALB1\"]\n",
    "other_genes2 =['SST', 'TLL2']#\"KRT74\"\n",
    "sc.pl.umap(adata, color=other_genes+['leiden'])\n",
    "sc.pl.umap(adata, color=other_genes2+['leiden'])"
   ]
  },
  {
   "cell_type": "code",
   "execution_count": null,
   "id": "2c093116-72e0-4732-8c41-c67cd2f981d3",
   "metadata": {},
   "outputs": [],
   "source": [
    "# markers from the Macoscko paper \n",
    "Purkinje_genes =['Ppp1r17', 'Prkcd', 'Klhl1']\n",
    "Granule_gene = ['Gabra6']\n",
    "UBC_gene = ['Eomes']\n",
    "Golgi_gene = ['Lgi2']\n",
    "bergman_gene=['Gdf10']\n",
    "ODC_gene=['Mobp']\n",
    "OPC_gene=[\"Ppfibp1\"]\n",
    "other_cell_types = ['Dcn', 'Kcnj8', 'Ttr', 'Mrc1', 'C1qa', 'Fit1', 'Foxj1']\n",
    "\n",
    "#other_cell_types = ['DCN', 'KCNJ8', 'TTR', 'MRC1', 'C1QA', 'FIT1', 'FOXJ1']\n",
    "#sc.pl.umap(adata, color=other_cell_types+['leiden'])"
   ]
  },
  {
   "cell_type": "code",
   "execution_count": null,
   "id": "9c02c3d6-0622-4b0b-a24f-fd77623a3ea6",
   "metadata": {},
   "outputs": [],
   "source": [
    "Rl_markers = ['PAX6', 'LMX1A', 'EOMES']\n",
    "sc.pl.umap(adata, color=Rl_markers+['leiden'])"
   ]
  },
  {
   "cell_type": "code",
   "execution_count": null,
   "id": "1c38011d-ec0a-479b-adbb-dcac329ed73a",
   "metadata": {},
   "outputs": [],
   "source": [
    "# Purkinje cells \n",
    "PC_cells_markers = ['ITPR1', 'FOXP2', 'CALB1', 'BCL11A']# 'CAB', 'SKOR2'\n",
    "sc.pl.umap(adata, color=PC_cells_markers+['leiden'])"
   ]
  },
  {
   "cell_type": "code",
   "execution_count": null,
   "id": "11f5665c-3211-4141-8152-d267fe3cadc6",
   "metadata": {},
   "outputs": [],
   "source": [
    "genes=['ITPR1', #PC -->  Purkinje cell \n",
    "        #\"MKI67\",#\"OTX2\",#RL --> Rhombic lip\n",
    "       'RBFOX3', #GCP ad GN\n",
    "       'LMX1A',#eCN/UBC\n",
    "       \"MEIS2\",# iCN\n",
    "       \"PAX2\", #PIP \n",
    "       \"GRIA1\", #BG\n",
    "       \"AQP4\", \"SOX2\", \"GFAP\",# Astro\n",
    "        \"SATB2\",\n",
    "       \"CSF1R\", # microglia\n",
    "       #\"FLT1\" # endothelial\n",
    "\n",
    "       #\"BCAS\" # committed OPC\n",
    "       #\"TTR\"\n",
    "       \"DNAH6\", #\"HOXB3\"\n",
    "       \"DNAH11\",\n",
    "       \"PTPRK\", #MLI\n",
    "       \"PDGFRB\", #pericytes\n",
    "       \"PDGFRA\", #OPC\n",
    "       \"COL3A1\",\n",
    "       \"OLIG1\",\n",
    "       \"OLIG2\",\n",
    "       #\"OLIG3\"\n",
    "       \"NXPH2\",\n",
    "       \"TLE2\"\n",
    "       \n",
    "    ]\n",
    "sc.pl.umap(adata, color=genes+['leiden'])"
   ]
  },
  {
   "cell_type": "code",
   "execution_count": null,
   "id": "db696073-9045-4c5b-ae88-8f5c04003da6",
   "metadata": {},
   "outputs": [],
   "source": [
    "inhibitory_neuron_markers=['PVALB','SST','MAF', 'TAC3']\n",
    "sc.pl.umap(adata, color=inhibitory_neuron_markers+['leiden'])"
   ]
  },
  {
   "cell_type": "code",
   "execution_count": null,
   "id": "e8a292ad-33e6-4f05-a4a8-3880f4fa22c9",
   "metadata": {},
   "outputs": [],
   "source": [
    "label = []\n",
    "for cluster in adata.obs['leiden']:\n",
    "    if cluster in ['10', '2']:\n",
    "        label.append('astrocyte')\n",
    "    elif cluster in ['5']:\n",
    "        label.append('oligodendrocyte')\n",
    "    elif cluster in ['13']:\n",
    "        label.append('microglia')\n",
    "    elif cluster in ['14']:\n",
    "        label.append('neuronal cell - Purkinje cell -FOXP2')\n",
    "    elif cluster in ['8']:\n",
    "        label.append('neuronal cell - Purkinje cell -ITPR1')\n",
    "    #elif cluster in ['']:\n",
    "    #    label.append(\"iCN - inhibitory cerebellar nuclei \")\n",
    "    elif cluster in ['0', '1', '3', '4', '6','15']:\n",
    "        label.append(\"interneuron - MLI - molecular layer interneurons\")\n",
    "    elif cluster in ['7']:\n",
    "        label.append('astrocyte (progenitor)')\n",
    "    elif cluster in ['12']:\n",
    "        label.append('Purkinje layer neuron')\n",
    "\n",
    "    elif cluster in ['18', '17']:\n",
    "        label.append('inhibitory neuron')\n",
    "    elif cluster in ['11']:\n",
    "        label.append('inhibitory neuron - PVALB+ SST+')\n",
    "    elif cluster in ['9']:\n",
    "        label.append('inhibitory neuron - MAF+')\n",
    "    elif cluster in ['16']:\n",
    "        label.append('NA')\n",
    "    else:\n",
    "        label.append(cluster)\n",
    "adata.obs['celltype'] = label\n",
    "sc.pl.umap(adata, color=['leiden', 'celltype'], wspace=0.7)"
   ]
  },
  {
   "cell_type": "code",
   "execution_count": null,
   "id": "c8396f8b-5c00-4d4f-ba1f-9496e9cbc6b0",
   "metadata": {},
   "outputs": [],
   "source": [
    "sc.pl.dotplot(adata, var_names=genes, groupby='leiden')"
   ]
  },
  {
   "cell_type": "code",
   "execution_count": null,
   "id": "a9217b41-45c0-46fa-820d-1b97c6ab2d53",
   "metadata": {},
   "outputs": [],
   "source": [
    "sc.pl.dotplot(adata, var_names=genes, groupby='celltype')"
   ]
  },
  {
   "cell_type": "code",
   "execution_count": null,
   "id": "1d288652-0e4e-4099-9aad-855519a9db2a",
   "metadata": {},
   "outputs": [],
   "source": [
    "sc.pl.umap(adata, color=['leiden', 'celltype'], wspace=0.7)"
   ]
  },
  {
   "cell_type": "code",
   "execution_count": null,
   "id": "575a18fd-2c72-463d-9385-76645a7521f2",
   "metadata": {},
   "outputs": [],
   "source": [
    "del adata.uns['log1p']"
   ]
  },
  {
   "cell_type": "code",
   "execution_count": null,
   "id": "61dd29a2-da44-4252-a5e0-9208ef921ca0",
   "metadata": {},
   "outputs": [],
   "source": [
    "sc.tl.rank_genes_groups(adata, groupby='leiden')\n",
    "sc.pl.rank_genes_groups_stacked_violin(adata)"
   ]
  },
  {
   "cell_type": "code",
   "execution_count": null,
   "id": "1535f7c6-d4b2-48d2-a0e9-2cafa8a2d00e",
   "metadata": {},
   "outputs": [],
   "source": [
    "sc.pl.rank_genes_groups_matrixplot(adata, save=\"_top_leiden_markers.pdf\")"
   ]
  },
  {
   "cell_type": "code",
   "execution_count": null,
   "id": "207ed9a8-689c-4790-bcc1-3aedbe1506fb",
   "metadata": {},
   "outputs": [],
   "source": [
    "adata.obs['celltype2'] = adata.obs['celltype'] \n",
    "sc.tl.rank_genes_groups(adata, groupby='celltype2')\n",
    "sc.pl.rank_genes_groups_matrixplot(adata, save=\"_top_celltype_markers.pdf\" )"
   ]
  },
  {
   "cell_type": "code",
   "execution_count": null,
   "id": "6269b17c-2073-4dbd-98d4-96021f256e85",
   "metadata": {},
   "outputs": [],
   "source": [
    "adata"
   ]
  },
  {
   "cell_type": "code",
   "execution_count": null,
   "id": "059bcf7c-b4ec-478a-a372-89c0e87c5acb",
   "metadata": {},
   "outputs": [],
   "source": [
    "sc.pl.umap(adata, color='celltype')"
   ]
  },
  {
   "cell_type": "code",
   "execution_count": null,
   "id": "26c767a7-3071-49a5-b94b-dec6244eb020",
   "metadata": {},
   "outputs": [],
   "source": [
    "adata.write('annotated_gex.h5ad')"
   ]
  },
  {
   "cell_type": "markdown",
   "id": "268116cf-7b69-4456-b85b-f12a083f333b",
   "metadata": {},
   "source": []
  }
 ],
 "metadata": {
  "kernelspec": {
   "display_name": "Python 3 (ipykernel)",
   "language": "python",
   "name": "python3"
  },
  "language_info": {
   "codemirror_mode": {
    "name": "ipython",
    "version": 3
   },
   "file_extension": ".py",
   "mimetype": "text/x-python",
   "name": "python",
   "nbconvert_exporter": "python",
   "pygments_lexer": "ipython3",
   "version": "3.10.14"
  }
 },
 "nbformat": 4,
 "nbformat_minor": 5
}
