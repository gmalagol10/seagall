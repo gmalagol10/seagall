{
 "cells": [
  {
   "cell_type": "code",
   "execution_count": null,
   "id": "d1fd4e11",
   "metadata": {},
   "outputs": [],
   "source": [
    "import numpy as np\n",
    "import pandas as pd\n",
    "import scanpy as sc\n",
    "import matplotlib.pyplot as plt\n",
    "import seaborn as sns\n",
    "\n",
    "import os\n",
    "import string\n",
    "import json\n",
    "import optuna\n",
    "\n",
    "import Utils as ut\n",
    "all_params=[\"Dropout\",\"Kullback-Leibler\\nweight\",\"Regularisation\\nweight\", \"Norm\\nexponent\", \"Dropout\",\"Learning\\nrate\",\"Weight\\ndecay\"]\n",
    "palette = {all_params[i] : ut.colors_to_use_bright[::-1][i] for i in range(len(all_params))} \n",
    "%matplotlib inline"
   ]
  },
  {
   "cell_type": "code",
   "execution_count": null,
   "id": "521bb037-d76d-4dd3-a97c-7a33593fba4c",
   "metadata": {},
   "outputs": [],
   "source": []
  },
  {
   "cell_type": "markdown",
   "id": "1874ab4a-b245-4737-9d3f-6f56bb0b1b8b",
   "metadata": {},
   "source": [
    "# HPO TopoAE"
   ]
  },
  {
   "cell_type": "code",
   "execution_count": null,
   "id": "f98007ed-73e9-46ce-ae14-9b98d6238051",
   "metadata": {},
   "outputs": [],
   "source": [
    "datasets=[\"Kidney\",\"10XhsBrain3kMO\", \"10XhsBrain3kMO\", \"MouseBrain\",\"10XhsPBMC10kMO\", \"10XhsPBMC10kMO\"]\n",
    "featurespaces=[\"Peak\",\"Peak\", \"GEX\", \"Peak\", \"Peak\", \"GEX\"]\n",
    "jobs=[\"BrP\", \"BrG\", \"KiP\", \"PbP\", \"PbG\", \"MbP\"]"
   ]
  },
  {
   "cell_type": "code",
   "execution_count": null,
   "id": "e6b710c2-3e23-4576-b360-4085818483c7",
   "metadata": {},
   "outputs": [],
   "source": [
    "for dataset, featurespace, job in zip(datasets, featurespaces, jobs):\n",
    "    matrix=f\"Datasets/{dataset}/FeatureSpaces/{featurespace}/CM/{dataset}_{featurespace}_QC.h5ad\"\n",
    "    name=f\"Datasets/{dataset}/FeatureSpaces/{featurespace}/HPO/TopoAE/{dataset}_{featurespace}_HPO_TopoAE\"\n",
    "    os.system(f\"mkdir -p Datasets/{dataset}/FeatureSpaces/{featurespace}/HPO/TopoAE\")\n",
    "    os.system(f\"sbatch -p slim18 -J HTopo{job} --mem=64G --ntasks=1 --cpus-per-task=10 --exclusive \\\n",
    "              /store24/project24/ladcol_012/GNN/Run_HPO.sh {matrix} {name} TopoAE\")"
   ]
  },
  {
   "cell_type": "code",
   "execution_count": null,
   "id": "22815980-ef62-4211-809f-ef56bc60cee0",
   "metadata": {},
   "outputs": [],
   "source": []
  },
  {
   "cell_type": "markdown",
   "id": "fbdf34c9-eeb3-40b8-8e21-b5ba21df60e5",
   "metadata": {},
   "source": [
    "## SuppFig9Up"
   ]
  },
  {
   "cell_type": "code",
   "execution_count": null,
   "id": "c6e9b302-cd10-437a-b88c-688b214175bd",
   "metadata": {},
   "outputs": [],
   "source": [
    "datasets=[\"Kidney\",\"10XhsBrain3kMO\", \"10XhsBrain3kMO\", \"MouseBrain\",\"10XhsPBMC10kMO\", \"10XhsPBMC10kMO\"]\n",
    "names=[\"Kidney\",\"Human brain\",\"Human brain\", \"Mouse brain\", \"PBMC\",\"PBMC\"]\n",
    "featurespaces=[\"Peak\",\"Peak\", \"GEX\", \"Peak\", \"Peak\", \"GEX\"]\n",
    "studies={}\n",
    "for dataset, feats_space, n in zip(datasets, featurespaces, names):\n",
    "    print(dataset, feats_space, n)\n",
    "    name=f\"Datasets/{dataset}/FeatureSpaces/{feats_space}/HPO/TopoAE/{dataset}_{feats_space}_HPO_TopoAE\"\n",
    "    storage_name = \"sqlite:///{}.db\".format(name) \n",
    "    study_name=f\"{dataset}/{feats_space}/HPO/TopoAE/{dataset}_{feats_space}_HPO_TopoAE\" #change it as will be named when running again\n",
    "    if feats_space == \"Peak\":\n",
    "        feats_space=\"Peaks\"\n",
    "    studies[f\"{n} - {feats_space}\"]=optuna.load_study(study_name=study_name, storage=storage_name)\n",
    "df=pd.DataFrame(columns=[\"Parameter\",\"Value\",\"Importance\", \"Dataset\"])\n",
    "order=[\"lam\",\"p\",\"dp\",\"lr\",\"weight_decay\"]\n",
    "for p in order:\n",
    "    values=[np.log10(studies[key].best_params[p]) for key in studies.keys()]\n",
    "    weights=[optuna.importance.get_param_importances(studies[key])[p] for key in studies.keys()]\n",
    "    d=pd.DataFrame(data=[values, weights], index=[\"Value\",\"Importance\"]).T\n",
    "    d[\"Dataset\"]=studies.keys()\n",
    "    d[\"Parameter\"]=p\n",
    "    df=pd.concat([df,d])"
   ]
  },
  {
   "cell_type": "code",
   "execution_count": null,
   "id": "109695d9-e85a-4ae5-a6cc-15e5c17caf3d",
   "metadata": {},
   "outputs": [],
   "source": [
    "params = {'axes.labelsize': 15,\n",
    "         'axes.titlesize': 15,\n",
    "         'xtick.labelsize' : 15,\n",
    "         'ytick.labelsize': 15,\n",
    "         \"lines.linewidth\" : 4,\n",
    "         \"figure.dpi\" : 300,\n",
    "         \"figure.figsize\": [15, 10]}\n",
    "plt.rcParams.update(params)\n",
    "fig, axs=plt.subplots(2,3)\n",
    "axs=axs.flatten()\n",
    "yticks=[\"Regularisation\\nweight\", \"Norm\\nexponent\", \"Dropout\",\"Learning\\nrate\",\"Weight\\ndecay\"]\n",
    "subpalette=[palette[p] for p in yticks]\n",
    "for ax, study in enumerate(studies.keys()):\n",
    "    imp=optuna.importance.get_param_importances(studies[study])\n",
    "    new_imp={key : imp[key] for key in order}\n",
    "    d=pd.DataFrame.from_dict(new_imp, orient=\"index\").reset_index().rename(columns={\"index\" : \"Parameter\", 0 : \"Importance\"})\n",
    "    d[\"Importance\"]=d[\"Importance\"].astype(float)\n",
    "    plots=sns.barplot(x=d[\"Importance\"], y=d[\"Parameter\"],palette=subpalette, ax=axs[ax])\n",
    "    size=np.array([studies[study].best_params[key] for key in order], dtype=\"float32\")\n",
    "    for i, p in enumerate(plots.patches):\n",
    "        plots.annotate(\"Best value: {:.1e}\".format(size[i]), xy=(0.01, p.get_y()+p.get_height()/2),\n",
    "                 xytext=(5, 0), textcoords='offset points', ha=\"left\", va=\"center\", size=12, weight=\"bold\")\n",
    "    axs[ax].set_xlim([0,1])\n",
    "    axs[ax].set_yticks(axs[ax].get_yticks(), yticks)\n",
    "    axs[ax].set_title(study, loc='left')\n",
    "    axs[ax].spines['top'].set_visible(False)\n",
    "    axs[ax].spines['right'].set_visible(False)\n",
    "    axs[ax].text(-0.2, 1.15, string.ascii_uppercase[ax], transform=axs[ax].transAxes, size=20, weight='bold',rotation=0)    \n",
    "    axs[ax].set_xticks([0, 0.25, 0.5, 0.75, 1], [\"0\", \"0.25\", \"0.5\", \"0.75\", \"1\"])\n",
    "    axs[ax].set_xlabel(\"Weight in HPO\")\n",
    "    axs[ax].set_ylabel(\"Parameter\")\n",
    "        \n",
    "plt.tight_layout(w_pad=1.3)\n",
    "plt.savefig(f\"Figures/SuppFig9_Up.png\", format=\"png\", dpi=300, bbox_inches='tight')\n",
    "plt.show()"
   ]
  },
  {
   "cell_type": "code",
   "execution_count": null,
   "id": "0d44b151-f398-46c9-b121-7d0f59749458",
   "metadata": {},
   "outputs": [],
   "source": []
  },
  {
   "cell_type": "code",
   "execution_count": null,
   "id": "2301f5e7-10cb-4235-806b-6fc82330adcd",
   "metadata": {},
   "outputs": [],
   "source": [
    "top_params={}\n",
    "for p in order:\n",
    "    values=[np.log10(studies[key].best_params[p]) for key in studies.keys()]\n",
    "    weights=[optuna.importance.get_param_importances(studies[key])[p] for key in studies.keys()]\n",
    "    print(p, \"{:.0e}\".format(10**np.average(values, weights=weights)))\n",
    "    top_params[p]=10**np.average(values)\n",
    "with open(\"TopoAE_HPO_def_params.json\", \"w\") as f:\n",
    "    json.dump(top_params, f)"
   ]
  },
  {
   "cell_type": "code",
   "execution_count": null,
   "id": "19e07dbd-cb1e-4bb0-a024-23c8a09ec19c",
   "metadata": {},
   "outputs": [],
   "source": []
  },
  {
   "cell_type": "markdown",
   "id": "a38cbd5f-b4e7-457d-b77b-ec8c7f47bc15",
   "metadata": {},
   "source": [
    "# HPO VAE"
   ]
  },
  {
   "cell_type": "code",
   "execution_count": null,
   "id": "e78f9927-17b8-4bc1-8b61-9d8d60e5dc30",
   "metadata": {},
   "outputs": [],
   "source": [
    "datasets=[\"Kidney\",\"10XhsBrain3kMO\", \"10XhsBrain3kMO\", \"MouseBrain\",\"10XhsPBMC10kMO\", \"10XhsPBMC10kMO\"]\n",
    "featurespaces=[\"Peak\",\"Peak\", \"GEX\", \"Peak\", \"Peak\", \"GEX\"]\n",
    "jobs=[\"BrP\", \"BrG\", \"KiP\", \"PbP\", \"PbG\", \"MbP\"]"
   ]
  },
  {
   "cell_type": "code",
   "execution_count": null,
   "id": "fbbc8319-5308-40f5-a91b-0a2763d50024",
   "metadata": {},
   "outputs": [],
   "source": [
    "for dataset, featurespace, job in zip(datasets, featurespaces, jobs):\n",
    "    matrix=f\"Datasets/{dataset}/FeatureSpaces/{featurespace}/CM/{dataset}_{featurespace}_QC.h5ad\"\n",
    "    name=f\"Datasets/{dataset}/FeatureSpaces/{featurespace}/HPO/VAE/{dataset}_{featurespace}_HPO_VAE\"\n",
    "    os.system(f\"mkdir -p Datasets/{dataset}/FeatureSpaces/{featurespace}/HPO/VAE\")\n",
    "    os.system(f\"sbatch -p slim18 -J HVAE{job} --mem=64G --ntasks=1 --cpus-per-task=10 \\\n",
    "    /store24/project24/ladcol_012/GNN/Run_HPO.sh {matrix} {name} VAE\")"
   ]
  },
  {
   "cell_type": "code",
   "execution_count": null,
   "id": "0c283694-93e0-4ea2-8e15-9ee0ad431e1a",
   "metadata": {},
   "outputs": [],
   "source": []
  },
  {
   "cell_type": "markdown",
   "id": "7e29bf22-36b7-4c05-9c41-94022be41ccf",
   "metadata": {},
   "source": [
    "## SuppFig9Down"
   ]
  },
  {
   "cell_type": "code",
   "execution_count": null,
   "id": "366c55b9-f3e7-4fc1-962f-19000f0800c1",
   "metadata": {},
   "outputs": [],
   "source": [
    "datasets=[\"Kidney\",\"10XhsBrain3kMO\", \"10XhsBrain3kMO\", \"MouseBrain\",\"10XhsPBMC10kMO\", \"10XhsPBMC10kMO\"]\n",
    "names=[\"Kidney\",\"Human brain\",\"Human brain\", \"Mouse brain\", \"PBMC\",\"PBMC\"]\n",
    "featurespaces=[\"Peak\",\"Peak\", \"GEX\", \"Peak\", \"Peak\", \"GEX\"]\n",
    "studies={}\n",
    "for dataset, feats_space, n in zip(datasets, featurespaces, names):\n",
    "    print(dataset, feats_space, n)\n",
    "    name=f\"Datasets/{dataset}/FeatureSpaces/{feats_space}/HPO/VAE/{dataset}_{feats_space}_HPO_VAE\"\n",
    "    storage_name = \"sqlite:///{}.db\".format(name) \n",
    "    study_name=f\"{dataset}/{feats_space}/HPO/VAE/{dataset}_{feats_space}_HPO_VAE\" #change it as will be named when running again\n",
    "    if feats_space == \"Peak\":\n",
    "        feats_space=\"Peaks\"\n",
    "    studies[f\"{n} - {feats_space}\"]=optuna.load_study(study_name=study_name, storage=storage_name)\n",
    "df=pd.DataFrame(columns=[\"Parameter\",\"Value\",\"Importance\", \"Dataset\"])\n",
    "order=[\"kl_weigth\",\"dp\",\"lr\",\"weight_decay\"]\n",
    "for p in order:\n",
    "    values=[np.log10(studies[key].best_params[p]) for key in studies.keys()]\n",
    "    weights=[optuna.importance.get_param_importances(studies[key])[p] for key in studies.keys()]\n",
    "    d=pd.DataFrame(data=[values, weights], index=[\"Value\",\"Importance\"]).T\n",
    "    d[\"Dataset\"]=studies.keys()\n",
    "    d[\"Parameter\"]=p\n",
    "    df=pd.concat([df,d])"
   ]
  },
  {
   "cell_type": "code",
   "execution_count": null,
   "id": "586b82bd-8f43-4a0a-a856-933cdde1def1",
   "metadata": {},
   "outputs": [],
   "source": [
    "params = {'axes.labelsize': 15,\n",
    "         'axes.titlesize': 15,\n",
    "         'xtick.labelsize' : 15,\n",
    "         'ytick.labelsize': 15,\n",
    "         \"lines.linewidth\" : 4,\n",
    "         \"figure.dpi\" : 300,\n",
    "         \"figure.figsize\": [15, 10]}\n",
    "plt.rcParams.update(params)\n",
    "fig, axs=plt.subplots(2,3)\n",
    "axs=axs.flatten()\n",
    "yticks=[\"Kullback-Leibler\\nweight\",\"Dropout\",\"Learning\\nrate\",\"Weight\\ndecay\"]\n",
    "subpalette=[palette[p] for p in yticks]\n",
    "for ax, study in enumerate(studies.keys()):\n",
    "    imp=optuna.importance.get_param_importances(studies[study])\n",
    "    new_imp={key : imp[key] for key in order}\n",
    "    d=pd.DataFrame.from_dict(new_imp, orient=\"index\").reset_index().rename(columns={\"index\" : \"Parameter\", 0 : \"Importance\"})\n",
    "    d[\"Importance\"]=d[\"Importance\"].astype(float)\n",
    "    plots=sns.barplot(x=d[\"Importance\"], y=d[\"Parameter\"], palette=subpalette, ax=axs[ax])\n",
    "    size=np.array([studies[study].best_params[key] for key in order], dtype=\"float32\")\n",
    "    for i, p in enumerate(plots.patches):\n",
    "        plots.annotate(\"Best value: {:.1e}\".format(size[i]), xy=(0.01, p.get_y()+p.get_height()/2),\n",
    "                 xytext=(5, 0), textcoords='offset points', ha=\"left\", va=\"center\", size=12, weight=\"bold\")\n",
    "    axs[ax].set_xlim([0,1])\n",
    "    axs[ax].set_yticks(axs[ax].get_yticks(), yticks)\n",
    "    axs[ax].set_title(study, loc='left')\n",
    "    axs[ax].spines['top'].set_visible(False)\n",
    "    axs[ax].spines['right'].set_visible(False)\n",
    "    axs[ax].text(-0.2, 1.15, string.ascii_uppercase[ax+6], transform=axs[ax].transAxes, size=20, weight='bold',rotation=0)    \n",
    "    axs[ax].set_xticks([0, 0.25, 0.5, 0.75, 1], [\"0\", \"0.25\", \"0.5\", \"0.75\", \"1\"])\n",
    "    axs[ax].set_xlabel(\"Weight in HPO\")\n",
    "    axs[ax].set_ylabel(\"Parameter\")\n",
    "        \n",
    "plt.tight_layout(w_pad=1.3)\n",
    "plt.savefig(f\"Figures/SuppFig9_Down.png\", format=\"png\", dpi=300, bbox_inches='tight')\n",
    "plt.show()"
   ]
  },
  {
   "cell_type": "raw",
   "id": "afb6b49e-bd4f-4f5c-9ce7-0f47459b17f7",
   "metadata": {},
   "source": [
    "top_params={}\n",
    "for p in order:\n",
    "    values=[np.log10(studies[key].best_params[p]) for key in studies.keys()]\n",
    "    weights=[optuna.importance.get_param_importances(studies[key])[p] for key in studies.keys()]\n",
    "    print(p, \"{:.0e}\".format(10**np.average(values, weights=weights)), \"{:.0e}\".format(10**np.average(values)))\n",
    "    top_params[p]=10**np.average(values)\n",
    "with open(\"VAE_HPO_def_params.json\", \"w\") as f:\n",
    "    json.dump(top_params, f)"
   ]
  },
  {
   "cell_type": "code",
   "execution_count": null,
   "id": "38a3533d-d74b-4e7d-a340-8a4db5f0ebf4",
   "metadata": {},
   "outputs": [],
   "source": []
  },
  {
   "cell_type": "code",
   "execution_count": null,
   "id": "61027999-82b9-402e-8cfa-69669010dc48",
   "metadata": {},
   "outputs": [],
   "source": []
  },
  {
   "cell_type": "code",
   "execution_count": null,
   "id": "fb3bfd6f-a7b6-4f1c-a9b1-cdae22a6b212",
   "metadata": {},
   "outputs": [],
   "source": []
  },
  {
   "cell_type": "code",
   "execution_count": null,
   "id": "8f1701d8-394e-4694-b6a4-9ea470eb2eb1",
   "metadata": {},
   "outputs": [],
   "source": []
  }
 ],
 "metadata": {
  "kernelspec": {
   "display_name": "Python 3 (ipykernel)",
   "language": "python",
   "name": "python3"
  },
  "language_info": {
   "codemirror_mode": {
    "name": "ipython",
    "version": 3
   },
   "file_extension": ".py",
   "mimetype": "text/x-python",
   "name": "python",
   "nbconvert_exporter": "python",
   "pygments_lexer": "ipython3",
   "version": "3.10.14"
  },
  "toc": {
   "base_numbering": 1,
   "nav_menu": {},
   "number_sections": true,
   "sideBar": true,
   "skip_h1_title": false,
   "title_cell": "Table of Contents",
   "title_sidebar": "Contents",
   "toc_cell": false,
   "toc_position": {
    "height": "calc(100% - 180px)",
    "left": "10px",
    "top": "150px",
    "width": "444.391px"
   },
   "toc_section_display": true,
   "toc_window_display": true
  },
  "varInspector": {
   "cols": {
    "lenName": 16,
    "lenType": 16,
    "lenVar": 40
   },
   "kernels_config": {
    "python": {
     "delete_cmd_postfix": "",
     "delete_cmd_prefix": "del ",
     "library": "var_list.py",
     "varRefreshCmd": "print(var_dic_list())"
    },
    "r": {
     "delete_cmd_postfix": ") ",
     "delete_cmd_prefix": "rm(",
     "library": "var_list.r",
     "varRefreshCmd": "cat(var_dic_list()) "
    }
   },
   "types_to_exclude": [
    "module",
    "function",
    "builtin_function_or_method",
    "instance",
    "_Feature"
   ],
   "window_display": false
  }
 },
 "nbformat": 4,
 "nbformat_minor": 5
}
