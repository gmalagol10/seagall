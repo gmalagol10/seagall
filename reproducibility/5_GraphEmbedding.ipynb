{
 "cells": [
  {
   "cell_type": "code",
   "execution_count": null,
   "id": "d1fd4e11",
   "metadata": {
    "scrolled": true
   },
   "outputs": [],
   "source": [
    "import numpy as np\n",
    "import pandas as pd\n",
    "import scanpy as sc\n",
    "import matplotlib.pyplot as plt\n",
    "import seaborn as sns\n",
    "import networkx as nx\n",
    "\n",
    "import sklearn\n",
    "import scipy\n",
    "import glob\n",
    "import os\n",
    "import string\n",
    "\n",
    "from pathlib import Path\n",
    "\n",
    "import ML_utils as mlu\n",
    "import Utils as ut\n",
    "%matplotlib inline"
   ]
  },
  {
   "cell_type": "markdown",
   "id": "e478430d-5990-4f6a-af2f-da1f75e83213",
   "metadata": {},
   "source": [
    "Replace the folders path with the appropriate ones of your machine"
   ]
  },
  {
   "cell_type": "code",
   "execution_count": null,
   "id": "08bd336e-bf25-4bf9-97fb-70f600d3067b",
   "metadata": {
    "scrolled": true
   },
   "outputs": [],
   "source": [
    "datasets=[\"10XhsBrain3kMO\", \"10XhsBrain3kMO\",\"Kidney\", \"10XhsPBMC10kMO\",\"10XhsPBMC10kMO\", \"MouseBrain\"]\n",
    "featurespaces=[\"Peak\",\"GEX\",\"Peak\", \"Peak\", \"GEX\", \"Peak\"]\n",
    "names=[\"BrP\", \"BrG\", \"KiP\", \"PbP\", \"PbG\", \"MbP\"]"
   ]
  },
  {
   "cell_type": "code",
   "execution_count": null,
   "id": "7a82df9c-dcad-45fc-8e4c-68fcf18d0f3d",
   "metadata": {},
   "outputs": [],
   "source": [
    "for dataset, featurespace in zip(datasets, featurespaces):\n",
    "    print(dataset, featurespace)\n",
    "    Path(f\"Datasets/{dataset}/FeatureSpaces/{featurespace}/MS\").mkdir(parents=True, exist_ok=True)    \n",
    "\n",
    "    adata=sc.read_h5ad(f\"Datasets/{dataset}/FeatureSpaces/{featurespace}/CM/{dataset}_{featurespace}_QC.h5ad\")\n",
    "       \n",
    "    y = adata.obs[\"target\"].astype(int).to_numpy()\n",
    "\n",
    "    adata.obsp[f\"TopoAE_kNN\"], adata.obsm[f\"X_TopoAE\"] = mlu.embbedding_and_graph(adata=adata, y=y, representation=\"TopoAE\", layer=\"X\", \n",
    "                                                                                  model_name=f\"Datasets/{dataset}/FeatureSpaces/{featurespace}/MS/{dataset}_{featurespace}_MS_TopoAE\")\n",
    "    adata.obsp[f\"VAE_kNN\"], adata.obsm[f\"X_VAE\"] = mlu.embbedding_and_graph(adata=adata, y=y, representation=\"VAE\", layer=\"X\",\n",
    "                                                                            model_name=f\"Datasets/{dataset}/FeatureSpaces/{featurespace}/MS/{dataset}_{featurespace}_MS_VAE\")\n",
    "    if featurespace==\"GEX\":\n",
    "        adata.obsp[f\"scVI_kNN\"], adata.obsm[f\"X_scVI\"] = mlu.embbedding_and_graph(adata=adata, y=None, representation=\"scVI\", layer=\"X\",\n",
    "                                                                            model_name=f\"Datasets/{dataset}/FeatureSpaces/{featurespace}/MS/{dataset}_{featurespace}_MS_scVI\")\n",
    "    else:\n",
    "        adata.obsp[f\"PeakVI_kNN\"], adata.obsm[f\"X_PeakVI\"] = mlu.embbedding_and_graph(adata=adata, y=None, representation=\"PeakVI\", layer=\"X\",\n",
    "                                                                            model_name=f\"Datasets/{dataset}/FeatureSpaces/{featurespace}/MS/{dataset}_{featurespace}_MS_PeakVI\")\n",
    "\n",
    "    adata.obsp[f\"GRAE_kNN\"], adata.obsm[f\"X_GRAE\"] = mlu.embbedding_and_graph(adata=adata, y=y, representation=\"GRAE\", layer=\"X\",\n",
    "                                                                            model_name=f\"Datasets/{dataset}/FeatureSpaces/{featurespace}/MS/{dataset}_{featurespace}_MS_GRAE\")\n",
    "\n",
    "    sc.pp.pca(adata, n_comps=int(adata.shape[1]**(1/3)))\n",
    "    sc.pp.neighbors(adata, method=\"umap\")\n",
    "    adata.obsp[\"pca_kNN\"]=adata.obsp[\"connectivities\"]\n",
    "    del adata.obsp[\"distances\"]\n",
    "    del adata.obsp[\"connectivities\"]\n",
    "    \n",
    "    print(\"Writing adata\")\n",
    "    adata.write(f\"Datasets/{dataset}/FeatureSpaces/{featurespace}/CM/{dataset}_{featurespace}_MS.h5ad\", compression=\"gzip\")"
   ]
  },
  {
   "cell_type": "markdown",
   "id": "53619dce",
   "metadata": {},
   "source": [
    "# Correlation"
   ]
  },
  {
   "cell_type": "code",
   "execution_count": null,
   "id": "85656626-b79c-435e-ba24-567f6f415403",
   "metadata": {
    "scrolled": true
   },
   "outputs": [],
   "source": [
    "datasets=[\"10XhsBrain3kMO\", \"10XhsBrain3kMO\",\"Kidney\", \"10XhsPBMC10kMO\",\"10XhsPBMC10kMO\", \"MouseBrain\"]\n",
    "featurespaces=[\"Peak\",\"GEX\",\"Peak\", \"Peak\", \"GEX\", \"Peak\"]\n",
    "for dataset, featurespace in zip(datasets, featurespaces):\n",
    "    adata=sc.read_h5ad(f\"Datasets/{dataset}/FeatureSpaces/{featurespace}/CM/{dataset}_{featurespace}_MS.h5ad\")\n",
    "    adata.obsm[\"X_STD\"]=adata.X\n",
    "    spaces = ['X_TopoAE',\"X_GRAE\",\"X_scVI\",\"X_VAE\",\"X_pca\"] if featurespace == \"GEX\" else ['X_TopoAE',\"X_GRAE\",'X_PeakVI',\"X_VAE\",\"X_pca\"]\n",
    "    for space in spaces:\n",
    "        key=f\"{space[2:]}_Correlation\"\n",
    "        if key not in list(adata.obsp.keys()):\n",
    "            print(dataset, featurespace, space)\n",
    "            A=np.corrcoef(scipy.sparse.csr_matrix(adata.obsm[space], dtype=\"float32\").todense())\n",
    "            adata.obsp[key]=scipy.sparse.csr_matrix(A, dtype=\"float32\")\n",
    "        else:\n",
    "            print(\"Skipping\", dataset, featurespace, key)\n",
    "    adata.write(f\"{dataset}/FeatureSpaces/{featurespace}/CM/{dataset}_{featurespace}_Graph.h5ad\", compression=\"gzip\")"
   ]
  },
  {
   "cell_type": "markdown",
   "id": "5b05fd88",
   "metadata": {},
   "source": [
    "# Distance"
   ]
  },
  {
   "cell_type": "code",
   "execution_count": null,
   "id": "d2dc7416-d8a0-4995-b96e-bf73ece449e8",
   "metadata": {
    "scrolled": true
   },
   "outputs": [],
   "source": [
    "datasets=[\"10XhsBrain3kMO\", \"10XhsBrain3kMO\",\"Kidney\", \"10XhsPBMC10kMO\",\"10XhsPBMC10kMO\", \"MouseBrain\"]\n",
    "featurespaces=[\"Peak\",\"GEX\",\"Peak\", \"Peak\", \"GEX\", \"Peak\"]\n",
    "distance=\"euclidean\"\n",
    "for dataset, featurespace in zip(datasets, featurespaces):\n",
    "    adata=sc.read_h5ad(f\"Datasets/{dataset}/FeatureSpaces/{featurespace}/CM/{dataset}_{featurespace}_Graph.h5ad\")\n",
    "    spaces = ['X_TopoAE',\"X_GRAE\",\"X_scVI\",\"X_VAE\",\"X_pca\"] if featurespace == \"GEX\" else ['X_TopoAE',\"X_GRAE\",'X_PeakVI',\"X_VAE\",\"X_pca\"]\n",
    "    for space in spaces:\n",
    "        key=f\"{space[2:]}_Distance\"\n",
    "        if key not in list(adata.obsp.keys()):\n",
    "            print(dataset, featurespace, space, distance)\n",
    "            A=scipy.spatial.distance.squareform(scipy.spatial.distance.pdist(scipy.sparse.csr_matrix(adata.obsm[space], dtype=\"float32\").todense(), \n",
    "                                                                             metric=distance))                \n",
    "            adata.obsp[key]=scipy.sparse.csr_matrix(A, dtype=\"float32\")\n",
    "        else:\n",
    "            print(\"Skipping\", dataset, featurespace, space, key)\n",
    "    adata.write(f\"Datasets/{dataset}/FeatureSpaces/{featurespace}/CM/{dataset}_{featurespace}_Graph.h5ad\", compression=\"gzip\")"
   ]
  },
  {
   "cell_type": "markdown",
   "id": "6c86ab76-7c9b-4f38-85ca-e98e08bd4a9b",
   "metadata": {},
   "source": [
    "# Degree distributions"
   ]
  },
  {
   "cell_type": "code",
   "execution_count": null,
   "id": "cef26d30-459e-4617-beb4-f6da6d373dc2",
   "metadata": {},
   "outputs": [],
   "source": [
    "datasets=[\"10XhsBrain3kMO\", \"10XhsBrain3kMO\",\"Kidney\", \"10XhsPBMC10kMO\",\"10XhsPBMC10kMO\", \"MouseBrain\"]\n",
    "featurespaces=[\"Peak\",\"GEX\",\"Peak\", \"Peak\", \"GEX\", \"Peak\"]"
   ]
  },
  {
   "cell_type": "code",
   "execution_count": null,
   "id": "19bdee4a-938d-4dc6-a03a-b39ab90583b2",
   "metadata": {
    "scrolled": true
   },
   "outputs": [],
   "source": [
    "for dataset, featurespace in zip(datasets, featurespaces):\n",
    "    adata=sc.read_h5ad(f\"Datasets/{dataset}/FeatureSpaces/{featurespace}/CM/{dataset}_{featurespace}_Graph.h5ad\")\n",
    "    Path(f\"Datasets/{dataset}/FeatureSpaces/{featurespace}/Graphs\").mkdir(parents=True, exist_ok=True)    \n",
    "    print(dataset, featurespace, sorted(list(adata.obsp.keys())))\n",
    "    for graph in list(adata.obsp.keys()):\n",
    "        if \"kNN\" not in graph:\n",
    "            A=np.abs(adata.obsp[graph].todense())\n",
    "            A[A == np.inf] = 0\n",
    "            if graph[0]==\"D\":\n",
    "                A=1-sklearn.preprocessing.MinMaxScaler().fit_transform(np.asarray(A))\n",
    "            elif graph[0]==\"C\":\n",
    "                A=sklearn.preprocessing.MinMaxScaler().fit_transform(np.asarray(A))\n",
    "            np.fill_diagonal(A, 0)\n",
    "            if np.sum(A) > A.shape[0]:\n",
    "                for t in [0,1,2]:\n",
    "                    file=f\"Datasets/{dataset}/FeatureSpaces/{featurespace}/Graphs/{dataset}_{featurespace}_{graph}_median_{t}.edgelist.gz\"\n",
    "                    if os.path.isfile(file) == False:\n",
    "                        print(graph, t)\n",
    "                        B=A.copy()\n",
    "                        s=np.std(np.array(ut.upper_tri_masking(B)))\n",
    "                        m=np.median(np.array(ut.upper_tri_masking(B)))\n",
    "                        B[B < m + t*s]=0\n",
    "                        nx.write_edgelist(nx.from_numpy_array(B), file)"
   ]
  },
  {
   "cell_type": "code",
   "execution_count": null,
   "id": "dcbbfcd8-6000-490b-a572-376597d262dd",
   "metadata": {
    "scrolled": true
   },
   "outputs": [],
   "source": [
    "df=pd.DataFrame()\n",
    "datasets=[\"10XhsBrain3kMO\", \"10XhsBrain3kMO\",\"Kidney\", \"10XhsPBMC10kMO\",\"10XhsPBMC10kMO\", \"MouseBrain\"]\n",
    "featurespaces=[\"Peak\",\"GEX\",\"Peak\", \"Peak\", \"GEX\", \"Peak\"]\n",
    "for dataset, feature in zip(datasets, featurespaces):\n",
    "    files=sorted(glob.glob(f\"Datasets/{dataset}/FeatureSpaces/{feature}/Graphs/{dataset}_{feature}*edgelist.gz\"))\n",
    "    print(dataset, feature, len(files))\n",
    "    for file in files:\n",
    "        new_name=file.split(\"/\")[-1].split(\".\")[0]\n",
    "        if new_name not in df.columns:\n",
    "            try:\n",
    "                print(\"Loading\", new_name)\n",
    "                G = nx.read_edgelist(file)\n",
    "                degrees = sorted([G.degree(n) for n in G.nodes()])[::-1]\n",
    "                d = pd.DataFrame(data=degrees)\n",
    "                d.rename({0 : str(new_name)}, axis=1, inplace=True)\n",
    "                df = pd.concat([df, d], axis=1)\n",
    "            except:\n",
    "                continue\n",
    "        else:\n",
    "            print(\"Skipping\", new_name)\n",
    "df.to_csv(\"Tables/Degree_distribution.tsv.gz\", sep=\"\\t\", compression=\"gzip\")\n",
    "df.shape"
   ]
  },
  {
   "cell_type": "markdown",
   "id": "9a72cf0d-db7c-4d3b-b2e4-ec2dc49e49b0",
   "metadata": {},
   "source": [
    "# Figures"
   ]
  },
  {
   "cell_type": "markdown",
   "id": "90cb822b-17dd-41aa-b5b8-f32603a39517",
   "metadata": {},
   "source": [
    "## SuppFig6"
   ]
  },
  {
   "cell_type": "code",
   "execution_count": null,
   "id": "e863faa3-307c-4de1-8b82-9c12ea5affa9",
   "metadata": {},
   "outputs": [],
   "source": [
    "datasets=[\"10XhsBrain3kMO\", \"10XhsBrain3kMO\",\"Kidney\", \"10XhsPBMC10kMO\",\"10XhsPBMC10kMO\", \"MouseBrain\"]\n",
    "featurespaces=[\"Peak\",\"GEX\",\"Peak\", \"Peak\", \"GEX\", \"Peak\"]\n",
    "df=pd.read_csv(\"Tables/Degree_distribution_2.tsv.gz\", sep=\"\\t\", index_col=0)\n",
    "print(df.shape)\n",
    "\n",
    "dfs={}\n",
    "for dataset, feats_space in zip(datasets, featurespaces):\n",
    "    print(dataset, feats_space)\n",
    "    adata=sc.read_h5ad(f\"Datasets/{dataset}/FeatureSpaces/{feats_space}/CM/{dataset}_{feats_space}_Graph.h5ad\")\n",
    "    columns=[]\n",
    "    for c in list(adata.obsp.keys()):\n",
    "        for i in [\"0\",\"1\",\"2\"]:\n",
    "            columns.append(f\"{dataset}_{feats_space}_{c}_median_{i}\")\n",
    "    d=pd.DataFrame()\n",
    "    for col in columns:\n",
    "        if col in df.columns:\n",
    "            d=pd.concat([d, df[col]], axis=1)\n",
    "        else:\n",
    "            d[col]=0\n",
    "    d=d.iloc[:adata.shape[0]]\n",
    "    d.fillna(0, inplace=True)\n",
    "    dfs[f\"{dataset}_{feats_space}\"]=d\n",
    "\n",
    "dfs_med={}\n",
    "for t in [\"0\",\"1\",\"2\"]:\n",
    "    to_put=[]\n",
    "    for key in dfs.keys():\n",
    "        to_put.append([dfs[key][col] for col in dfs[key].columns if f\"median_{t}\" in col])\n",
    "    dfs_med[t]=pd.concat([pd.concat(to_put[i], axis=1) for i in range(0,3)], axis=1)"
   ]
  },
  {
   "cell_type": "code",
   "execution_count": null,
   "id": "3bf9f311-041b-46ae-bd5c-bf78f571892e",
   "metadata": {},
   "outputs": [],
   "source": [
    "params = {'axes.labelsize': 15,\n",
    "         'axes.titlesize': 15,\n",
    "         'xtick.labelsize' : 15,\n",
    "         'ytick.labelsize': 15,\n",
    "         \"lines.linewidth\" : 4}\n",
    "plt.rcParams.update(params) \n",
    "fig, axs = plt.subplots(4,3, dpi=300, figsize=(18, 18))\n",
    "axs=axs.flatten()\n",
    "\n",
    "for ax, rep in zip(axs, [\"GRAE\",\"TopoAE\",\"scVI\", \"PeakVI\",\"VAE\",\"pca\"]):\n",
    "    for t in [0,1,2]:\n",
    "        x=dfs_med[str(t)][[col for col in dfs_med[str(t)].columns if \"Corr\" in col and rep in col]].values\n",
    "        x=x.reshape(x.shape[0]*x.shape[1])\n",
    "        x = x[~np.isnan(x)]\n",
    "        sns.histplot(x=np.log10(x), stat=\"proportion\", cumulative=True, alpha=0.3, ax=ax, color=ut.colors_to_use_bright[t], label=f\"Cut-off {t}\")\n",
    "        ax.set_title(f\"{rep} - Correlation graph\")\n",
    "\n",
    "for ax, rep in zip(axs[6:], [\"GRAE\",\"TopoAE\",\"scVI\", \"PeakVI\",\"VAE\",\"pca\"]):\n",
    "    for t in [0,1,2]:\n",
    "        x=dfs_med[str(t)][[col for col in dfs_med[str(t)].columns if \"Dist\" in col and rep in col]].values\n",
    "        x=x.reshape(x.shape[0]*x.shape[1])\n",
    "        x = x[~np.isnan(x)]\n",
    "        sns.histplot(x=np.log10(x), stat=\"proportion\", cumulative=True, alpha=0.3, ax=ax, color=ut.colors_to_use_bright[t], label=f\"Cut-off {t}\")\n",
    "        ax.set_title(f\"{rep} - Distance graph\")\n",
    "\n",
    "for i in range(0,len(axs)):\n",
    "    axs[i].text(-0.1, 1.15, string.ascii_uppercase[i], transform=axs[i].transAxes, size=20, weight='bold',rotation=0)    \n",
    "for ax in axs:\n",
    "    ax.set_ylim([0,1])\n",
    "    ax.set_xticks([0,1,2,3,4],[0,1,2,3,4])\n",
    "    ax.set_xlim([0, 4])\n",
    "    ax.legend(loc=\"upper left\")\n",
    "    ax.set_xlabel(\"Log10 degree\")\n",
    "    ax.set_ylabel(\"CDF\")\n",
    "    ax.spines['top'].set_visible(False)\n",
    "    ax.spines['right'].set_visible(False)  \n",
    "    \n",
    "plt.tight_layout(h_pad=3.5)\n",
    "plt.savefig(\"Figures/SuppFig6.png\", format=\"png\", dpi=300, bbox_inches='tight')\n",
    "plt.show()"
   ]
  },
  {
   "cell_type": "code",
   "execution_count": null,
   "id": "46e09ddd-6882-43a0-af9f-6229cfa94722",
   "metadata": {},
   "outputs": [],
   "source": []
  },
  {
   "cell_type": "code",
   "execution_count": null,
   "id": "e7989965-1a05-48eb-80e3-3440783ec1e2",
   "metadata": {},
   "outputs": [],
   "source": []
  },
  {
   "cell_type": "code",
   "execution_count": null,
   "id": "b34cfe93-3293-4cb9-a123-6746e9934bb6",
   "metadata": {},
   "outputs": [],
   "source": []
  },
  {
   "cell_type": "code",
   "execution_count": null,
   "id": "89147bee-f650-4143-b241-f25363f45d3b",
   "metadata": {},
   "outputs": [],
   "source": []
  },
  {
   "cell_type": "code",
   "execution_count": null,
   "id": "cd2325bb-c322-41ae-9857-07aa1b964a5e",
   "metadata": {},
   "outputs": [],
   "source": []
  }
 ],
 "metadata": {
  "kernelspec": {
   "display_name": "Python 3 (ipykernel)",
   "language": "python",
   "name": "python3"
  },
  "language_info": {
   "codemirror_mode": {
    "name": "ipython",
    "version": 3
   },
   "file_extension": ".py",
   "mimetype": "text/x-python",
   "name": "python",
   "nbconvert_exporter": "python",
   "pygments_lexer": "ipython3",
   "version": "3.10.14"
  },
  "toc": {
   "base_numbering": 1,
   "nav_menu": {},
   "number_sections": true,
   "sideBar": true,
   "skip_h1_title": false,
   "title_cell": "Table of Contents",
   "title_sidebar": "Contents",
   "toc_cell": false,
   "toc_position": {
    "height": "calc(100% - 180px)",
    "left": "10px",
    "top": "150px",
    "width": "444.438px"
   },
   "toc_section_display": true,
   "toc_window_display": false
  },
  "varInspector": {
   "cols": {
    "lenName": 16,
    "lenType": 16,
    "lenVar": 40
   },
   "kernels_config": {
    "python": {
     "delete_cmd_postfix": "",
     "delete_cmd_prefix": "del ",
     "library": "var_list.py",
     "varRefreshCmd": "print(var_dic_list())"
    },
    "r": {
     "delete_cmd_postfix": ") ",
     "delete_cmd_prefix": "rm(",
     "library": "var_list.r",
     "varRefreshCmd": "cat(var_dic_list()) "
    }
   },
   "types_to_exclude": [
    "module",
    "function",
    "builtin_function_or_method",
    "instance",
    "_Feature"
   ],
   "window_display": false
  }
 },
 "nbformat": 4,
 "nbformat_minor": 5
}
