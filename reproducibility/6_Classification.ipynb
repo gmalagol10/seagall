{
 "cells": [
  {
   "cell_type": "code",
   "execution_count": null,
   "id": "22424abc-3def-4dfd-a2a3-aa15e0116753",
   "metadata": {},
   "outputs": [],
   "source": [
    "import numpy as np\n",
    "\n",
    "import pandas as pd\n",
    "import scanpy as sc\n",
    "import matplotlib.pyplot as plt\n",
    "import seaborn as sns\n",
    "\n",
    "import sklearn\n",
    "import uncertainties\n",
    "import os\n",
    "import string\n",
    "import collections\n",
    "\n",
    "import matplotlib.patches as mpatches\n",
    "from pathlib import Path\n",
    "\n",
    "import Utils as ut\n",
    "%matplotlib inline\n",
    "\n",
    "AEs=[\"scVI\",\"TopoAE\",\"VAE\",\"PeakVI\",\"GRAE\",\"pca\"]\n",
    "AEs_order=[\"GRAE\",\"TopoAE\",\"VAE\",\"PeakVI\",\"scVI\",\"pca\"]\n",
    "new_colors=ut.colors_to_use_pastel[:5] + [ut.colors_to_use_pastel[8]]\n",
    "palette = {AEs[i] : new_colors[i] for i in range(len(AEs))} \n",
    "palette = collections.OrderedDict((k, palette[k]) for k in AEs_order)\n",
    "fs_order=[\"Peaks\",\"GEX\",\"Windows\"]\n",
    "feats_palette = {fs_order[i] : ut.colors_to_use_bright[9:12][i] for i in range(len(fs_order))}\n",
    "feats_palette"
   ]
  },
  {
   "cell_type": "markdown",
   "id": "fac8beea-9a79-408d-b553-c6379a7aa938",
   "metadata": {},
   "source": [
    "# JOBS"
   ]
  },
  {
   "cell_type": "code",
   "execution_count": null,
   "id": "8eef5159-9e86-4a6a-82e3-56866dddab13",
   "metadata": {
    "scrolled": true
   },
   "outputs": [],
   "source": [
    "datasets=[\"10XhsBrain3kMO\", \"10XhsBrain3kMO\",\"Kidney\", \"10XhsPBMC10kMO\",\"10XhsPBMC10kMO\", \"MouseBrain\"]\n",
    "featurespaces=[\"Peak\",\"GEX\",\"Peak\", \"Peak\", \"GEX\", \"Peak\"]\n",
    "jobs=[\"BrP\", \"BrG\", \"KiP\", \"PbP\", \"PbG\", \"MbP\"]"
   ]
  },
  {
   "cell_type": "code",
   "execution_count": null,
   "id": "dad574d3-ea48-42f7-a8e7-ad18913017b9",
   "metadata": {
    "scrolled": true
   },
   "outputs": [],
   "source": [
    "for dataset, featurespace, job in zip(datasets, featurespaces, jobs):\n",
    "    print(dataset, featurespace, job)\n",
    "    matrix=f\"Datasets/{dataset}/FeatureSpaces/{featurespace}/CM/{dataset}_{featurespace}_MS.h5ad\"\n",
    "    start=1\n",
    "    spaces = ['TopoAE',\"GRAE\",\"scVI\",\"VAE\", \"pca\"] if featurespace == \"GEX\" else ['TopoAE',\"GRAE\",'PeakVI',\"VAE\",\"pca\"]\n",
    "    for rep in spaces:\n",
    "        for gnn in [\"GAT\",\"GCN\"]:  \n",
    "            path=f\"Datasets/{dataset}/FeatureSpaces/{featurespace}/MS\"\n",
    "            name=f\"{dataset}_{featurespace}_{rep}_{gnn}\"\n",
    "            os.system(f\"sbatch -p slim18 -J Cl{job}{gnn[:2]}{rep} --mem=32G --ntasks=1 --cpus-per-task=6 \\\n",
    "                        --output=Datasets/{dataset}/Out/{dataset}_{featurespace}_MS_{rep}_{gnn}.out \\\n",
    "                       Run_Exp.sh MS {matrix} {path} {name} {rep} {gnn} {start}\")"
   ]
  },
  {
   "cell_type": "code",
   "execution_count": null,
   "id": "89d462fd-6764-4a10-81b2-f78374e9788c",
   "metadata": {},
   "outputs": [],
   "source": [
    "dataset=\"GSE117309\"\n",
    "featurespace=\"Window\"\n",
    "rep=\"GRAE\"\n",
    "gnn=\"GAT\"\n",
    "job=\"Bc\"\n",
    "matrix=f\"Datasets/{dataset}/FeatureSpaces/{featurespace}/CM/{dataset}_{featurespace}_MS.h5ad\"\n",
    "path=f\"Datasets/{dataset}/FeatureSpaces/{featurespace}/MS\"\n",
    "name=f\"{dataset}_{featurespace}_{rep}_{gnn}\"\n",
    "start=1\n",
    "print(f\"sbatch -p slim18 -J Cl{job}{gnn[:2]}{rep} --mem=50G --ntasks=1 --cpus-per-task=10 --output=Datasets/{dataset}/Out/{dataset}_{featurespace}_MS_{rep}_{gnn}.out Run_Exp.sh MS {matrix} {path} {name} {rep} {gnn} {start}\")"
   ]
  },
  {
   "cell_type": "markdown",
   "id": "374b5f52-e0f2-4bc3-a917-a83a62093078",
   "metadata": {
    "scrolled": true
   },
   "source": [
    "# Metrics"
   ]
  },
  {
   "cell_type": "code",
   "execution_count": null,
   "id": "51cd24ab-982f-4621-a871-ef3f7a2b299e",
   "metadata": {},
   "outputs": [],
   "source": [
    "datasets=[\"10XhsBrain3kMO\", \"10XhsBrain3kMO\",\"Kidney\", \"10XhsPBMC10kMO\",\"10XhsPBMC10kMO\", \"MouseBrain\"]\n",
    "featurespaces=[\"Peak\",\"GEX\",\"Peak\", \"Peak\", \"GEX\", \"Peak\"]\n",
    "jobs=[\"BrP\", \"BrG\", \"KiP\", \"PbP\", \"PbG\", \"MbP\"]\n",
    "lab=\"CellType\""
   ]
  },
  {
   "cell_type": "code",
   "execution_count": null,
   "id": "6a94d725-394f-418f-a72f-577252c86431",
   "metadata": {
    "scrolled": true
   },
   "outputs": [],
   "source": [
    "tot=pd.DataFrame(columns=[\"Representation\",\"GNN\",\"Accuracy\",\"Precision\",\"Recall\",\"F1W\",\"F1M\",\"Dataset\",\"FeaturesSpace\"])\n",
    "for ds, fs, nm in zip(datasets, featurespaces, jobs):\n",
    "    data=pd.DataFrame(columns=tot.columns)\n",
    "    spaces = ['TopoAE',\"GRAE\",\"scVI\",\"VAE\", \"pca\"] if fs == \"GEX\" else ['TopoAE',\"GRAE\",'PeakVI',\"VAE\",\"pca\"]\n",
    "    for gnn in [\"GAT\",\"GCN\"]:\n",
    "        for rep in spaces:\n",
    "            for run in range(1,51):\n",
    "                file=f\"Datasets/{ds}/FeatureSpaces/{fs}/MS/Run{run}/{ds}_{fs}_{rep}_{gnn}_Predictions.tsv.gz\"\n",
    "                if os.path.isfile(file) == True:               \n",
    "                    df=pd.read_csv(file, sep=\"\\t\", index_col=0)\n",
    "                    df=df[df[\"GNN_set\"]==\"Test\"]\n",
    "                    acc=np.around(df[df[lab]==df[\"GNN_prediction\"]].shape[0]/df.shape[0], decimals=4)\n",
    "                    f1=sklearn.metrics.precision_recall_fscore_support(df[lab], df.GNN_prediction, average=\"weighted\")\n",
    "                    f1m=sklearn.metrics.precision_recall_fscore_support(df[lab], df.GNN_prediction, average=\"macro\")[2]\n",
    "                    to_append=pd.DataFrame(index=data.columns, data=[rep, gnn, acc] + [f for f in np.array(f1[:3])]+[f1m, nm, fs]).T\n",
    "                    data=pd.concat([data, to_append])\n",
    "                else:\n",
    "                    print(file)  \n",
    "    tot=pd.concat([tot, data])\n",
    "tot[\"F1W\"]=tot[\"F1W\"].astype(float)\n",
    "tot[\"F1M\"]=tot[\"F1M\"].astype(float)\n",
    "tot[\"Accuracy\"]=tot[\"Accuracy\"].astype(float)\n",
    "tot[\"Precision\"]=tot[\"Precision\"].astype(float)\n",
    "tot[\"Recall\"]=tot[\"Recall\"].astype(float)\n",
    "tot.reset_index(inplace=True)\n",
    "tot.drop(\"index\", axis=1, inplace=True)\n",
    "tot.to_csv(\"Tables/ClassficationMetrics.tsv.gz\", sep=\"\\t\", index=None, compression=\"gzip\")\n",
    "tot.head()"
   ]
  },
  {
   "cell_type": "code",
   "execution_count": null,
   "id": "200fa08e-92f8-4851-a46d-59949ef9982b",
   "metadata": {},
   "outputs": [],
   "source": []
  },
  {
   "cell_type": "code",
   "execution_count": null,
   "id": "7d231127-10a9-4c94-8e13-12c16c22651b",
   "metadata": {
    "scrolled": true
   },
   "outputs": [],
   "source": [
    "tot=pd.DataFrame(columns=[\"GNN\",\"Representation\",\"celltype\",\"Stability\",\"Dataset\",\"FeaturesSpace\"])\n",
    "for ds, fs, nm in zip(datasets, featurespaces, jobs):\n",
    "    spaces = ['TopoAE',\"GRAE\",\"scVI\",\"VAE\", \"pca\"] if fs == \"GEX\" else ['TopoAE',\"GRAE\",'PeakVI',\"VAE\",\"pca\"]\n",
    "    data=pd.DataFrame(columns=tot.columns)\n",
    "    n_runs=50\n",
    "    for gnn in [\"GCN\",\"GAT\"]:\n",
    "        for rep in spaces:\n",
    "            dfs=[]\n",
    "            for run in range(1, n_runs+1):\n",
    "                file=f\"Datasets/{ds}/FeatureSpaces/{fs}/MS/Run{run}/{ds}_{fs}_{rep}_{gnn}_XAITop50Features.tsv.gz\"\n",
    "                if os.path.isfile(file) != False:\n",
    "                    dfs.append(pd.read_csv(file, index_col=0, sep=\"\\t\"))   \n",
    "                else:\n",
    "                    print(file)\n",
    "            if len(dfs)!=0:\n",
    "                expls={}\n",
    "                for col in dfs[0].columns:\n",
    "                    expls[col]=[list(df[col]) for df in dfs]\n",
    "            \n",
    "                stabs=[]\n",
    "                for key in expls.keys():\n",
    "                    t=pd.DataFrame(expls[key])\n",
    "                    table=pd.DataFrame(index=range(0, len(dfs)), columns=range(0, len(dfs)))\n",
    "                    for n in range(0, len(dfs)):\n",
    "                        for k in range(n, len(dfs)):\n",
    "                            table.at[n,k]=len(ut.intersection([t.iloc[n],t.iloc[k]]))/50\n",
    "                            table.at[k,n]=table.at[n,k]\n",
    "                    stabs.append(table.median().median())\n",
    "                \n",
    "                d=pd.DataFrame(index=data.columns).T\n",
    "                d[\"celltype\"]=expls.keys()\n",
    "                d[\"Stability\"]=stabs\n",
    "                d[\"GNN\"]=gnn\n",
    "                d[\"Representation\"]=rep\n",
    "                d[\"Dataset\"]=nm\n",
    "                d[\"FeaturesSpace\"]=fs\n",
    "                data=pd.concat([data, d])\n",
    "    tot=pd.concat([tot, data])\n",
    "tot.reset_index(inplace=True)\n",
    "tot.drop(\"index\", axis=1, inplace=True)\n",
    "tot.to_csv(\"Tables/Stability.tsv.gz\", sep=\"\\t\", index=None, compression=\"gzip\")\n",
    "tot.head()"
   ]
  },
  {
   "cell_type": "code",
   "execution_count": null,
   "id": "57cd75c5-e138-4962-863f-c444f596f471",
   "metadata": {
    "scrolled": true
   },
   "outputs": [],
   "source": [
    "tot=pd.DataFrame(columns=[\"GNN\",\"Representation\",\"celltype\",\"Specificity\",\"Dataset\",\"FeaturesSpace\"])\n",
    "for ds, fs, nm in zip(datasets, featurespaces, jobs):\n",
    "    spaces = ['TopoAE',\"GRAE\",\"scVI\",\"VAE\", \"pca\"] if fs == \"GEX\" else ['TopoAE',\"GRAE\",'PeakVI',\"VAE\",\"pca\"]\n",
    "    data=pd.DataFrame(columns=tot.columns)    \n",
    "    n_runs=50\n",
    "    for gnn in [\"GCN\",\"GAT\"]:\n",
    "        for rep in spaces:\n",
    "            for run in range(1, n_runs+1):\n",
    "                file=f\"Datasets/{ds}/FeatureSpaces/{fs}/MS/Run{run}/{ds}_{fs}_{rep}_{gnn}_XAITop50Features_Jaccard.tsv.gz\"\n",
    "                if os.path.isfile(file) != False: \n",
    "                    df=pd.read_csv(file, sep=\"\\t\", index_col=0)\n",
    "                    d=pd.DataFrame(index=data.columns).T\n",
    "                    d[\"celltype\"]=df.columns\n",
    "                    d[\"GNN\"]=gnn\n",
    "                    d[\"Representation\"]=rep\n",
    "                    d[\"Specificity\"]=np.array(1-np.median(df))\n",
    "                    d[\"Dataset\"]=nm\n",
    "                    d[\"FeaturesSpace\"]=fs\n",
    "                    tot=pd.concat([tot, d])\n",
    "                else:\n",
    "                    print(file)\n",
    "tot.reset_index(inplace=True)\n",
    "tot.drop(\"index\", axis=1, inplace=True)\n",
    "tot.to_csv(\"Tables/Specificity.tsv.gz\", sep=\"\\t\", index=None, compression=\"gzip\")\n",
    "tot.head()"
   ]
  },
  {
   "cell_type": "code",
   "execution_count": null,
   "id": "58fbfa5c-320d-4ddb-ad03-df3cc8cd87ec",
   "metadata": {},
   "outputs": [],
   "source": []
  },
  {
   "cell_type": "markdown",
   "id": "9eaf33f3-ee2b-46db-99d0-4a695c0cf335",
   "metadata": {},
   "source": [
    "# Tables"
   ]
  },
  {
   "cell_type": "code",
   "execution_count": null,
   "id": "1bc2d500-78f9-49f1-8340-4e3a5d4e825b",
   "metadata": {
    "scrolled": true
   },
   "outputs": [],
   "source": [
    "cl=pd.read_csv(\"Tables/ClassficationMetrics.tsv.gz\", sep=\"\\t\")\n",
    "print(cl.shape)\n",
    "stab=pd.read_csv(\"Tables/Stability.tsv.gz\", sep=\"\\t\")\n",
    "print(stab.shape)\n",
    "spec=pd.read_csv(\"Tables/Specificity.tsv.gz\", sep=\"\\t\")\n",
    "print(spec.shape)\n",
    "tot=pd.concat([cl, stab, spec])\n",
    "print(tot.shape)\n",
    "tot[\"Dataset\"]=tot[\"Dataset\"].str.replace(\"_H\",\"\").str.replace(\"_M\",\"\")\n",
    "tot.head()"
   ]
  },
  {
   "cell_type": "code",
   "execution_count": null,
   "id": "96c4dcc3-b86b-4e6f-8d4a-f3dc8470127e",
   "metadata": {},
   "outputs": [],
   "source": [
    "order=[\"GRAE\",\"TopoAE\",\"VAE\",\"PeakVI\",\"pca\"]\n",
    "d=pd.DataFrame()\n",
    "for metric in [\"F1M\",\"Accuracy\",\"Precision\",\"Recall\",\"Stability\",\"Specificity\"]:\n",
    "    t=tot[(tot[\"GNN\"]==\"GAT\") & (tot[\"FeaturesSpace\"]==\"Peak\")]\n",
    "    mean=np.array(t[[metric,\"Representation\"]].dropna().groupby(\"Representation\")[metric].mean().loc[order])\n",
    "    sem=np.array(3*t[[metric,\"Representation\"]].dropna().groupby(\"Representation\")[metric].sem().loc[order])\n",
    "    for ae, m, s in zip(order, mean, sem):\n",
    "        d=pd.concat([d, pd.DataFrame([metric, ae, str(uncertainties.ufloat(m, s))], index=[\"Metric\", \"DR method\", \"Mean +- 3*SEM\"]).T], axis=0)\n",
    "defd=d.pivot(index=\"DR method\", columns=\"Metric\", values=\"Mean +- 3*SEM\").loc[order]\n",
    "for col in defd.columns:\n",
    "    defd[col]=defd[col].str.replace(\"+/-\",u\"\\u00B1\")\n",
    "defd.to_csv(\"Tables/TableMSPeak.csv\", sep=\"\\t\", columns=None)\n",
    "defd"
   ]
  },
  {
   "cell_type": "code",
   "execution_count": null,
   "id": "c4284ee0-b886-408c-a674-449ae708c7b4",
   "metadata": {
    "scrolled": true
   },
   "outputs": [],
   "source": [
    "order=[\"GRAE\",\"TopoAE\",\"VAE\",\"scVI\",\"pca\"]\n",
    "d=pd.DataFrame()\n",
    "for metric in [\"F1M\",\"Accuracy\",\"Precision\",\"Recall\",\"Stability\",\"Specificity\"]:\n",
    "    t=tot[(tot[\"GNN\"]==\"GAT\") & (tot[\"FeaturesSpace\"]==\"GEX\")]\n",
    "    mean=np.array(t[[metric,\"Representation\"]].dropna().groupby(\"Representation\")[metric].mean().loc[order])\n",
    "    sem=np.array(3*t[[metric,\"Representation\"]].dropna().groupby(\"Representation\")[metric].sem().loc[order])\n",
    "    for ae, m, s in zip(order, mean, sem):\n",
    "        d=pd.concat([d, pd.DataFrame([metric, ae, str(uncertainties.ufloat(m, s))], index=[\"Metric\", \"DR method\", \"Mean +- 3*SEM\"]).T], axis=0)\n",
    "defd=d.pivot(index=\"DR method\", columns=\"Metric\", values=\"Mean +- 3*SEM\").loc[order]\n",
    "for col in defd.columns:\n",
    "    defd[col]=defd[col].str.replace(\"+/-\",u\"\\u00B1\")\n",
    "defd.to_csv(\"Tables/TableMSGEX.csv\", sep=\"\\t\", columns=None)\n",
    "defd"
   ]
  },
  {
   "cell_type": "code",
   "execution_count": null,
   "id": "85406d9e-1251-4852-9852-d9715791722f",
   "metadata": {},
   "outputs": [],
   "source": [
    "order=[\"GRAE\",\"TopoAE\",\"VAE\",\"PeakVI\",\"scVI\",\"pca\"]\n",
    "d=pd.DataFrame()\n",
    "for metric in [\"F1M\",\"Accuracy\",\"Precision\",\"Recall\",\"Stability\",\"Specificity\"]:\n",
    "    t=tot[tot[\"GNN\"]==\"GAT\"]\n",
    "    mean=np.array(t[[metric,\"Representation\"]].dropna().groupby(\"Representation\")[metric].mean().loc[order])\n",
    "    sem=np.array(3*t[[metric,\"Representation\"]].dropna().groupby(\"Representation\")[metric].sem().loc[order])\n",
    "    for ae, m, s in zip(order, mean, sem):\n",
    "        d=pd.concat([d, pd.DataFrame([metric, ae, str(uncertainties.ufloat(m, s))], index=[\"Metric\", \"DR method\", \"Mean +- 3*SEM\"]).T], axis=0)\n",
    "defd=d.pivot(index=\"DR method\", columns=\"Metric\", values=\"Mean +- 3*SEM\").loc[order]\n",
    "for col in defd.columns:\n",
    "    defd[col]=defd[col].str.replace(\"+/-\",u\"\\u00B1\")\n",
    "defd.to_csv(\"Tables/TableMS.csv\", sep=\"\\t\", columns=None)\n",
    "defd"
   ]
  },
  {
   "cell_type": "code",
   "execution_count": null,
   "id": "04e0c841-fd2e-45e5-b07c-4ce70ffaf0cb",
   "metadata": {},
   "outputs": [],
   "source": [
    "order=[\"GAT\",\"GCN\"]\n",
    "d=pd.DataFrame()\n",
    "t=tot[tot[\"Representation\"]==\"GRAE\"]\n",
    "for metric in [\"F1W\",\"F1M\",\"Accuracy\",\"Precision\",\"Recall\",\"Stability\",\"Specificity\"]:\n",
    "    gnns=list(t[[metric,\"GNN\"]].groupby(\"GNN\")[metric].mean().index)\n",
    "    mean=np.array(t[[metric,\"GNN\"]].dropna().groupby(\"GNN\")[metric].mean())\n",
    "    sem=np.array(3*t[[metric,\"GNN\"]].dropna().groupby(\"GNN\")[metric].sem())\n",
    "    for g, m, s in zip(gnns, mean, sem):\n",
    "        d=pd.concat([d, pd.DataFrame([metric, g, str(uncertainties.ufloat(m, s))], index=[\"Metric\", \"GNN\", \"Mean +- 3*SEM\"]).T], axis=0)\n",
    "defd=d.pivot(index=\"GNN\", columns=\"Metric\", values=\"Mean +- 3*SEM\").loc[order]\n",
    "for col in defd.columns:\n",
    "    defd[col]=defd[col].str.replace(\"+/-\",u\"\\u00B1\")\n",
    "defd.to_csv(\"Tables/TableMS_GNN.csv\", sep=\"\\t\", columns=None)"
   ]
  },
  {
   "cell_type": "markdown",
   "id": "1250b90e-10a9-4dfd-ad74-c07d57f0d3a2",
   "metadata": {},
   "source": [
    "# Figures"
   ]
  },
  {
   "cell_type": "markdown",
   "id": "2fce7616-a861-49a1-81ac-82853ae68df8",
   "metadata": {},
   "source": [
    "## Figure4"
   ]
  },
  {
   "cell_type": "code",
   "execution_count": null,
   "id": "908e78b1-9142-490a-bac6-a00e82219faf",
   "metadata": {},
   "outputs": [],
   "source": []
  },
  {
   "cell_type": "code",
   "execution_count": null,
   "id": "f36faf18-f414-4e4e-b18f-313087cdc89f",
   "metadata": {},
   "outputs": [],
   "source": []
  },
  {
   "cell_type": "code",
   "execution_count": null,
   "id": "b2c6bdb6-8849-4a69-97e4-e540e9c2cc72",
   "metadata": {
    "scrolled": true
   },
   "outputs": [],
   "source": [
    "cl=pd.read_csv(\"Tables/ClassficationMetrics.tsv.gz\", sep=\"\\t\")\n",
    "cl.rename({\"F1M\" : \"F1\"}, axis=1, inplace=True)\n",
    "stab=pd.read_csv(\"Tables/Stability.tsv.gz\", sep=\"\\t\")\n",
    "spec=pd.read_csv(\"Tables/Specificity.tsv.gz\", sep=\"\\t\")\n",
    "tot=pd.concat([cl, stab, spec])\n",
    "tot[\"Dataset\"]=tot[\"Dataset\"].str.replace(\"_H\",\"\").str.replace(\"_M\",\"\")\n",
    "order=[\"GRAE\",\"TopoAE\",\"VAE\",\"PeakVI\",\"scVI\",\"pca\"]\n",
    "d=pd.DataFrame()\n",
    "for metric in [\"F1\",\"Accuracy\",\"Precision\",\"Recall\",\"Stability\",\"Specificity\"]:\n",
    "    t=tot[tot[\"GNN\"]==\"GAT\"]\n",
    "    mean=np.array(t[[metric,\"Representation\"]].dropna().groupby(\"Representation\")[metric].mean().loc[order])\n",
    "    sem=np.array(3*t[[metric,\"Representation\"]].dropna().groupby(\"Representation\")[metric].sem().loc[order])\n",
    "    for ae, m, s in zip(order, mean, sem):\n",
    "        d=pd.concat([d, pd.DataFrame([metric, ae, str(uncertainties.ufloat(m, s))], index=[\"Metric\", \"DR method\", \"Mean +- 3*SEM\"]).T], axis=0)\n",
    "defd=d.pivot(index=\"DR method\", columns=\"Metric\", values=\"Mean +- 3*SEM\").loc[order]\n",
    "for col in defd.columns:\n",
    "    defd[col]=defd[col].str.replace(\"+/-\",u\"\\u00B1\")\n",
    "defd"
   ]
  },
  {
   "cell_type": "code",
   "execution_count": null,
   "id": "17fbf6af-4d65-449d-b4f2-5b51d2847dc1",
   "metadata": {},
   "outputs": [],
   "source": [
    "params = {'axes.labelsize': 15,\n",
    "         'axes.titlesize': 15,\n",
    "         'xtick.labelsize' : 15,\n",
    "         'ytick.labelsize': 15,\n",
    "         \"lines.linewidth\" : 4,\n",
    "         \"figure.dpi\" : 300,\n",
    "         \"figure.figsize\": [18, 10]}\n",
    "plt.rcParams.update(params)\n",
    "fs_order=[\"Peaks\", \"GEX\"]\n",
    "\n",
    "t=tot[tot[\"GNN\"]==\"GAT\"]\n",
    "t[\"FeaturesSpace\"]=t[\"FeaturesSpace\"].str.replace(\"Peak\",\"Peaks\")\n",
    "fig, axs = plt.subplots(2,3)\n",
    "axs=axs.flatten()\n",
    "for i, metric in enumerate([\"F1\",\"Accuracy\",\"Precision\",\"Recall\",\"Specificity\",\"Stability\"]):\n",
    "    means=[float(i.split(u\"\\u00B1\")[0]) for i in np.array(defd[metric])]\n",
    "    sems=[float(i.split(u\"\\u00B1\")[1]) for i in np.array(defd[metric])]\n",
    "    axs[i].errorbar(x=order, y=means, yerr=sems,ls='none', ecolor=palette.values(), \n",
    "                    elinewidth=20, marker=\"o\", c=\"black\", zorder=10)\n",
    "  \n",
    "    strip=sns.stripplot(data=t, x=\"Representation\", y=metric, hue=\"FeaturesSpace\", ax=axs[i], alpha=0.05, \n",
    "                        palette=feats_palette, zorder=1)\n",
    " \n",
    "    if i == 2:\n",
    "        handles, labels = strip.get_legend_handles_labels()\n",
    "        legend_properties = {'weight':'bold', \"size\" : 15}\n",
    "        title_fontproperties = {\"size\" : 16 }\n",
    "        leg=strip.legend(handles, labels, bbox_to_anchor=(1.67, 0.1), title=\"Feature space\", \n",
    "                     labelcolor=list(feats_palette.values()), prop=legend_properties, title_fontproperties=title_fontproperties)    \n",
    "        leg.legend_handles[0].set_alpha(0.7)\n",
    "        leg.legend_handles[1].set_alpha(0.7)\n",
    "    else:\n",
    "        axs[i].get_legend().remove()\n",
    "    #leg = strip.get_legend()\n",
    "    \n",
    "    \n",
    "    axs[i].set_ylabel(metric, rotation=90, labelpad=10)\n",
    "    axs[i].set_xticks(axs[i].get_xticks(), order, size=15, rotation=45)\n",
    "    axs[i].spines['top'].set_visible(False)\n",
    "    axs[i].spines['right'].set_visible(False)    \n",
    "    axs[i].text(-0.16, 1.15, string.ascii_uppercase[i+1], transform=axs[i].transAxes, size=20, weight='bold',rotation=0)    \n",
    "    axs[i].set_xlabel('Method', rotation=0, labelpad=10)\n",
    "    axs[i].set_ylim([0,1])\n",
    "    yticks=np.around(np.linspace(0, 1, 6), 1)\n",
    "    axs[i].set_yticks(yticks, yticks)\n",
    "    if i > 3:\n",
    "        axs[i].set_ylim([0.7, 1])\n",
    "        yticks=[0.7, 0.8, 0.9, 1]\n",
    "        axs[i].set_yticks(yticks, yticks)\n",
    "    i+=1    \n",
    "        \n",
    "fig.tight_layout(h_pad=2, w_pad=3)\n",
    "plt.savefig(\"Figures/Figure4.png\", format=\"png\", dpi=300, bbox_inches='tight')\n",
    "plt.show()"
   ]
  },
  {
   "cell_type": "code",
   "execution_count": null,
   "id": "3f77a1b7-f60e-4c2c-9a79-772d5948a661",
   "metadata": {},
   "outputs": [],
   "source": []
  },
  {
   "cell_type": "code",
   "execution_count": null,
   "id": "f12f8c3e-af7d-4c6d-81a4-7f8e7471bb88",
   "metadata": {},
   "outputs": [],
   "source": []
  },
  {
   "cell_type": "markdown",
   "id": "2b8a3d56-c6f6-42f5-8cfc-94cac945f801",
   "metadata": {},
   "source": [
    "## SuppFig1"
   ]
  },
  {
   "cell_type": "code",
   "execution_count": null,
   "id": "2edd4910-c4e9-41a8-9600-14acc7bad30f",
   "metadata": {},
   "outputs": [],
   "source": [
    "cl=pd.read_csv(\"Tables/ClassficationMetrics.tsv.gz\", sep=\"\\t\")\n",
    "print(cl.shape)\n",
    "stab=pd.read_csv(\"Tables/Stability.tsv.gz\", sep=\"\\t\")\n",
    "print(stab.shape)\n",
    "spec=pd.read_csv(\"Tables/Specificity.tsv.gz\", sep=\"\\t\")\n",
    "print(spec.shape)\n",
    "tot=pd.concat([cl, stab, spec])\n",
    "print(tot.shape)\n",
    "tot[\"Dataset\"]=tot[\"Dataset\"].str.replace(\"_H\",\"\").str.replace(\"_M\",\"\")\n",
    "order=[\"GRAE\",\"TopoAE\",\"VAE\",\"PeakVI\",\"scVI\",\"pca\"]\n",
    "order=[\"GAT\",\"GCN\"]\n",
    "d=pd.DataFrame()\n",
    "t=tot[tot[\"Representation\"]==\"GRAE\"]\n",
    "for metric in [\"F1W\",\"F1M\",\"Accuracy\",\"Precision\",\"Recall\",\"Stability\",\"Specificity\"]:\n",
    "    gnns=list(t[[metric,\"GNN\"]].groupby(\"GNN\")[metric].mean().index)\n",
    "    mean=np.array(t[[metric,\"GNN\"]].dropna().groupby(\"GNN\")[metric].mean())\n",
    "    sem=np.array(3*t[[metric,\"GNN\"]].dropna().groupby(\"GNN\")[metric].sem())\n",
    "    for g, m, s in zip(gnns, mean, sem):\n",
    "        d=pd.concat([d, pd.DataFrame([metric, g, str(uncertainties.ufloat(m, s))], index=[\"Metric\", \"GNN\", \"Mean +- 3*SEM\"]).T], axis=0)\n",
    "defd=d.pivot(index=\"GNN\", columns=\"Metric\", values=\"Mean +- 3*SEM\").loc[order]\n",
    "for col in defd.columns:\n",
    "    defd[col]=defd[col].str.replace(\"+/-\",u\"\\u00B1\")"
   ]
  },
  {
   "cell_type": "code",
   "execution_count": null,
   "id": "85c8eb52-dad1-4932-98c2-f0fc080ac75b",
   "metadata": {},
   "outputs": [],
   "source": [
    "params = {'axes.labelsize': 15,\n",
    "         'axes.titlesize': 15,\n",
    "         'xtick.labelsize' : 15,\n",
    "         'ytick.labelsize': 15,\n",
    "         \"lines.linewidth\" : 4,\n",
    "         \"figure.dpi\" : 300,\n",
    "         \"figure.figsize\": [12, 8]}\n",
    "plt.rcParams.update(params)\n",
    "hue_order=[\"GAT\",\"GCN\"]\n",
    "\n",
    "new_colors=[ut.colors_to_use_pastel[7]] + [ut.colors_to_use_pastel[-1]]\n",
    "\n",
    "fig, axs = plt.subplots(2,3)\n",
    "axs=axs.flatten()\n",
    "for i, metric in enumerate([\"F1M\",\"Accuracy\",\"Precision\",\"Recall\",\"Specificity\",\"Stability\"]):\n",
    "    means=[float(i.split(u\"\\u00B1\")[0]) for i in np.array(defd[metric])]\n",
    "    sems=[float(i.split(u\"\\u00B1\")[1]) for i in np.array(defd[metric])]\n",
    "    axs[i].errorbar(x=order, y=means, yerr=sems,ls='none', ecolor=new_colors, elinewidth=20, marker=\"o\", c=\"black\")\n",
    "    axs[i].set_ylabel(metric, rotation=90, labelpad=10)\n",
    "    axs[i].set_xticks(axs[i].get_xticks(), order, size=15)\n",
    "    axs[i].spines['top'].set_visible(False)\n",
    "    axs[i].spines['right'].set_visible(False)    \n",
    "    axs[i].text(-0.16, 1.15, string.ascii_uppercase[i], transform=axs[i].transAxes, size=20, weight='bold',rotation=0)    \n",
    "    axs[i].set_xlabel('GNN', rotation=0, labelpad=10)\n",
    "    axs[i].set_ylim([0.78,1])\n",
    "    yticks=[0.80, 0.85, 0.9, 0.95, 1]\n",
    "    axs[i].set_yticks(yticks, yticks)\n",
    "    i+=1\n",
    "axs[0].set_ylabel(\"F1\")\n",
    "fig.tight_layout(h_pad=2, w_pad=4)\n",
    "plt.savefig(\"Figures/SuppFig1.png\", format=\"png\", dpi=300, bbox_inches='tight')\n",
    "plt.show()"
   ]
  },
  {
   "cell_type": "markdown",
   "id": "2063335c-a93f-4312-ad8c-bf017dfa6e1f",
   "metadata": {},
   "source": [
    "## SuppFig2"
   ]
  },
  {
   "cell_type": "code",
   "execution_count": null,
   "id": "eb3e7b5d-4579-474f-ba1e-1272809fb405",
   "metadata": {
    "scrolled": true
   },
   "outputs": [],
   "source": [
    "ds=\"GSE117309\"\n",
    "fs=\"Window\"\n",
    "lab=\"BCsubtype\"\n",
    "gnn=\"GAT\"\n",
    "rep=\"GRAE\"\n",
    "tot=pd.DataFrame(columns=[\"Representation\",\"GNN\",\"Accuracy\",\"Precision\",\"Recall\",\"F1W\",\"F1M\",\"Dataset\",\"FeaturesSpace\"])\n",
    "for run in range(1,51):\n",
    "    file=f\"Datasets/{ds}/FeatureSpaces/{fs}/MS/Run{run}/{ds}_{fs}_{rep}_{gnn}_Predictions.tsv.gz\"\n",
    "    if os.path.isfile(file) == True:               \n",
    "        df=pd.read_csv(file, sep=\"\\t\", index_col=0)\n",
    "        df=df[df[\"GNN_set\"]==\"Test\"]\n",
    "        acc=np.around(df[df[lab]==df[\"GNN_prediction\"]].shape[0]/df.shape[0], decimals=4)\n",
    "        f1=sklearn.metrics.precision_recall_fscore_support(df[lab], df.GNN_prediction, average=\"weighted\")\n",
    "        f1m=sklearn.metrics.precision_recall_fscore_support(df[lab], df.GNN_prediction, average=\"macro\")[2]\n",
    "        to_append=pd.DataFrame(index=tot.columns, data=[rep, gnn, acc] + [f for f in np.array(f1[:3])]+[f1m, \"Breast cancer\", fs]).T\n",
    "        tot=pd.concat([tot, to_append])\n",
    "    else:\n",
    "        print(file)  \n",
    "tot[\"F1W\"]=tot[\"F1W\"].astype(float)\n",
    "tot[\"F1M\"]=tot[\"F1M\"].astype(float)\n",
    "tot[\"Accuracy\"]=tot[\"Accuracy\"].astype(float)\n",
    "tot[\"Precision\"]=tot[\"Precision\"].astype(float)\n",
    "tot[\"Recall\"]=tot[\"Recall\"].astype(float)\n",
    "tot.reset_index(inplace=True)\n",
    "tot.drop(\"index\", axis=1, inplace=True)\n",
    "tot.to_csv(\"Tables/ClassficationMetricsChIPseq.tsv.gz\", sep=\"\\t\", index=None, compression=\"gzip\")\n",
    "tot.head()"
   ]
  },
  {
   "cell_type": "code",
   "execution_count": null,
   "id": "86c0324f-7978-4d41-ab5e-4af910b79f08",
   "metadata": {
    "scrolled": true
   },
   "outputs": [],
   "source": [
    "ds=\"GSE117309\"\n",
    "fs=\"Window\"\n",
    "lab=\"BCsubtype\"\n",
    "gnn=\"GAT\"\n",
    "rep=\"GRAE\"\n",
    "\n",
    "tot=pd.DataFrame(columns=[\"GNN\",\"Representation\",\"celltype\",\"Stability\",\"Dataset\",\"FeaturesSpace\"])\n",
    "n_runs=50\n",
    "dfs=[]\n",
    "for run in range(1, n_runs+1):\n",
    "    file=f\"Datasets/{ds}/FeatureSpaces/{fs}/MS/Run{run}/{ds}_{fs}_{rep}_{gnn}_XAITop50Features.tsv.gz\"\n",
    "    if os.path.isfile(file) != False:\n",
    "        dfs.append(pd.read_csv(file, index_col=0, sep=\"\\t\"))   \n",
    "    else:\n",
    "        print(file)\n",
    "if len(dfs)!=0:\n",
    "    expls={}\n",
    "    for col in dfs[0].columns:\n",
    "        expls[col]=[list(df[col]) for df in dfs]\n",
    "\n",
    "    stabs=[]\n",
    "    for key in expls.keys():\n",
    "        t=pd.DataFrame(expls[key])\n",
    "        table=pd.DataFrame(index=range(0, len(dfs)), columns=range(0, len(dfs)))\n",
    "        for n in range(0, len(dfs)):\n",
    "            for k in range(n, len(dfs)):\n",
    "                table.at[n,k]=len(ut.intersection([t.iloc[n],t.iloc[k]]))/50\n",
    "                table.at[k,n]=table.at[n,k]\n",
    "        stabs.append(table.median().median())\n",
    "    \n",
    "    d=pd.DataFrame(index=tot.columns).T\n",
    "    d[\"celltype\"]=expls.keys()\n",
    "    d[\"Stability\"]=stabs\n",
    "    d[\"GNN\"]=gnn\n",
    "    d[\"Representation\"]=rep\n",
    "    d[\"Dataset\"]=\"Breast cancer\"\n",
    "    d[\"FeaturesSpace\"]=fs\n",
    "    tot=pd.concat([tot, d])\n",
    "tot.reset_index(inplace=True)\n",
    "tot.drop(\"index\", axis=1, inplace=True)\n",
    "tot.to_csv(\"Tables/StabilityChIPseq.tsv.gz\", sep=\"\\t\", index=None, compression=\"gzip\")\n",
    "tot.head()"
   ]
  },
  {
   "cell_type": "code",
   "execution_count": null,
   "id": "53411dcc-b6ee-4d9b-a133-695346c08623",
   "metadata": {},
   "outputs": [],
   "source": [
    "ds=\"GSE117309\"\n",
    "fs=\"Window\"\n",
    "lab=\"BCsubtype\"\n",
    "gnn=\"GAT\"\n",
    "rep=\"GRAE\"\n",
    "\n",
    "tot=pd.DataFrame(columns=[\"GNN\",\"Representation\",\"celltype\",\"Specificity\",\"Dataset\",\"FeaturesSpace\"])\n",
    "data=pd.DataFrame(columns=tot.columns)    \n",
    "n_runs=50\n",
    "for run in range(1, n_runs+1):\n",
    "    file=f\"Datasets/{ds}/FeatureSpaces/{fs}/MS/Run{run}/{ds}_{fs}_{rep}_{gnn}_XAITop50Features_Jaccard.tsv.gz\"\n",
    "    if os.path.isfile(file) != False: \n",
    "        df=pd.read_csv(file, sep=\"\\t\", index_col=0)\n",
    "        d=pd.DataFrame(index=data.columns).T\n",
    "        d[\"celltype\"]=df.columns\n",
    "        d[\"GNN\"]=gnn\n",
    "        d[\"Representation\"]=rep\n",
    "        d[\"Specificity\"]=np.array(1-np.median(df))\n",
    "        d[\"Dataset\"]=\"Breast cancer\"\n",
    "        d[\"FeaturesSpace\"]=fs\n",
    "        tot=pd.concat([tot, d])\n",
    "    else:\n",
    "        print(file)\n",
    "tot.reset_index(inplace=True)\n",
    "tot.drop(\"index\", axis=1, inplace=True)\n",
    "tot.to_csv(\"Tables/SpecificityChIPseq.tsv.gz\", sep=\"\\t\", index=None, compression=\"gzip\")\n",
    "tot.head()"
   ]
  },
  {
   "cell_type": "code",
   "execution_count": null,
   "id": "a340faea-de36-4767-8ac7-ebaa3772513b",
   "metadata": {},
   "outputs": [],
   "source": []
  },
  {
   "cell_type": "code",
   "execution_count": null,
   "id": "70b4bc01-f240-470a-a2b3-5de2b4a4d8e7",
   "metadata": {},
   "outputs": [],
   "source": [
    "cl=pd.read_csv(\"Tables/ClassficationMetricsChIPseq.tsv.gz\", sep=\"\\t\")\n",
    "stab=pd.read_csv(\"Tables/StabilityChIPseq.tsv.gz\", sep=\"\\t\")\n",
    "spec=pd.read_csv(\"Tables/SpecificityChIPseq.tsv.gz\", sep=\"\\t\")\n",
    "tot=pd.concat([cl, stab, spec])\n",
    "tot[\"Dataset\"]=tot[\"Dataset\"].str.replace(\"_H\",\"\").str.replace(\"_M\",\"\")\n",
    "tot.rename({\"F1M\" : \"F1\"}, axis=1, inplace=True)\n",
    "order=[\"GRAE\"]\n",
    "d=pd.DataFrame()\n",
    "for metric in [\"F1\",\"Accuracy\",\"Precision\",\"Recall\",\"Stability\",\"Specificity\"]:\n",
    "    t=tot[tot[\"GNN\"]==\"GAT\"]\n",
    "    mean=np.array(t[[metric,\"Representation\"]].dropna().groupby(\"Representation\")[metric].mean().loc[order])\n",
    "    sem=np.array(3*t[[metric,\"Representation\"]].dropna().groupby(\"Representation\")[metric].sem().loc[order])\n",
    "    for ae, m, s in zip(order, mean, sem):\n",
    "        d=pd.concat([d, pd.DataFrame([metric, ae, str(uncertainties.ufloat(m, s))], index=[\"Metric\", \"DR method\", \"Mean +- 3*SEM\"]).T], axis=0)\n",
    "defd=d.pivot(index=\"DR method\", columns=\"Metric\", values=\"Mean +- 3*SEM\").loc[order]\n",
    "for col in defd.columns:\n",
    "    defd[col]=defd[col].str.replace(\"+/-\",u\"\\u00B1\")\n",
    "defd"
   ]
  },
  {
   "cell_type": "code",
   "execution_count": null,
   "id": "7427bf2d-9932-4ed1-8700-1d801c722cc3",
   "metadata": {},
   "outputs": [],
   "source": [
    "params = {'axes.labelsize': 15,\n",
    "         'axes.titlesize': 15,\n",
    "         'xtick.labelsize' : 15,\n",
    "         'ytick.labelsize': 15,\n",
    "         \"lines.linewidth\" : 4,\n",
    "         \"figure.dpi\" : 300,\n",
    "         \"figure.figsize\": [12, 5]}\n",
    "plt.rcParams.update(params)\n",
    "\n",
    "t=tot[tot[\"GNN\"]==\"GAT\"]\n",
    "t[\"FeaturesSpace\"]=\"Windows\"\n",
    "fig, axs = plt.subplots(1,2)\n",
    "axs=axs.flatten()\n",
    "for i, metric in enumerate([\"F1\",\"Accuracy\",\"Precision\",\"Recall\",\"Specificity\",\"Stability\"]):\n",
    "    means=[float(i.split(u\"\\u00B1\")[0]) for i in np.array(defd[metric])]\n",
    "    sems=[float(i.split(u\"\\u00B1\")[1]) for i in np.array(defd[metric])]\n",
    "    ax = axs[0] if i < 4 else axs[1]\n",
    "    ax.errorbar(y=metric, x=means, xerr=sems,ls='none', ecolor=feats_palette[\"Windows\"], elinewidth=20, marker=\"o\", c=\"black\", zorder=10)\n",
    "\n",
    "d=t[[\"F1\",\"Accuracy\",\"Precision\",\"Recall\"]].dropna().melt()\n",
    "sns.stripplot(data=d, x=\"value\", y=\"variable\", ax=axs[0], alpha=0.75, color=feats_palette[\"Windows\"], zorder=1)\n",
    "\n",
    "d=t[[\"Specificity\",\"Stability\"]].melt()\n",
    "sns.stripplot(data=d, x=\"value\", y=\"variable\", ax=axs[1], alpha=0.5, color=feats_palette[\"Windows\"], zorder=1)\n",
    "\n",
    "for i, ax in enumerate(axs):    \n",
    "    ax.set_ylabel(\"Metric\")\n",
    "    ax.set_xlabel(\"Value\")\n",
    "    ax.spines['top'].set_visible(False)\n",
    "    ax.spines['right'].set_visible(False)    \n",
    "    ax.text(-0.16, 1.15, string.ascii_uppercase[i], transform=axs[i].transAxes, size=20, weight='bold',rotation=0)    \n",
    "    #ax.set_xlabel('Method', rotation=0, labelpad=10)\n",
    "    ax.set_xlim([0,1])\n",
    "    xticks=np.around(np.linspace(0, 1, 6), 1)\n",
    "    ax.set_xticks(xticks, xticks)\n",
    "        \n",
    "fig.tight_layout(h_pad=2, w_pad=3)\n",
    "plt.savefig(\"Figures/SuppFig2.png\", format=\"png\", dpi=300, bbox_inches='tight')\n",
    "plt.show()"
   ]
  },
  {
   "cell_type": "code",
   "execution_count": null,
   "id": "15549ea4-f3d1-4fbf-a2a9-e005abc69b36",
   "metadata": {},
   "outputs": [],
   "source": []
  }
 ],
 "metadata": {
  "kernelspec": {
   "display_name": "Python 3 (ipykernel)",
   "language": "python",
   "name": "python3"
  },
  "language_info": {
   "codemirror_mode": {
    "name": "ipython",
    "version": 3
   },
   "file_extension": ".py",
   "mimetype": "text/x-python",
   "name": "python",
   "nbconvert_exporter": "python",
   "pygments_lexer": "ipython3",
   "version": "3.10.14"
  },
  "toc": {
   "base_numbering": 1,
   "nav_menu": {},
   "number_sections": true,
   "sideBar": true,
   "skip_h1_title": false,
   "title_cell": "Table of Contents",
   "title_sidebar": "Contents",
   "toc_cell": false,
   "toc_position": {
    "height": "calc(100% - 180px)",
    "left": "10px",
    "top": "150px",
    "width": "444.391px"
   },
   "toc_section_display": true,
   "toc_window_display": true
  },
  "varInspector": {
   "cols": {
    "lenName": 16,
    "lenType": 16,
    "lenVar": 40
   },
   "kernels_config": {
    "python": {
     "delete_cmd_postfix": "",
     "delete_cmd_prefix": "del ",
     "library": "var_list.py",
     "varRefreshCmd": "print(var_dic_list())"
    },
    "r": {
     "delete_cmd_postfix": ") ",
     "delete_cmd_prefix": "rm(",
     "library": "var_list.r",
     "varRefreshCmd": "cat(var_dic_list()) "
    }
   },
   "types_to_exclude": [
    "module",
    "function",
    "builtin_function_or_method",
    "instance",
    "_Feature"
   ],
   "window_display": false
  }
 },
 "nbformat": 4,
 "nbformat_minor": 5
}
