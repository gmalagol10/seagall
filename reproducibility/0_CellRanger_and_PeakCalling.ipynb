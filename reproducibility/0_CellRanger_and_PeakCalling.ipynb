{
 "cells": [
  {
   "cell_type": "code",
   "execution_count": null,
   "id": "396b119a",
   "metadata": {
    "scrolled": true
   },
   "outputs": [],
   "source": [
    "import os"
   ]
  },
  {
   "cell_type": "markdown",
   "id": "913ced17-8c7f-4e49-8882-f1af9140d6a7",
   "metadata": {},
   "source": [
    "Replace the folders path with the appropriate ones of your machine"
   ]
  },
  {
   "cell_type": "markdown",
   "id": "42fdb08c",
   "metadata": {},
   "source": [
    "# Human Brain\n",
    "\n",
    "Data from https://www.10xgenomics.com/datasets/frozen-human-healthy-brain-tissue-3-k-1-standard-2-0-0\n",
    "\n",
    "Metadata see Notebook cell type annotation"
   ]
  },
  {
   "cell_type": "markdown",
   "id": "74c23ec7-a857-4c44-952f-14484f37366e",
   "metadata": {},
   "source": [
    "## CellRanger"
   ]
  },
  {
   "cell_type": "code",
   "execution_count": null,
   "id": "ec85fd1d-7180-4586-9e3a-8fd8809c9210",
   "metadata": {},
   "outputs": [],
   "source": [
    "os.system(\"sbatch -J CRABrain --mem=128G --nodes=1 --exclusive --output=/store24/project24/ladcol_012/GNN/Datasets/10XhsBrain3kMO/Out/10XhsBrain3kMO_0_CellRangerArcT2T.out \\\n",
    "            0_CellRangerArc.sh human_brain_3k \\\n",
    "            /store24/project24/ladcol_012/AnnotRef/hs/T2T/References/T2T_CRArc \\\n",
    "            /store24/project24/ladcol_012/GNN/Datasets/10XhsBrain3kMO/Fastq/human_brain_3k/gex \\\n",
    "            /store24/project24/ladcol_012/GNN/Datasets/10XhsBrain3kMO/Fastq/human_brain_3k/atac \\\n",
    "            128 64 \\\n",
    "            /store24/project24/ladcol_012/GNN/Datasets/10XhsBrain3kMO/\")"
   ]
  },
  {
   "cell_type": "code",
   "execution_count": null,
   "id": "506354fc-4e15-4c73-a2ef-36c851bdc013",
   "metadata": {},
   "outputs": [],
   "source": [
    "os.system(\"sbatch -J PCBrain -p slim18 --mem=128G --nodes=1 \\\n",
    "--output=Datasets/HumanBrain/Out/HumanBrain_1_PeakCalling.out \\\n",
    "1_PeakCalling.sh Datasets/HumanBrain/FragFile/atac_fragments.tsv.gz HumanBrain \\\n",
    "Datasets/HumanBrain/FragFile/HumanBrain_PeakCalling 3088269832\")"
   ]
  },
  {
   "cell_type": "code",
   "execution_count": null,
   "id": "34413071-77b1-4ec8-b1d8-cc6ee91bafba",
   "metadata": {},
   "outputs": [],
   "source": []
  },
  {
   "cell_type": "markdown",
   "id": "072a4618-23fc-4542-a524-73e6b9ff4134",
   "metadata": {},
   "source": [
    "# PBMC\n",
    "\n",
    "Data from https://www.10xgenomics.com/datasets/pbmc-from-a-healthy-donor-no-cell-sorting-10-k-1-standard-2-0-0\n",
    "\n",
    "Metadata see Notebook cell type annotation"
   ]
  },
  {
   "cell_type": "markdown",
   "id": "6b2d9fb7-762b-4f32-b4db-e3e38a6384ff",
   "metadata": {},
   "source": [
    "## CellRanger"
   ]
  },
  {
   "cell_type": "code",
   "execution_count": null,
   "id": "403c0c46-ff9a-495f-9243-3cd1e7d2beba",
   "metadata": {},
   "outputs": [],
   "source": [
    "os.system(\"sbatch -J CRAPBMC --mem=128G --nodes=1 --exclusive --output=/store24/project24/ladcol_012/GNN/Datasets/10XhsPBMC10kMO/Out/10XhsPBMC10kMO_0_CellRangerArcT2T.out \\\n",
    "            0_CellRangerArc.sh pbmc_unsorted_10k \\\n",
    "            /store24/project24/ladcol_012/AnnotRef/hs/T2T/References/T2T_CRArc \\\n",
    "            /store24/project24/ladcol_012/GNN/Datasets/10XhsPBMC10kMO/Fastq/pbmc_unsorted_10k/gex \\\n",
    "            /store24/project24/ladcol_012/GNN/Datasets/10XhsPBMC10kMO/Fastq/pbmc_unsorted_10k/atac/ \\\n",
    "            128 64 \\\n",
    "            /store24/project24/ladcol_012/GNN/Datasets/10XhsPBMC10kMO/\")"
   ]
  },
  {
   "cell_type": "code",
   "execution_count": null,
   "id": "d656dc20-5bf7-4dd7-95b5-ffca4622c2f3",
   "metadata": {},
   "outputs": [],
   "source": [
    "os.system(\"sbatch -J PCPBMC -p slim18 --mem=128G --nodes=1 \\\n",
    "--output=Datasets/10XhsPBMC10kMO/Out/10XhsPBMC10kMO_1_PeakCalling.out \\\n",
    "1_PeakCalling.sh Datasets/10XhsPBMC10kMO/FragFile/atac_fragments.tsv.gz 10XhsPBMC10kMO \\\n",
    "Datasets/10XhsPBMC10kMO/FragFile/10XhsPBMC10kMO_PeakCalling 3088269832\")"
   ]
  },
  {
   "cell_type": "code",
   "execution_count": null,
   "id": "b329602d-c69e-4fd7-8b67-149b906d7d2f",
   "metadata": {},
   "outputs": [],
   "source": []
  },
  {
   "cell_type": "markdown",
   "id": "182fb77d-6713-4a3d-9717-c310c676fa80",
   "metadata": {},
   "source": [
    "# HSPC\n",
    "\n",
    "Data and metadata from https://www.nature.com/articles/s41587-022-01476-y 0th day"
   ]
  },
  {
   "cell_type": "markdown",
   "id": "8008f7a9-2475-4b6c-b7ce-2ca9ad9e9d35",
   "metadata": {},
   "source": [
    "## PC"
   ]
  },
  {
   "cell_type": "code",
   "execution_count": null,
   "id": "fcdad485-55a8-4dfa-9361-c4ba643c4eff",
   "metadata": {},
   "outputs": [],
   "source": [
    "os.system(f\"mkdir -p Datasets/HSPC/Out\")"
   ]
  },
  {
   "cell_type": "code",
   "execution_count": null,
   "id": "ad7b503d-4b4e-4ff5-a7bf-9e6edc7630c8",
   "metadata": {},
   "outputs": [],
   "source": [
    "os.system(\"sbatch -J PCMB -p slim18 --mem=128G --nodes=1 \\\n",
    "--output=Datasets/HSPC/Out/HSPC_1_PeakCalling.out \\\n",
    "1_PeakCalling.sh Datasets/HSPC/FragFile/GSM6403411_3423-MV-2_atac_fragments.tsv.gz HSPC \\\n",
    "Datasets/HSPC/FragFile/HSPC_PeakCalling 3088269832\")"
   ]
  },
  {
   "cell_type": "markdown",
   "id": "78ae394d-76d4-4282-9d15-cec789ac1c28",
   "metadata": {},
   "source": [
    "# MouseBrain\n",
    "\n",
    "Data from \n",
    "https://www.10xgenomics.com/datasets/fresh-embryonic-e-18-mouse-brain-5-k-1-standard-1-0-0\n",
    "\n",
    "Metadata from https://www.nature.com/articles/s41587-022-01476-y"
   ]
  },
  {
   "cell_type": "markdown",
   "id": "3cebc6ad-e185-4ae5-b4ed-eb89afeb075f",
   "metadata": {},
   "source": [
    "## PC"
   ]
  },
  {
   "cell_type": "code",
   "execution_count": null,
   "id": "1beb8619-7bc4-4908-9399-a944527285c5",
   "metadata": {},
   "outputs": [],
   "source": [
    "os.system(f\"mkdir -p Datasets/MouseBrain/Out\")"
   ]
  },
  {
   "cell_type": "code",
   "execution_count": null,
   "id": "0aff49b4-48ed-48dc-8157-373c846b5cbb",
   "metadata": {},
   "outputs": [],
   "source": [
    "os.system(\"sbatch -J PCMB -p slim18 --mem=128G --nodes=1 \\\n",
    "--output=Datasets/MouseBrain/Out/MouseBrain_1_PeakCalling.out \\\n",
    "1_PeakCalling.sh Datasets/MouseBrain/FragFile/e18_mouse_brain_fresh_5k_atac_fragments.tsv.gz MouseBrain \\\n",
    "Datasets/MouseBrain/FragFile/MouseBrain_PeakCalling 2723414844\")"
   ]
  },
  {
   "cell_type": "markdown",
   "id": "f477dc21-c7aa-40fd-909d-32c3782d38eb",
   "metadata": {},
   "source": [
    "# Kidney\n",
    "\n",
    "Data and metadata from https://www.ncbi.nlm.nih.gov/geo/query/acc.cgi?acc=GSE172008 (rep_1)"
   ]
  },
  {
   "cell_type": "code",
   "execution_count": null,
   "id": "a209e9fb-2918-4e9e-9201-101df254f769",
   "metadata": {},
   "outputs": [],
   "source": [
    "os.system(\"sbatch -J CRKid --time 0 --mem=230G --nodes=1 \\\n",
    "--output=Datasets/Kidney/Out/92437_0_CellRangerATAC_T2T.out \\\n",
    "0_CellRangerATAC.sh 92437 /store24/project24/ladcol_012/AnnotRef/hs/T2T/References/T2T_CRArc \\\n",
    "/store24/project24/ladcol_012/GNN/Datasets/Kidney/Fastq/92437 230 64\")"
   ]
  },
  {
   "cell_type": "markdown",
   "id": "141a3973-0a7b-46ce-8935-1e90d9a205ab",
   "metadata": {},
   "source": [
    "## PC"
   ]
  },
  {
   "cell_type": "code",
   "execution_count": null,
   "id": "f6f10250-f70f-474c-8588-1966abc29757",
   "metadata": {},
   "outputs": [],
   "source": [
    "os.system(\"sbatch -J PCKidney -p slim18 --mem=128G --nodes=1 \\\n",
    "--output=Datasets/Kidney/Out/92437_1_PeakCalling.out \\\n",
    "1_PeakCalling.sh Datasets/Kidney/FragFile/fragments.tsv.gz 92437 \\\n",
    "Datasets/Kidney/FragFile/92437_PeakCalling 3088269832\")"
   ]
  },
  {
   "cell_type": "code",
   "execution_count": null,
   "id": "e21727c9-8bb7-4c0b-919d-f80a08b364c2",
   "metadata": {},
   "outputs": [],
   "source": []
  },
  {
   "cell_type": "code",
   "execution_count": null,
   "id": "a45ec494-d969-4b50-8f55-46b7f1cac04d",
   "metadata": {},
   "outputs": [],
   "source": []
  },
  {
   "cell_type": "code",
   "execution_count": null,
   "id": "2ce0a68e-0dcd-4896-98e1-48c397471aa9",
   "metadata": {},
   "outputs": [],
   "source": []
  }
 ],
 "metadata": {
  "kernelspec": {
   "display_name": "Python 3 (ipykernel)",
   "language": "python",
   "name": "python3"
  },
  "language_info": {
   "codemirror_mode": {
    "name": "ipython",
    "version": 3
   },
   "file_extension": ".py",
   "mimetype": "text/x-python",
   "name": "python",
   "nbconvert_exporter": "python",
   "pygments_lexer": "ipython3",
   "version": "3.10.14"
  },
  "toc": {
   "base_numbering": 1,
   "nav_menu": {},
   "number_sections": true,
   "sideBar": true,
   "skip_h1_title": false,
   "title_cell": "Table of Contents",
   "title_sidebar": "Contents",
   "toc_cell": false,
   "toc_position": {
    "height": "calc(100% - 180px)",
    "left": "10px",
    "top": "150px",
    "width": "384px"
   },
   "toc_section_display": true,
   "toc_window_display": true
  }
 },
 "nbformat": 4,
 "nbformat_minor": 5
}
